{
 "cells": [
  {
   "cell_type": "markdown",
   "id": "8d044f315c1b4e2d",
   "metadata": {},
   "source": [
    "# Context\n",
    "\n",
    "In the framework of the \"Greening the City\" program organized by the City of Paris, we are conducting an exploratory data analysis on OpenData about trees managed by the City of Paris. The goal is to assist Paris in becoming a \"Smart City\" by managing its trees as responsibly as possible. That is, by optimizing the routes necessary for the maintenance of these trees. This entails a thorough assessment of the dataset's quality, focusing on the accuracy and consistency of the information provided. Our analysis aims to uncover any discrepancies, missing data, or inconsistencies that could hinder effective tree management strategies. By identifying these areas for improvement, we aim to enhance the overall coherence of the data, ensuring that the individuals responsible for the upkeep of Paris's urban forestry have access to reliable and actionable insights. This will empower them to make informed decisions regarding the care and maintenance of the city’s green spaces, contributing to the sustainability and beautification of Paris.\n",
    "\n",
    "## Tools used\n",
    "\n",
    "- Python # Programming language\n",
    "- Jupyter Notebook # Web-based interactive computing notebook\n",
    "- Pandas # Data manipulation library\n",
    "- Matplotlib # Data visualization library\n",
    "- Seaborn # Data visualization library\n",
    "- See README.md for setup instructions and general information\n"
   ]
  },
  {
   "cell_type": "markdown",
   "id": "441a0c5628b6410c",
   "metadata": {},
   "source": [
    "# Step 1: Perform a Naive Analysis of the Dataset (before cleaning)"
   ]
  },
  {
   "cell_type": "code",
   "execution_count": 1,
   "id": "8471249cb1746ef2",
   "metadata": {
    "ExecuteTime": {
     "end_time": "2024-03-31T09:42:45.869849Z",
     "start_time": "2024-03-31T09:42:45.854779Z"
    }
   },
   "outputs": [],
   "source": [
    "import pandas as pd # Import the pandas library used to manipulate the data\n"
   ]
  },
  {
   "cell_type": "markdown",
   "id": "644ee12749bc3a0",
   "metadata": {},
   "source": [
    "## load the dataset"
   ]
  },
  {
   "cell_type": "code",
   "execution_count": 2,
   "id": "d86d756c67d9d0a4",
   "metadata": {
    "ExecuteTime": {
     "end_time": "2024-03-31T09:42:46.290272Z",
     "start_time": "2024-03-31T09:42:45.871847Z"
    }
   },
   "outputs": [],
   "source": [
    "# Relative path to the CSV file from with the data\n",
    "file_path = '../data/P2-arbres-fr.csv' \n",
    "\n",
    "# Load the data of the csv file into a DataFrame with a separator ;\n",
    "df = pd.read_csv(file_path, sep=';') "
   ]
  },
  {
   "cell_type": "markdown",
   "id": "fae976912f652545",
   "metadata": {},
   "source": [
    "## Display the number of rows and columns to get a general overview of the dataset"
   ]
  },
  {
   "cell_type": "code",
   "execution_count": 3,
   "id": "8f208277595d9bb4",
   "metadata": {
    "ExecuteTime": {
     "end_time": "2024-03-31T09:42:46.306346Z",
     "start_time": "2024-03-31T09:42:46.292272Z"
    }
   },
   "outputs": [
    {
     "name": "stdout",
     "output_type": "stream",
     "text": [
      "The dataset contains 200137 rows (instances) and 18 columns (variables).\n"
     ]
    }
   ],
   "source": [
    "print(f'The dataset contains {df.shape[0]} rows (instances) and {df.shape[1]} columns (variables).') "
   ]
  },
  {
   "cell_type": "markdown",
   "id": "2c545e8c1cb1e675",
   "metadata": {},
   "source": [
    "## Get general information on columns, data types, etc."
   ]
  },
  {
   "cell_type": "code",
   "execution_count": 4,
   "id": "e0bda1057efeba44",
   "metadata": {
    "ExecuteTime": {
     "end_time": "2024-03-31T09:42:46.398507Z",
     "start_time": "2024-03-31T09:42:46.308347Z"
    }
   },
   "outputs": [
    {
     "name": "stdout",
     "output_type": "stream",
     "text": [
      "<class 'pandas.core.frame.DataFrame'>\n",
      "RangeIndex: 200137 entries, 0 to 200136\n",
      "Data columns (total 18 columns):\n",
      " #   Column               Non-Null Count   Dtype  \n",
      "---  ------               --------------   -----  \n",
      " 0   id                   200137 non-null  int64  \n",
      " 1   type_emplacement     200137 non-null  object \n",
      " 2   domanialite          200136 non-null  object \n",
      " 3   arrondissement       200137 non-null  object \n",
      " 4   complement_addresse  30902 non-null   object \n",
      " 5   numero               0 non-null       float64\n",
      " 6   lieu                 200137 non-null  object \n",
      " 7   id_emplacement       200137 non-null  object \n",
      " 8   libelle_francais     198640 non-null  object \n",
      " 9   genre                200121 non-null  object \n",
      " 10  espece               198385 non-null  object \n",
      " 11  variete              36777 non-null   object \n",
      " 12  circonference_cm     200137 non-null  int64  \n",
      " 13  hauteur_m            200137 non-null  int64  \n",
      " 14  stade_developpement  132932 non-null  object \n",
      " 15  remarquable          137039 non-null  float64\n",
      " 16  geo_point_2d_a       200137 non-null  float64\n",
      " 17  geo_point_2d_b       200137 non-null  float64\n",
      "dtypes: float64(4), int64(3), object(11)\n",
      "memory usage: 27.5+ MB\n"
     ]
    }
   ],
   "source": [
    "df.info()"
   ]
  },
  {
   "cell_type": "markdown",
   "id": "70371646587492fb",
   "metadata": {
    "collapsed": false
   },
   "source": [
    "## Glossary of Data Types"
   ]
  },
  {
   "cell_type": "markdown",
   "id": "507052cced52a687",
   "metadata": {
    "collapsed": false
   },
   "source": [
    "### The data contains several columns relevant to our analysis of trees in Paris, including:\n",
    "\n",
    "- `IDBASE`: Unique identifier of the tree.\n",
    "- `TYPE EMPLACEMENT`: Type of location (Tree).\n",
    "- `DOMANIALITE`: Type of domain (Garden, Alignment, Cemetery, etc.).\n",
    "- `ARRONDISSEMENT`: Location by district or by woods (e.g., Bois de Boulogne).\n",
    "- `COMPLEMENT ADRESSE, NUMERO, LIEU / ADRESSE`: Address details.\n",
    "- `IDEMPLACEMENT`: Identifier of the location.\n",
    "- `LIBELLE FRANCAIS, GENRE, ESPECE, VARIETE OUCULTIVAR`: Botanical details of the tree.\n",
    "- `CIRCONFERENCE (cm)`: Circumference of the tree in cm.\n",
    "- `HAUTEUR (m)`: Height of the tree in meters.\n",
    "- `STADE DE DEVELOPPEMENT`: Indicates the stage of development of the tree (Young, Mature, etc.).\n",
    "- `REMARQUABLE`: Whether the tree is classified as remarkable.\n",
    "- `geo_point_2d`: Geographical coordinates."
   ]
  },
  {
   "cell_type": "markdown",
   "id": "8c1e78d119fe4c53",
   "metadata": {
    "collapsed": false
   },
   "source": [
    "### The data types in the dataset can be classified into two main categories: quantitative and qualitative."
   ]
  },
  {
   "cell_type": "code",
   "execution_count": 5,
   "id": "7580d3fdc88a67ac",
   "metadata": {
    "ExecuteTime": {
     "end_time": "2024-03-31T09:42:46.413925Z",
     "start_time": "2024-03-31T09:42:46.401509Z"
    },
    "collapsed": false
   },
   "outputs": [
    {
     "data": {
      "text/plain": [
       "object     11\n",
       "float64     4\n",
       "int64       3\n",
       "Name: count, dtype: int64"
      ]
     },
     "execution_count": 5,
     "metadata": {},
     "output_type": "execute_result"
    }
   ],
   "source": [
    "df.dtypes.value_counts() # Count the number of columns with each data type"
   ]
  },
  {
   "cell_type": "markdown",
   "id": "b52dd871bbfe49c0",
   "metadata": {},
   "source": [
    "## Observations:\n",
    "\n",
    "    7 quantitative variables\n",
    "    11 qualitative (categorical) variables"
   ]
  },
  {
   "cell_type": "markdown",
   "id": "944a08bf7b088195",
   "metadata": {},
   "source": [
    "## Display the first few rows of the DataFrame for an initial overview of the data"
   ]
  },
  {
   "cell_type": "code",
   "execution_count": 6,
   "id": "initial_id",
   "metadata": {
    "ExecuteTime": {
     "end_time": "2024-03-31T09:42:46.445476Z",
     "start_time": "2024-03-31T09:42:46.415927Z"
    },
    "collapsed": true,
    "jupyter": {
     "outputs_hidden": true
    }
   },
   "outputs": [
    {
     "data": {
      "text/html": [
       "<div>\n",
       "<style scoped>\n",
       "    .dataframe tbody tr th:only-of-type {\n",
       "        vertical-align: middle;\n",
       "    }\n",
       "\n",
       "    .dataframe tbody tr th {\n",
       "        vertical-align: top;\n",
       "    }\n",
       "\n",
       "    .dataframe thead th {\n",
       "        text-align: right;\n",
       "    }\n",
       "</style>\n",
       "<table border=\"1\" class=\"dataframe\">\n",
       "  <thead>\n",
       "    <tr style=\"text-align: right;\">\n",
       "      <th></th>\n",
       "      <th>id</th>\n",
       "      <th>type_emplacement</th>\n",
       "      <th>domanialite</th>\n",
       "      <th>arrondissement</th>\n",
       "      <th>complement_addresse</th>\n",
       "      <th>numero</th>\n",
       "      <th>lieu</th>\n",
       "      <th>id_emplacement</th>\n",
       "      <th>libelle_francais</th>\n",
       "      <th>genre</th>\n",
       "      <th>espece</th>\n",
       "      <th>variete</th>\n",
       "      <th>circonference_cm</th>\n",
       "      <th>hauteur_m</th>\n",
       "      <th>stade_developpement</th>\n",
       "      <th>remarquable</th>\n",
       "      <th>geo_point_2d_a</th>\n",
       "      <th>geo_point_2d_b</th>\n",
       "    </tr>\n",
       "  </thead>\n",
       "  <tbody>\n",
       "    <tr>\n",
       "      <th>0</th>\n",
       "      <td>99874</td>\n",
       "      <td>Arbre</td>\n",
       "      <td>Jardin</td>\n",
       "      <td>PARIS 7E ARRDT</td>\n",
       "      <td>NaN</td>\n",
       "      <td>NaN</td>\n",
       "      <td>MAIRIE DU 7E 116 RUE DE GRENELLE PARIS 7E</td>\n",
       "      <td>19</td>\n",
       "      <td>Marronnier</td>\n",
       "      <td>Aesculus</td>\n",
       "      <td>hippocastanum</td>\n",
       "      <td>NaN</td>\n",
       "      <td>20</td>\n",
       "      <td>5</td>\n",
       "      <td>NaN</td>\n",
       "      <td>0.0</td>\n",
       "      <td>48.857620</td>\n",
       "      <td>2.320962</td>\n",
       "    </tr>\n",
       "    <tr>\n",
       "      <th>1</th>\n",
       "      <td>99875</td>\n",
       "      <td>Arbre</td>\n",
       "      <td>Jardin</td>\n",
       "      <td>PARIS 7E ARRDT</td>\n",
       "      <td>NaN</td>\n",
       "      <td>NaN</td>\n",
       "      <td>MAIRIE DU 7E 116 RUE DE GRENELLE PARIS 7E</td>\n",
       "      <td>20</td>\n",
       "      <td>If</td>\n",
       "      <td>Taxus</td>\n",
       "      <td>baccata</td>\n",
       "      <td>NaN</td>\n",
       "      <td>65</td>\n",
       "      <td>8</td>\n",
       "      <td>A</td>\n",
       "      <td>NaN</td>\n",
       "      <td>48.857656</td>\n",
       "      <td>2.321031</td>\n",
       "    </tr>\n",
       "    <tr>\n",
       "      <th>2</th>\n",
       "      <td>99876</td>\n",
       "      <td>Arbre</td>\n",
       "      <td>Jardin</td>\n",
       "      <td>PARIS 7E ARRDT</td>\n",
       "      <td>NaN</td>\n",
       "      <td>NaN</td>\n",
       "      <td>MAIRIE DU 7E 116 RUE DE GRENELLE PARIS 7E</td>\n",
       "      <td>21</td>\n",
       "      <td>If</td>\n",
       "      <td>Taxus</td>\n",
       "      <td>baccata</td>\n",
       "      <td>NaN</td>\n",
       "      <td>90</td>\n",
       "      <td>10</td>\n",
       "      <td>A</td>\n",
       "      <td>NaN</td>\n",
       "      <td>48.857705</td>\n",
       "      <td>2.321061</td>\n",
       "    </tr>\n",
       "    <tr>\n",
       "      <th>3</th>\n",
       "      <td>99877</td>\n",
       "      <td>Arbre</td>\n",
       "      <td>Jardin</td>\n",
       "      <td>PARIS 7E ARRDT</td>\n",
       "      <td>NaN</td>\n",
       "      <td>NaN</td>\n",
       "      <td>MAIRIE DU 7E 116 RUE DE GRENELLE PARIS 7E</td>\n",
       "      <td>22</td>\n",
       "      <td>Erable</td>\n",
       "      <td>Acer</td>\n",
       "      <td>negundo</td>\n",
       "      <td>NaN</td>\n",
       "      <td>60</td>\n",
       "      <td>8</td>\n",
       "      <td>A</td>\n",
       "      <td>NaN</td>\n",
       "      <td>48.857722</td>\n",
       "      <td>2.321006</td>\n",
       "    </tr>\n",
       "    <tr>\n",
       "      <th>4</th>\n",
       "      <td>99878</td>\n",
       "      <td>Arbre</td>\n",
       "      <td>Jardin</td>\n",
       "      <td>PARIS 17E ARRDT</td>\n",
       "      <td>NaN</td>\n",
       "      <td>NaN</td>\n",
       "      <td>PARC CLICHY-BATIGNOLLES-MARTIN LUTHER KING</td>\n",
       "      <td>000G0037</td>\n",
       "      <td>Arbre à miel</td>\n",
       "      <td>Tetradium</td>\n",
       "      <td>daniellii</td>\n",
       "      <td>NaN</td>\n",
       "      <td>38</td>\n",
       "      <td>0</td>\n",
       "      <td>NaN</td>\n",
       "      <td>NaN</td>\n",
       "      <td>48.890435</td>\n",
       "      <td>2.315289</td>\n",
       "    </tr>\n",
       "  </tbody>\n",
       "</table>\n",
       "</div>"
      ],
      "text/plain": [
       "      id type_emplacement domanialite   arrondissement complement_addresse  \\\n",
       "0  99874            Arbre      Jardin   PARIS 7E ARRDT                 NaN   \n",
       "1  99875            Arbre      Jardin   PARIS 7E ARRDT                 NaN   \n",
       "2  99876            Arbre      Jardin   PARIS 7E ARRDT                 NaN   \n",
       "3  99877            Arbre      Jardin   PARIS 7E ARRDT                 NaN   \n",
       "4  99878            Arbre      Jardin  PARIS 17E ARRDT                 NaN   \n",
       "\n",
       "   numero                                        lieu id_emplacement  \\\n",
       "0     NaN   MAIRIE DU 7E 116 RUE DE GRENELLE PARIS 7E             19   \n",
       "1     NaN   MAIRIE DU 7E 116 RUE DE GRENELLE PARIS 7E             20   \n",
       "2     NaN   MAIRIE DU 7E 116 RUE DE GRENELLE PARIS 7E             21   \n",
       "3     NaN   MAIRIE DU 7E 116 RUE DE GRENELLE PARIS 7E             22   \n",
       "4     NaN  PARC CLICHY-BATIGNOLLES-MARTIN LUTHER KING       000G0037   \n",
       "\n",
       "  libelle_francais      genre         espece variete  circonference_cm  \\\n",
       "0       Marronnier   Aesculus  hippocastanum     NaN                20   \n",
       "1               If      Taxus        baccata     NaN                65   \n",
       "2               If      Taxus        baccata     NaN                90   \n",
       "3           Erable       Acer        negundo     NaN                60   \n",
       "4     Arbre à miel  Tetradium      daniellii     NaN                38   \n",
       "\n",
       "   hauteur_m stade_developpement  remarquable  geo_point_2d_a  geo_point_2d_b  \n",
       "0          5                 NaN          0.0       48.857620        2.320962  \n",
       "1          8                   A          NaN       48.857656        2.321031  \n",
       "2         10                   A          NaN       48.857705        2.321061  \n",
       "3          8                   A          NaN       48.857722        2.321006  \n",
       "4          0                 NaN          NaN       48.890435        2.315289  "
      ]
     },
     "execution_count": 6,
     "metadata": {},
     "output_type": "execute_result"
    }
   ],
   "source": [
    "# Display the first few rows of the DataFrame for an initial overview of the data\n",
    "df.head()"
   ]
  },
  {
   "cell_type": "markdown",
   "id": "1d4d3fb0e410f1ca",
   "metadata": {},
   "source": [
    "# Step 2: Conduct a Detailed Univariate Analysis of Each Variable in the Dataset"
   ]
  },
  {
   "cell_type": "markdown",
   "id": "272721f8546180d8",
   "metadata": {
    "collapsed": false
   },
   "source": [
    "## a - Statistical Indicators for Quantitative Variables"
   ]
  },
  {
   "cell_type": "code",
   "execution_count": 7,
   "id": "6370bc36cdf5bd54",
   "metadata": {
    "ExecuteTime": {
     "end_time": "2024-03-31T09:42:46.524418Z",
     "start_time": "2024-03-31T09:42:46.447292Z"
    }
   },
   "outputs": [
    {
     "data": {
      "text/html": [
       "<div>\n",
       "<style scoped>\n",
       "    .dataframe tbody tr th:only-of-type {\n",
       "        vertical-align: middle;\n",
       "    }\n",
       "\n",
       "    .dataframe tbody tr th {\n",
       "        vertical-align: top;\n",
       "    }\n",
       "\n",
       "    .dataframe thead th {\n",
       "        text-align: right;\n",
       "    }\n",
       "</style>\n",
       "<table border=\"1\" class=\"dataframe\">\n",
       "  <thead>\n",
       "    <tr style=\"text-align: right;\">\n",
       "      <th></th>\n",
       "      <th>id</th>\n",
       "      <th>numero</th>\n",
       "      <th>circonference_cm</th>\n",
       "      <th>hauteur_m</th>\n",
       "      <th>remarquable</th>\n",
       "      <th>geo_point_2d_a</th>\n",
       "      <th>geo_point_2d_b</th>\n",
       "    </tr>\n",
       "  </thead>\n",
       "  <tbody>\n",
       "    <tr>\n",
       "      <th>count</th>\n",
       "      <td>2.001370e+05</td>\n",
       "      <td>0.0</td>\n",
       "      <td>200137.000000</td>\n",
       "      <td>200137.000000</td>\n",
       "      <td>137039.000000</td>\n",
       "      <td>200137.000000</td>\n",
       "      <td>200137.000000</td>\n",
       "    </tr>\n",
       "    <tr>\n",
       "      <th>mean</th>\n",
       "      <td>3.872027e+05</td>\n",
       "      <td>NaN</td>\n",
       "      <td>83.380479</td>\n",
       "      <td>13.110509</td>\n",
       "      <td>0.001343</td>\n",
       "      <td>48.854491</td>\n",
       "      <td>2.348208</td>\n",
       "    </tr>\n",
       "    <tr>\n",
       "      <th>std</th>\n",
       "      <td>5.456032e+05</td>\n",
       "      <td>NaN</td>\n",
       "      <td>673.190213</td>\n",
       "      <td>1971.217387</td>\n",
       "      <td>0.036618</td>\n",
       "      <td>0.030234</td>\n",
       "      <td>0.051220</td>\n",
       "    </tr>\n",
       "    <tr>\n",
       "      <th>min</th>\n",
       "      <td>9.987400e+04</td>\n",
       "      <td>NaN</td>\n",
       "      <td>0.000000</td>\n",
       "      <td>0.000000</td>\n",
       "      <td>0.000000</td>\n",
       "      <td>48.742290</td>\n",
       "      <td>2.210241</td>\n",
       "    </tr>\n",
       "    <tr>\n",
       "      <th>25%</th>\n",
       "      <td>1.559270e+05</td>\n",
       "      <td>NaN</td>\n",
       "      <td>30.000000</td>\n",
       "      <td>5.000000</td>\n",
       "      <td>0.000000</td>\n",
       "      <td>48.835021</td>\n",
       "      <td>2.307530</td>\n",
       "    </tr>\n",
       "    <tr>\n",
       "      <th>50%</th>\n",
       "      <td>2.210780e+05</td>\n",
       "      <td>NaN</td>\n",
       "      <td>70.000000</td>\n",
       "      <td>8.000000</td>\n",
       "      <td>0.000000</td>\n",
       "      <td>48.854162</td>\n",
       "      <td>2.351095</td>\n",
       "    </tr>\n",
       "    <tr>\n",
       "      <th>75%</th>\n",
       "      <td>2.741020e+05</td>\n",
       "      <td>NaN</td>\n",
       "      <td>115.000000</td>\n",
       "      <td>12.000000</td>\n",
       "      <td>0.000000</td>\n",
       "      <td>48.876447</td>\n",
       "      <td>2.386838</td>\n",
       "    </tr>\n",
       "    <tr>\n",
       "      <th>max</th>\n",
       "      <td>2.024745e+06</td>\n",
       "      <td>NaN</td>\n",
       "      <td>250255.000000</td>\n",
       "      <td>881818.000000</td>\n",
       "      <td>1.000000</td>\n",
       "      <td>48.911485</td>\n",
       "      <td>2.469759</td>\n",
       "    </tr>\n",
       "  </tbody>\n",
       "</table>\n",
       "</div>"
      ],
      "text/plain": [
       "                 id  numero  circonference_cm      hauteur_m    remarquable  \\\n",
       "count  2.001370e+05     0.0     200137.000000  200137.000000  137039.000000   \n",
       "mean   3.872027e+05     NaN         83.380479      13.110509       0.001343   \n",
       "std    5.456032e+05     NaN        673.190213    1971.217387       0.036618   \n",
       "min    9.987400e+04     NaN          0.000000       0.000000       0.000000   \n",
       "25%    1.559270e+05     NaN         30.000000       5.000000       0.000000   \n",
       "50%    2.210780e+05     NaN         70.000000       8.000000       0.000000   \n",
       "75%    2.741020e+05     NaN        115.000000      12.000000       0.000000   \n",
       "max    2.024745e+06     NaN     250255.000000  881818.000000       1.000000   \n",
       "\n",
       "       geo_point_2d_a  geo_point_2d_b  \n",
       "count   200137.000000   200137.000000  \n",
       "mean        48.854491        2.348208  \n",
       "std          0.030234        0.051220  \n",
       "min         48.742290        2.210241  \n",
       "25%         48.835021        2.307530  \n",
       "50%         48.854162        2.351095  \n",
       "75%         48.876447        2.386838  \n",
       "max         48.911485        2.469759  "
      ]
     },
     "execution_count": 7,
     "metadata": {},
     "output_type": "execute_result"
    }
   ],
   "source": [
    "df.describe()"
   ]
  },
  {
   "cell_type": "markdown",
   "id": "88cb23c1f56b0f05",
   "metadata": {
    "collapsed": false
   },
   "source": [
    "## Glossary of Statistical Terms\n",
    "\n",
    "- **Count**: The number of non-null entries in the dataset.\n",
    "- **Mean**: The average value of the dataset.\n",
    "- **Std**: Short for \"standard deviation,\" a measure of the amount of variation or dispersion in a set of values.\n",
    "- **Min**: The smallest value in the dataset.\n",
    "- **25%**: The 25th percentile, or first quartile, indicating that 25% of the data falls below this value.\n",
    "- **50%**: The 50th percentile, or median, the middle value of the dataset.\n",
    "- **75%**: The 75th percentile, or third quartile, indicating that 75% of the data falls below this value.\n",
    "- **Max**: The largest value in the dataset.\n"
   ]
  },
  {
   "cell_type": "markdown",
   "id": "9305c2771d530eaf",
   "metadata": {},
   "source": [
    "## Observations:\n",
    "- 'id': identifier, unique values\n",
    "- 'numero': only missing values\n",
    "- 'circonference_cm': very high standard deviation, presence of outliers\n",
    "- 'hauteur_m': very high standard deviation, presence of outliers\n",
    "- 'remarquable': only 2 possible values (0 or 1) -> categorical variable\n",
    "- 'geo_point_2d_a': very low standard deviation, no outliers\n",
    "- 'geo_point_2d_b': very low standard deviation, no outliers\n"
   ]
  },
  {
   "cell_type": "markdown",
   "id": "672a75efb7471ec",
   "metadata": {
    "collapsed": false
   },
   "source": [
    "## b- Statistical Indicators for Qualitative Variables"
   ]
  },
  {
   "cell_type": "code",
   "execution_count": 8,
   "id": "79148c91369d0b59",
   "metadata": {
    "ExecuteTime": {
     "end_time": "2024-03-31T09:42:46.555462Z",
     "start_time": "2024-03-31T09:42:46.526419Z"
    }
   },
   "outputs": [],
   "source": [
    "var_qualitatives = df.select_dtypes(include='object').columns # Select qualitative variables"
   ]
  },
  {
   "cell_type": "markdown",
   "id": "a4502bac1ecab59a",
   "metadata": {},
   "source": [
    "### List of Modalities\n"
   ]
  },
  {
   "cell_type": "code",
   "execution_count": 9,
   "id": "20cc6b887037c896",
   "metadata": {
    "ExecuteTime": {
     "end_time": "2024-03-31T09:42:46.681349Z",
     "start_time": "2024-03-31T09:42:46.557464Z"
    },
    "collapsed": false
   },
   "outputs": [
    {
     "name": "stdout",
     "output_type": "stream",
     "text": [
      "type_emplacement: ['Arbre']\n",
      "\n",
      "domanialite: ['Jardin' 'Alignement' 'DJS' 'DFPE' 'CIMETIERE' 'DASCO' 'DAC'\n",
      " 'PERIPHERIQUE' 'DASES' nan]\n",
      "\n",
      "arrondissement: ['PARIS 7E ARRDT' 'PARIS 17E ARRDT' 'PARIS 16E ARRDT' 'PARIS 4E ARRDT'\n",
      " 'PARIS 13E ARRDT' 'PARIS 12E ARRDT' 'PARIS 19E ARRDT' 'PARIS 14E ARRDT'\n",
      " 'PARIS 15E ARRDT' 'PARIS 3E ARRDT' 'PARIS 20E ARRDT' 'PARIS 18E ARRDT'\n",
      " 'PARIS 6E ARRDT' 'PARIS 11E ARRDT' 'PARIS 1ER ARRDT' 'PARIS 2E ARRDT'\n",
      " 'PARIS 5E ARRDT' 'VAL-DE-MARNE' 'SEINE-SAINT-DENIS' 'HAUTS-DE-SEINE'\n",
      " 'PARIS 9E ARRDT' 'PARIS 10E ARRDT' 'PARIS 8E ARRDT' 'BOIS DE BOULOGNE'\n",
      " 'BOIS DE VINCENNES']\n",
      "\n",
      "complement_addresse: [nan 'c 12' '12-36' ... 'au n.14' 'F2bis' '40face']\n",
      "\n",
      "lieu: ['MAIRIE DU 7E 116 RUE DE GRENELLE PARIS 7E'\n",
      " 'PARC CLICHY-BATIGNOLLES-MARTIN LUTHER KING'\n",
      " 'SQUARE ALEXANDRE ET RENE PARODI / 1 PLACE DE LA PORTE MAILLOT' ...\n",
      " 'TERRAIN D EDUCATION PHYSIQUE / 49 RUE OLIVIER METRA' 'RUE EDOUARD QUENU'\n",
      " 'RUE DU GENERAL NIESSEL']\n",
      "\n",
      "id_emplacement: ['19' '20' '21' ... '720170153' '720170154' '720170155']\n",
      "\n",
      "libelle_francais: ['Marronnier' 'If' 'Erable' 'Arbre à miel' 'Platane' 'Sophora'\n",
      " 'Prunus n. sp.' 'Hêtre' 'Micocoulier' 'Tilleul' 'Chêne' 'Savonnier'\n",
      " 'Copalme' 'Noyer' 'Arbre à caramel' 'Troene' 'Tulipier' 'Pin' 'Sapin'\n",
      " 'Cerisier à fleurs' 'Charme-Houblon' 'Cèdre' 'Paulownia' 'Thuya'\n",
      " 'Pommier à fleurs' 'Poirier' 'Pommier' 'Bouleau' 'Orme' 'Arbre de Judée'\n",
      " 'Robinier' 'Frêne' 'Aubépine' 'Fevier' 'Prunier à fleurs'\n",
      " 'Arbre aux quarante écus' 'Néflier commun' 'Saule' 'Magnolia'\n",
      " 'Prunier à fruits' 'Poirier à fleurs' 'Peuplier' 'Faux-cyprès' 'Aubepine'\n",
      " nan 'Plaqueminier' 'Mûrier' 'Pêcher' 'Pterocarya' 'Merisier'\n",
      " 'Noisetier de Byzance' 'Alisier' 'Cognassier'\n",
      " 'Parrotie de Perse - Arbre de fer' 'Poirier à fruits' 'Orme de Sibérie'\n",
      " 'Frêne à fleurs' 'Aulne' 'Troëne' 'Fontanesia' 'Cornouiller' 'Cedrele'\n",
      " 'Catalpa' 'Houx' 'Buis' 'Metaséquoia' 'Chicot du Canada'\n",
      " 'Oranger des Osages' 'Céphalotaxe' 'Sumac' 'Châtaignier' 'Ailante'\n",
      " 'Sequoia' 'Lilas des indes' 'Pterostyrax' 'Eucalyptus' 'Olivier'\n",
      " 'Figuier' 'Charme' 'Sureau' 'Epicéa' 'Sorbier' 'Amélanchier' 'Cytise'\n",
      " 'Filaire' 'Angélique' 'Virgilier' 'Phellodendron' 'Eleagnus - Chalef'\n",
      " 'Pommier à fruits' 'Cabrillet' 'Citronnier' 'Arbre à soie'\n",
      " 'Lilas de Perse' 'Laurier-Cerise' 'Laurier du Portugal' 'Nothofagus'\n",
      " 'Cyprès' 'Noisetier' 'Palmier' 'Muscadier' 'Libocèdre' 'Abelia'\n",
      " 'Photinia' 'Clerodendron' 'Arbre aux mouchoirs' 'Sterculier' 'Poivrier'\n",
      " 'Cyprès Chauve' 'Arbre à Gutta-Percha' 'Nyssa' 'Cotoneaster'\n",
      " 'Olivier odorant' 'Non spécifié' 'Laurier sauce' 'Arbousier' 'Araucaria'\n",
      " 'Cryptomeria' 'Cerisier à grappes' 'Cunninghamia' 'Hiba' 'Chèvrefeuille'\n",
      " 'Raisinier' 'Chitalpa' 'Néflier' 'Pistachier' 'Laburnum de Adam'\n",
      " 'Tapiscia' 'Mélèze' 'Caryer' 'Parrotie de Perse' 'Distylium' 'Tamaris'\n",
      " 'Orme de Samarie' 'Arbre à perruque' 'Chimonanthe' 'Mimosa' 'Cordyline'\n",
      " 'Faux dattier' 'Althéa' 'Cerisier à fruits' 'Amandier' 'Tsuga'\n",
      " 'Stewartia' 'Argousier' 'Papayer' 'Styrax' 'Laurier des Iroquois'\n",
      " 'Laurier' 'Genévrier' 'Heptacodion de Chine' 'Grenadier' 'Sapin Douglas'\n",
      " 'Rhododendron' 'Viorne' 'Cormier' 'Prunellier' 'Poliothyrsis' 'Caragana'\n",
      " 'Asiminier' 'Platycarya' 'Amla' 'Alangium' 'Euscaphis' 'Andromède'\n",
      " 'Sycopsis' 'Camphrier' 'Jujubier' 'Maackie' 'Staphylier' 'Seringas'\n",
      " 'Lilas' 'Fusain' 'Fremontia' 'Nerprun' 'Callistemon' 'Aronie'\n",
      " 'Myrte du Chili' 'Goyavier' 'Genêt' 'Laurier du caucase'\n",
      " 'Prunus Fleur n. sp.' 'Abricotier' 'Prunus Fruit n. sp.'\n",
      " \"Fustet d' Amérique\" 'Idesia' 'Laurier des Açores' 'Kalopanax'\n",
      " 'Ormeau épineux' 'Ostryer' 'Xanthoceras' 'Parrotiopsis' 'Garrya']\n",
      "\n",
      "genre: ['Aesculus' 'Taxus' 'Acer' 'Tetradium' 'Platanus' 'Sophora' 'Prunus'\n",
      " 'Fagus' 'Celtis' 'Tilia' 'Quercus' 'Koelreuteria' 'Liquidambar' 'Juglans'\n",
      " 'Cercidiphyllum' 'Ligustrum' 'Liriodendron' 'Pinus' 'Abies' 'Ostrya'\n",
      " 'Cedrus' 'Paulownia' 'Thuja' 'Malus' 'Pyrus' 'Betula' 'Ulmus' 'Cercis'\n",
      " 'Robinia' 'Fraxinus' 'Crataegus' 'Gleditsia' 'Ginkgo' 'Mespilus' 'Salix'\n",
      " 'Magnolia' 'Populus' 'Chamaecyparis' 'Diospyros' 'Morus' 'Pterocarya'\n",
      " 'Corylus' 'Sorbus' 'Cydonia' 'Parrotia' 'Zelkova' 'Alnus' 'Cladrastis'\n",
      " 'Fontanesia' 'Cornus' 'Toona' 'Catalpa' 'Ilex' 'Buxus' 'Metasequoia'\n",
      " 'Gymnocladus' 'Maclura' 'Cephalotaxus' 'Rhus' 'Castanea' 'Ailanthus'\n",
      " 'Broussonetia' 'Sequoiadendron' 'Lagerstroemia' 'Pterostyrax'\n",
      " 'Eucalyptus' 'Olea' 'Ficus' 'Carpinus' 'Sambucus' 'Picea' 'Amelanchier'\n",
      " 'Laburnum' 'Phillyrea' 'Sequoia' 'Aralia' 'Phellodendron' 'Elaeagnus'\n",
      " 'Ehretia' 'Poncirus' 'Albizia' 'Melia' 'Nothofagus' 'Cupressus'\n",
      " 'Trachycarpus' 'Platycladus' 'Torreya' 'Calocedrus' 'Abelia' 'Staphylea'\n",
      " 'Photinia' 'Clerodendrum' 'Davidia' 'Firmiana' 'Zanthoxylum' 'Taxodium'\n",
      " 'Eucommia' 'Nyssa' 'Cotoneaster' 'Osmanthus' 'x Cupressocyparis'\n",
      " 'Non spécifié' 'Laurus' 'Arbutus' 'Araucaria' 'Cryptomeria'\n",
      " 'Cunninghamia' 'Thujopsis' 'Lonicera' 'Hovenia' 'x Chitalpa' 'Eriobotrya'\n",
      " 'Pistacia' 'Laburnocytisus' 'Tapiscia' 'Larix' 'Carya' 'Distylium'\n",
      " 'Tamarix' 'Ptelea' 'Cotinus' 'Chimonanthus' 'Acacia' 'Washingtonia'\n",
      " 'Brahea' 'Cordyline' 'Phoenix' 'Hibiscus' 'Tsuga' 'Stewartia'\n",
      " 'Paraserianthes' 'Hippophae' 'Carica' 'Styrax' 'Sassafras' 'Juniperus'\n",
      " 'Heptacodium' 'Punica' 'Pseudotsuga' 'Rhododendron' 'Viburnum'\n",
      " 'Poliothyrsis' 'Caragana' 'Asimina' 'Platycarya' 'Phyllanthus' 'Alangium'\n",
      " 'Euscaphis' 'Enkianthus' 'Sycopsis' 'Cinnamomum' 'Ziziphus' 'Maackia'\n",
      " 'Philadelphus' 'Syringa' 'Euonymus' 'Acca' 'Fremontodendron' 'Rhamnus'\n",
      " 'Callistemon' 'Aronia' 'Luma' 'Genista' 'Brachychiton' 'Idesia'\n",
      " 'Kalopanax' nan 'Hemiptelea' 'x Sorbopyrus' 'Xanthoceras' 'Sciadopitys'\n",
      " 'Parrotiopsis' 'Podocarpus' 'Chionanthus' 'Garrya' 'Crataegomespilus']\n",
      "\n",
      "espece: ['hippocastanum' 'baccata' 'negundo' 'daniellii' 'x hispanica' 'japonica'\n",
      " 'n. sp.' 'sylvatica' 'occidentalis' 'tomentosa' 'robur' 'paniculata'\n",
      " 'rufinerve' 'styraciflua' 'nigra' 'japonicum' 'lucidum' 'tulipifera'\n",
      " 'concolor' 'saccharinum' 'x europaea' 'platyphyllos' 'platanoides'\n",
      " 'serrulata' 'carpinifolia' 'libani' 'wallichiana' 'floribunda' 'pendula'\n",
      " 'siliquastrum' 'pseudoacacia' 'excelsior' 'laevigata' 'pseudoplatanus'\n",
      " 'triacanthos' 'cerasifera' 'campestre' 'biloba' 'buergerianum'\n",
      " 'germanica' 'cerris' 'regia' 'sylvestris' 'rubra' 'nigra subsp. nigra'\n",
      " 'alba' 'tataricum subsp. ginnala' 'domestica' 'calleryana' 'cappadocicum'\n",
      " 'x carnea' 'lawsoniana' 'x turneri' 'utilis' 'maackii' 'kaki' 'cordata'\n",
      " 'persica' 'fraxinifolia' 'frainetto' 'avium' 'x soulangeana' 'colurna'\n",
      " 'torminalis' 'petraea' 'ilex' 'oblonga' 'davidii' 'communis'\n",
      " 'monspessulanum' 'papyrifera' 'kobus' 'suber' 'phellos' 'canariensis'\n",
      " 'ornus' 'glutinosa' 'castaneifolia' 'babylonica' 'capillipes' 'minor'\n",
      " 'x media' 'henryana' 'phillyreoides' 'opalus' 'mas' 'sinensis'\n",
      " 'bignonioides' 'triacanthos f. Inermis' 'australis' 'aquifolium'\n",
      " 'grandiflora' 'sempervirens' 'incana' 'babylonica var. pekinensis'\n",
      " 'sargentii' 'macrophyllum' nan 'glyptostroboides' 'deodara' 'dioica'\n",
      " 'pomifera' 'harringtonii' 'typhina' 'sativa' 'x subhirtella'\n",
      " 'heldreichii' 'giraldii' 'giganteum' 'indica' 'aria' 'hispida' 'caprea'\n",
      " 'mongolica' 'gunnii' 'europaea' 'monogyna' 'carica' 'betulus'\n",
      " 'pungens f. Glauca' 'x arnoldiana' 'x loebneri' 'lamarckii' 'controversa'\n",
      " 'salicifolia' 'anagyroides' 'latifolia' 'americana' 'spectabilis'\n",
      " 'spinosa' 'kousa' 'deltoides' 'amurense' 'angustifolia' 'pumila'\n",
      " 'altissima' 'dicksonii' 'aucuparia' 'lotus' 'trifoliata' 'julibrissin'\n",
      " 'azedarach' 'laurocerasus' 'mahaleb' 'kentukea' 'rubrum' 'lusitanica'\n",
      " 'trilobata' 'obliqua' 'abies' 'palmatum' 'pauciflora' 'plicata'\n",
      " 'arizonica' 'avellana' 'fortunei' 'pinsapo' 'orientalis' 'griseum'\n",
      " 'pungens' 'strobus' 'simonii' 'decurrens' 'x spaethii' 'triflorum'\n",
      " 'triflora' 'lasiocarpa' 'colchica' 'florida' 'x fraseri' 'tremula'\n",
      " 'trichotomum' 'libani subsp. atlantica' 'serrata' 'nigra subsp. laricio'\n",
      " 'imbricaria' 'nootkatensis' 'virginiana' 'dentata' 'stenoptera'\n",
      " 'xerubescens' 'involucrata' 'simplex' 'californica' 'simulans'\n",
      " 'distichum' 'ulmoides' 'rosmarinifolia' 'intermedia' 'x burkwoodii'\n",
      " 'leylandii' 'bungeana' 'incisa' 'nobilis' 'araucana' 'pensylvanicum'\n",
      " 'padus' 'x watereri' 'albosinensis' 'macrocarpa' 'flava' 'lanceolata'\n",
      " 'breweriana' 'Fruit n. sp.' 'toringoides' 'denudata' 'dolabrata'\n",
      " 'coccinea' 'dulcis' 'tashkentensis' 'involucrata var. vilmoriniana'\n",
      " 'engelmannii' 'x canadensis' 'variabilis' 'macranthera' 'ermanii'\n",
      " 'nivalis' 'sanguinea' 'x lavalleei' 'x purpurea' 'glabra' 'omorika'\n",
      " 'mariana' 'seguinii' 'funebris' 'numidica' 'crus-galli' 'macrophylla'\n",
      " 'speciosa' 'terebinthus' 'adamii' 'x altaclerensis' 'fargesii' 'pavia'\n",
      " 'acalycina' 'acuminata' 'sinensis Oliv.' 'decidua' 'pinaster'\n",
      " 'transitoria' 'acutissima' 'balearica' 'x rehderiana' 'ovata' 'pictum'\n",
      " 'koraiensis' 'racemosum' 'ramosissima' 'x margaretta' 'pennsylvanica'\n",
      " 'tschonoskii' 'heterophyllus' 'x berolinensis' 'coggygria'\n",
      " 'carpinifolium' 'pubescens' 'praecox' 'tetrandra' 'ioensis' 'stellata'\n",
      " 'arborea' 'ovalifolium' 'dealbata' 'prunifolia' 'parviflora'\n",
      " 'microphylla' 'aucuparia var. edulis' 'pinea' 'chinensis' 'nordmanniana'\n",
      " 'bracteata' 'toringo' 'x atrosanguinea' 'robusta' 'armata' 'wagnerianus'\n",
      " 'chinense' 'laevis' 'x yedoensis' 'canadensis' 'syriacus'\n",
      " 'phillyreoides subsp. fortunei' 'x zoeschense' 'heterophylla' 'kaempferi'\n",
      " 'mandshurica' 'cembra' 'banksiana' 'pyrenaica' 'rysophylla'\n",
      " 'pseudocamellia' 'x schmittii' 'x robusta' 'lenta' 'lophantha'\n",
      " 'populifolia' 'unedo' 'coccifera' 'rhamnoides' 'elata' 'papaya'\n",
      " 'x blireana' 'x zumi' 'officinalis' 'japonicus' 'x rosacea'\n",
      " 'x brooklynensis' 'palustris' 'antarctica var. uliginosa' 'albidum'\n",
      " 'viminalis' 'aurita' 'miconioides' 'purpurea' 'glandulosa' 'granatum'\n",
      " 'trichotomum var. fargesii' 'baccata f. Aurea' 'x thuringiaca' 'jeffreyi'\n",
      " 'alleghaniensis' 'menziesii' 'sieboldii' 'arboreum' 'radiata' 'europea'\n",
      " 'davidiana' 'serrula' 'x Sepulcralis' 'exigua' 'x pendulina' 'tripetala'\n",
      " 'halepensis' 'pisifera' 'pendula var. pendula' 'tinus' 'maximowicziana'\n",
      " 'udensis' 'saccharum' 'maxima' 'mugo' 'freemanii' 'cinerea' 'x canescens'\n",
      " 'fruticosa' 'pekinensis' 'triloba' 'pontica' 'scalaris' 'vilmorinii'\n",
      " 'viscosa' 'quadrangulata' 'umbellata' 'kousa var. chinensis' 'x durettii'\n",
      " 'bicolor' 'suber subsp. Occidentalis' 'augustinii' 'strobilacea'\n",
      " 'yunnanensis' 'glaucus' 'hemsleyanus' 'platanifolium' 'davurica'\n",
      " 'medwediewii' 'turczaninowii' 'henryi' 'x coriaceum' 'camphora' 'jujuba'\n",
      " 'copallina' 'amurensis' 'odoratissimum' 'coronarius'\n",
      " 'nigra subsp. salzmannii' 'humilis' 'antarctica' 'decora' 'x hollandica'\n",
      " 'monogyna var. monogyna' 'europaeus' 'sellowiana' 'vulgaris'\n",
      " 'californicum' 'alaternus' 'chequen' 'x chinensis' 'x ambigua'\n",
      " 'marilandica' 'Fleur n. sp.' 'sinense' 'armeniaca' 'bungei'\n",
      " 'glabra Huds.' 'minor var. vulgaris' 'obovatus' 'vulgare' 'x flavescens'\n",
      " 'illinoinensis' 'pyrifolia' 'x hillieri' 'dasystyla' 'x macrantha'\n",
      " 'acerifolius' 'horizontalis' 'formosana' 'polycarpa' 'x mutabilis'\n",
      " 'x gondouinii' 'lusitanica subsp.azorica' 'dasystyla subsp. caucasica'\n",
      " 'labilis' 'coulteri' 'faginea' 'grandis' 'piperitum' 'obtusa' 'kiusiana'\n",
      " 'oliveri' 'x libanerris' 'trojana' 'septemlobus' 'oliverianum' 'rufa'\n",
      " 'sieboldianum' 'liliiflora' 'sabiniana' 'hypoleuca' 'circinatum'\n",
      " 'sprengeri' 'x proctoriana' 'maximowiczianum' 'corymbosa' 'jessoensis'\n",
      " 'baccata var. mandshurica' 'sinica' 'potaninii' 'serotina'\n",
      " 'persica var.nucipersica' 'tricuspidata' 'biondii'\n",
      " 'occidentalis var. reticulata' 'diabolicum' 'turbinata' 'hyrcanum'\n",
      " 'x conspicuum' 'major' 'hirsuta' 'x colurnoides' 'x erubescens'\n",
      " 'tenuifolia' 'vestita' 'hybrida' 'acerifolia' 'bipinnata' 'americanum'\n",
      " 'duclouxii' 'velutina' 'x flaccida' 'sorbifolium' 'pardei' 'cilicica'\n",
      " 'koreana' 'nebrodensis' 'verticillata' 'cissifolium' 'wilsonii'\n",
      " 'jacquemontiana' 'cathayana' 'rigida' 'densiflora' 'ponderosa'\n",
      " 'monophylla' 'x ebbingei' 'vilmoriniana' 'cathartica' 'viridis'\n",
      " 'chrysocarpa var. phoenicea' 'x lettermanii' 'x sorbifolia'\n",
      " 'x persimilis' 'tournefortii' 'contorta var. latifolia' 'acutifolia'\n",
      " 'procera' 'ailantifolia' 'microcarpa' 'macrophyllus' 'sabina' 'gemmata'\n",
      " 'recurvata' 'cephalonica' 'homolepis' 'smithiana' 'koyamai' 'glauca'\n",
      " 'obovata' 'glehnii' 'likiangensis' 'sitchensis' 'asperata' 'schrenkiana'\n",
      " 'biltmoreana' 'retusus' 'rhytidophyllum' 'elliptica' 'brevifolia'\n",
      " 'miqueliana' 'x marschlinsii' 'verniciflua' 'myrtilloides' 'fragilis'\n",
      " 'x bixbyi' 'cordiformis' 'trichocarpa' 'rhoifolia' 'forrestii'\n",
      " 'luminifera' 'x caerulea' 'platyphylla' 'curdica' 'x neglecta' 'fecunda'\n",
      " 'canbyi' 'spathulata' 'aprica' 'ambigua' 'venustula'\n",
      " 'rotundifolia var. aboriginum' 'champlainensis'\n",
      " 'szechuanica var. tibetica' 'taurica' 'muehlenbergii'\n",
      " 'ithaburensis var. macrolepis' 'lobata' 'x kewensis' 'ilicifolia'\n",
      " 'x heterophylla' 'falcata' 'delavayi subsp. potaninii']\n",
      "\n",
      "variete: [nan \"Atropunicea'\" \"Euchlora'\" \"Schwedleri'\" \"Pissardii'\" \"Pallida'\"\n",
      " 'n. sp.' \"Chanticleer'\" \"Purpureum'\" \"Italica'\" \"Aspleniifolia'\"\n",
      " \"Jacquemontii'\" \"Fastigiata'\" \"Fastigiate Koster'\" \"Imperialis'\"\n",
      " \"Honey Dew'\" \"Jacqueline Hillier'\" \"Rubra Plena'\" \"Diversifolia'\"\n",
      " \"Flamingo'\" \"Argentea Marginata'\" \"Pendula'\" \"Liempde'\" \"Pyramidalis'\"\n",
      " \"Tortuosa'\" \"Aurea'\" \"Frisia'\" \"Leopoldii'\" \"Aldenhamensis'\" \"Briotii'\"\n",
      " \"Kanzan'\" \"Variegata'\" \"Hizakura'\" \"Albomarginata'\" \"Bradford'\"\n",
      " \"Autumnalis Rosea'\" \"Atropurpurea'\" \"Castanaefolia'\"\n",
      " \"Eddie's White Wonder'\" \"Autumnalis'\" \"Heaven Scent'\" \"Schouten'\"\n",
      " \"Sundew'\" \"Leonard messel'\" \"Merrill'\" \"Plena'\" \"Unifolia'\" \"Accolade'\"\n",
      " \"Baumannii'\" \"Virginiana'\" \"Flying Dragon'\" \"Laciniata'\" \"Laciniatum'\"\n",
      " \"Globosum'\" \"Rohanii'\" \"Golden Hornet'\" \"Glauca'\" \"Youngii'\" \"Contorta'\"\n",
      " \"Umbraculifera'\" \"Jaspidea'\" \"Spaeth'\" \"Flekova'\" \"Regent'\" \"Atrovirens'\"\n",
      " \"Purpurea'\" \"Alba'\" \"Paul's Scarlet Hamlet'\" \"Lutea'\" \"Dawyck'\"\n",
      " \"Sapporo Autumn Gold' RESISTA\" \"Totem'\" \"Erythrocladum'\" \"Masu-kagami'\"\n",
      " \"Vossii'\" \"Atropurpureum'\" \"Farlake's Green'\" \"Elegans'\" \"Fugenzo'\"\n",
      " \"Shôgetsu'\" \"Elsrijk'\" \"Evereste'\" \"Alba Superba'\" \"Splendens'\"\n",
      " \"Raywood'\" \"Taihaku'\" \"Drummondii'\" \"Minsum' SUMMER BELLS\" \"Smaragd'\"\n",
      " \"Nanguen' LUTECE\" \"Laciniatum Wieri'\" \"Digitata'\" \"Sandraudiga'\"\n",
      " \"Bessoniana'\" \"Carrierei'\" \"Boubri'\" \"Niedzwetzkyana'\" \"John Downie'\"\n",
      " \"Meczek'\" \"Stricta'\" \"Doorenbos'\" \"Vestita'\" \"Robusta'\" \"Aurea Pendula'\"\n",
      " \"Salicifolia'\" \"Lane'\" \"Riversii'\" \"Prinz Handjery'\" \"Ambrozyana'\"\n",
      " \"Pulverulenta'\" \"Duclouxii'\" \"Obovata'\" \"Olmsted'\" \"Shirotae'\"\n",
      " \"Aberdoniae'\" \"Thornhayes Tansy'\" \"Purpurea Pendula'\" \"Weschcke'\"\n",
      " \"Hibernica'\" \"Vanessa'\" \"Neapolitanum'\" \"Coluteoides'\" \"Brabant'\"\n",
      " \"Amanogawa'\" \"Glauca Elegans'\" \"Memmingeri'\" \"Aureovariegata'\"\n",
      " \"Pink Cascade' CASQUE ROUGE\" \"Monophylla'\" \"Tiefurt'\" \"Watereri'\"\n",
      " \"Variegatum'\" \"Sunburst'\" \"Crimson King'\" \"Esveld Select'\"\n",
      " \"Amber Beauty'\" \"Shubert'\" \"Robin Hill'\" \"Punicea'\" \"Bon Accueil'\"\n",
      " \"Hilsop'\" \"Umineko'\" \"Ballerina'\" \"Kiku-shidare-zakura'\" \"Galissonnière'\"\n",
      " \"Negenia'\" \"Hokusai'\" \"Chermesina'\" \"Majestica'\" \"Arie Peters'\"\n",
      " \"Forest Pansy'\" \"Oiseau Bleu'\" \"Fairview'\" \"Naruto'\" \"Rubra'\"\n",
      " \"Paus Johannes-Paulus II'\" \"Annae'\" \"October Glory'\" \"Nova'\" \"Hillieri'\"\n",
      " \"Autumn Flame'\" \"Souvenir de Courson'\" \"Gibsii'\" \"Balaton'\" \"Scanlon'\"\n",
      " \"Rubrum'\" \"Schlesingeri'\" \"Cimmzam'\" \"Summit'\" \"Maya'\" \"Paul's Scarlet'\"\n",
      " \"Eleyi'\" \"Desmon'\" \"Courtarou'\" \"Saratoga'\" \"Raket'\" \"Worplesdon'\"\n",
      " \"Rudolph'\" \"Red Sentinel'\" \"Purpurea Tricolor'\" \"Klara Mayer'\" \"Minsum'\"\n",
      " \"Cleveland'\" \"Sericea'\" \"Crispa'\" \"Elegantissima'\" \"Calliprinos'\"\n",
      " \"Rosea Nova'\" \"Professor Sprenger'\" \"Columna'\" \"Falicifolia'\"\n",
      " \"Yellow Bird'\" \"Dovastoniana'\" \"Flore Pleno'\" \"Columnaris'\" \"Zebrina'\"\n",
      " \"Alumii'\" \"Descyr'\" \"Koster'\" \"Alba Plena'\" \"Redspire'\"\n",
      " \"Westhof's Glorie'\" \"Postelense'\" \"Joppi'\" \"Zlatia'\" \"Goblin'\"\n",
      " \"Grandidentata'\" \"Roseum'\" \"Aureomarginatum'\" \"Ombrella'\" \"Lennei'\"\n",
      " \"Fastigiatum'\" \"Okame'\" \"Aglandau'\" \"Macrophylla'\" \"Tempelhof'\"\n",
      " \"Magnificum Nakai'\" \"Squarrosa'\" \"Globosa Nana'\" \"Red Robin'\"\n",
      " \"Royal Burgundy'\" \"Lico'\" \"Dawyck Purple'\" \"Ferox'\" \"Jeffersred'\"\n",
      " \"Skyline'\" \"Pyramidale'\" \"Afghanica'\" \"Aucubifolia'\" \"Deborah'\"\n",
      " \"Albertii'\" \"Colorata'\" \"Luisa Lady'\" \"Atlantica Aurea'\"\n",
      " \"Princeton sentry'\" \"Blush'\" \"Quercifolia'\" \"Wageningeri'\" \"Gracilis'\"\n",
      " \"Tristan'\" \"Nizetii'\" \"Kojou-no-mai'\" \"Concordia'\" \"Rotundifolia'\"\n",
      " \"Conspicua'\" \"Aureum'\" \"Theodonensis'\" \"Thunberg'\" \"Matsuma'\"\n",
      " \"Erecta viridis'\" \"Clanbrassiliana'\" \"Macrophyllum'\"\n",
      " \"Cipressino Pyramidal'\" \"Nociara'\" \"Leoccino'\" \"Gold Bark'\" \"Speciosa'\"\n",
      " \"Buergeri'\" \"Nannetensis'\" \"Royal red'\" \"Pendula Rubra'\" \"Lemoinei'\"\n",
      " \"Bigarreau blanc'\" \"Bigarreau Hatif Burlat'\"\n",
      " \"Bigarreau Napoleon' NAPOLEON\" \"Hedelfingen Riesenkirsche'\"\n",
      " \"Beurré Hardy'\" \"Bon chrétien Williams'\" \"Soldat Laboureur'\" \"Chat rôti'\"\n",
      " \"Transparente de Croncels'\" \"King of the Pippins'\" \"Peasgood's Nonsuch'\"\n",
      " \"Calville blanc'\" \"Glauca Pendula'\" \"Pembury Blue'\" \"Dampieri'\" \"Vranja'\"\n",
      " \"Mostapfel President Descourt'\" \"Flekova' GREEN VASE\" \"Columnare'\"\n",
      " \"Greenspire'\" \"Ellwoodii'\" \"Reine Claude'\" \"Altena'\" \"Hamabo'\"\n",
      " \"Argenteovariegata'\" \"Kkho1' HOT PINK\" \"Saugeana'\" \"Alaska'\" \"Porlock'\"\n",
      " \"Quetsche d'Alsace'\" \"Nicoline'\" \"Mirabelle'\" \"Flore Roseo Pleno'\"\n",
      " \"Nigra'\" \"Caucasica'\" \"Otto Luyken'\" \"Decaisneana'\" \"Marginata'\"\n",
      " 'RESISTA' \"Wanoux' VADA\" \"Nanguen'\" \"New Horizon' RESISTA\"\n",
      " \"Jeffersred' AUTUMN BLAZE\" \"Schone van Boskoop' BELLE DE BOSKOOP\"\n",
      " 'PLATANOR®' \"Fruitless'\" \"Granny Smith'\" \"Conference'\" \"Golden' n.sp.\"\n",
      " \"Bergeron'\" \"Warrenred' PACIFIC SUNSET\" \"Bonne Louise d'Avranches'\"\n",
      " \"Champion'\" \"Sanguine Vineuse'\" \"Oxford'\" \"Sainte Catherine'\"\n",
      " \"Kidd's Orange Red'\" \"Polonais'\" \"Luizet'\" \"Winter Gold'\" \"Dissectum'\"\n",
      " \"Austriaca'\" \"Nelly Stevens'\" \"Profusion'\" \"Atlantica Glauca'\" \"Nanum'\"\n",
      " \"Frans Fontaine'\" \"Glenleven'\" \"Minaret'\" \"Erecta'\" \"Spire'\"\n",
      " \"Sunset Boulevard'\" \"Henk Vink'\" \"Rheinland'\" \"Jonagold'\" \"Album'\"\n",
      " \"Bloodgood'\" \"Emerald Queen'\" \"Aconitifolium'\" \"Nivea'\"\n",
      " \"Splender Silhouette'\" \"Monticola'\" \"Nana'\" \"Induta'\" \"Schnee'\"\n",
      " \"Bruchem'\" \"Teton de Vénus'\" \"Reine des Vergers'\" \"Bondy'\"\n",
      " \"Belle de Pontoise'\" \"Melrose'\" \"Court Pendu Gris'\" \"Lambertin n°1'\"\n",
      " \"Le Curé'\" \"Comtesse de Paris'\" \"Conseiller à la Cour'\"\n",
      " \"Ananas Reinette'\" \"Bonne de Bry'\" \"Mirabelle de Nancy'\"\n",
      " \"Reine Claude Tardive de Chambourcy'\" \"Williams'\" \"Cox's Orange'\"\n",
      " \"Reinette Abry'\" \"Groseille'\" \"Beurré Clairgeau'\"\n",
      " \"Doyenné du Comice' COMICE\" \"Reinette Clochard'\" \"Hatif Colomer'\"\n",
      " \"Susan'\" \"Reinette du Mans'\" \"Cockleshell'\" \"Lucombeana'\" \"Rubylace'\"\n",
      " \"Fukubana'\" \"Williams' WILLIAMS ROUGE\" \"Borowitsky'\"\n",
      " \"Baumann's Reinette'\" \"Fastigia'\" \"Aurea Marginata'\" \"Green Spire'\"\n",
      " \"Atlantica Glauca Pendula'\" \"Villa Taranto'\" \"Osakazuki'\" \"Shin-deshôjô'\"\n",
      " \"Starking'\" \"Grand Champion'\" \"Reinette Grise du Canada'\"\n",
      " \"Duc de Bordeaux'\" \"Reinette de Caux'\" \"Shinseiki'\" \"Grand Alexandre'\"\n",
      " \"De l'Estre'\" \"Akane'\" \"Winter Banana'\" \"Drap d'Or'\" \"Belle de Louvain'\"\n",
      " \"Redhaven'\" \"Grosse Mignonne'\" \"Idared'\" \"Gloster'\" \"Belle Fleur Jaune'\"\n",
      " \"Duchesse d'Angoulême'\" \"Calville Rouge d'Hiver'\" \"Elstar'\"\n",
      " \"Général Leclerc'\" \"Calville rouge'\" \"Reinette du Canada'\"\n",
      " \"Golden Delicious'\" \"Beurré Lebrun'\" \"Précoce de Saumur'\"\n",
      " \"Aprikose von Nancy'\" \"Princess'\" \"Clapp's Favourite'\" \"Api Rose'\"\n",
      " \"Canada Rouge'\" \"Madeleine des deux Saisons'\" \"Fuji'\" \"Passe Crassane'\"\n",
      " \"Sucrée de Montluçon'\" \"Reinette Blanche du Canada'\" \"Pyramidalis Alba'\"\n",
      " \"Lemon Pippin'\" \"Docteur Jules Guyot'\" \"Patte de Loup'\"\n",
      " \"Reine Claude Dorée'\" \"Topred'\" \"Précoce de Trévoux'\" \"Morton'\" \"Amsden'\"\n",
      " \"Tenroy' ROYAL GALA\" \"Webb's Prize Cob'\" \"Triomphe de Vienne'\"\n",
      " \"Chantecler'\" \"Professeur Vilaine'\" \"Grosse Pomme Noire'\"]\n",
      "\n",
      "stade_developpement: [nan 'A' 'J' 'M' 'JA']\n"
     ]
    }
   ],
   "source": [
    "for var in var_qualitatives:\n",
    "    print(f'{var}: {df[var].unique()}\\n')"
   ]
  },
  {
   "cell_type": "markdown",
   "id": "ec5b257e13fe6ce",
   "metadata": {
    "collapsed": false
   },
   "source": [
    "### Number of Modalities"
   ]
  },
  {
   "cell_type": "code",
   "execution_count": 10,
   "id": "c8dd3ad2e7f220a9",
   "metadata": {
    "ExecuteTime": {
     "end_time": "2024-03-31T09:42:46.790871Z",
     "start_time": "2024-03-31T09:42:46.683348Z"
    },
    "collapsed": false
   },
   "outputs": [
    {
     "name": "stdout",
     "output_type": "stream",
     "text": [
      "type_emplacement: 1\n",
      "domanialite: 9\n",
      "arrondissement: 25\n",
      "complement_addresse: 3795\n",
      "lieu: 6921\n",
      "id_emplacement: 69040\n",
      "libelle_francais: 192\n",
      "genre: 175\n",
      "espece: 539\n",
      "variete: 436\n",
      "stade_developpement: 4\n"
     ]
    }
   ],
   "source": [
    "for var in var_qualitatives:\n",
    "    print(f'{var}: {df[var].nunique()}')"
   ]
  },
  {
   "cell_type": "markdown",
   "id": "1177ed4633b1f79",
   "metadata": {
    "collapsed": false
   },
   "source": [
    "## Observations:\n",
    "- The first six variables are related to the location of the trees.\n",
    "- The last five variables are related to the variety of trees and their stage of development.\n",
    "- 'type_emplacement': constant value (Tree)\n",
    "- 'id_emplacement': very high cardinality => contains a large number of unique values, might be a unique identifier for each tree\n"
   ]
  },
  {
   "cell_type": "markdown",
   "id": "363b33a673cc39ba",
   "metadata": {
    "collapsed": false
   },
   "source": [
    "## Number of trees for each modality with a sum"
   ]
  },
  {
   "cell_type": "code",
   "execution_count": 11,
   "id": "a5d08184b3a95c7f",
   "metadata": {
    "ExecuteTime": {
     "end_time": "2024-03-31T09:42:47.102359Z",
     "start_time": "2024-03-31T09:42:46.794871Z"
    },
    "collapsed": false
   },
   "outputs": [
    {
     "name": "stdout",
     "output_type": "stream",
     "text": [
      "type_emplacement\n",
      "Arbre    200137\n",
      "Name: count, dtype: int64 \n",
      "\n",
      "200137 \n",
      "\n",
      "domanialite\n",
      "Alignement      104949\n",
      "Jardin           46262\n",
      "CIMETIERE        31926\n",
      "DASCO             6422\n",
      "PERIPHERIQUE      5327\n",
      "DJS               3900\n",
      "DFPE              1325\n",
      "DAC                 21\n",
      "DASES                4\n",
      "Name: count, dtype: int64 \n",
      "\n",
      "200136 \n",
      "\n",
      "arrondissement\n",
      "PARIS 15E ARRDT      17151\n",
      "PARIS 13E ARRDT      16712\n",
      "PARIS 16E ARRDT      16403\n",
      "PARIS 20E ARRDT      15340\n",
      "PARIS 19E ARRDT      13709\n",
      "PARIS 12E ARRDT      12600\n",
      "SEINE-SAINT-DENIS    11570\n",
      "BOIS DE VINCENNES    11510\n",
      "PARIS 14E ARRDT      11399\n",
      "PARIS 17E ARRDT      10762\n",
      "PARIS 18E ARRDT      10011\n",
      "PARIS 7E ARRDT        8617\n",
      "VAL-DE-MARNE          7580\n",
      "PARIS 8E ARRDT        7245\n",
      "PARIS 11E ARRDT       5658\n",
      "HAUTS-DE-SEINE        5298\n",
      "BOIS DE BOULOGNE      3978\n",
      "PARIS 10E ARRDT       3385\n",
      "PARIS 4E ARRDT        2740\n",
      "PARIS 5E ARRDT        2368\n",
      "PARIS 6E ARRDT        1764\n",
      "PARIS 1ER ARRDT       1413\n",
      "PARIS 3E ARRDT        1209\n",
      "PARIS 9E ARRDT        1167\n",
      "PARIS 2E ARRDT         548\n",
      "Name: count, dtype: int64 \n",
      "\n",
      "200137 \n",
      "\n",
      "complement_addresse\n",
      "SN°           557\n",
      "1             552\n",
      "2             547\n",
      "3             498\n",
      "4             464\n",
      "             ... \n",
      "F 10-12         1\n",
      "F 99            1\n",
      "93 Flandre      1\n",
      "F 97            1\n",
      "40face          1\n",
      "Name: count, Length: 3795, dtype: int64 \n",
      "\n",
      "30902 \n",
      "\n",
      "lieu\n",
      "PARC FLORAL DE PARIS / ROUTE DE LA PYRAMIDE                       2995\n",
      "PARC DES BUTTES CHAUMONT                                          2331\n",
      "PARC ANDRE CITROEN                                                2095\n",
      "PARC OMNISPORT SUZANNE LENGLEN / 7 BOULEVARD DES FRERES VOISIN    1478\n",
      "INSEP / AVENUE DU TREMBLAY                                        1293\n",
      "                                                                  ... \n",
      "CIMETIERE ST VINCENT / DIV 5                                         1\n",
      "ROUTE DU LAC A BAGATELLE                                             1\n",
      "ROUTE DE LA PORTE SAINT-JAMES                                        1\n",
      "PENTE DE GRAVELLE - AVENUE DE GRAVELLE / ROUTE NOUVELLE              1\n",
      "CIMETIERE DE PANTIN / DIV 66                                         1\n",
      "Name: count, Length: 6921, dtype: int64 \n",
      "\n",
      "200137 \n",
      "\n",
      "id_emplacement\n",
      "101001          1324\n",
      "101002          1241\n",
      "101003          1128\n",
      "202001          1032\n",
      "101004          1020\n",
      "                ... \n",
      "A15100096004       1\n",
      "A15100096003       1\n",
      "A15100096002       1\n",
      "A15100096001       1\n",
      "720170155          1\n",
      "Name: count, Length: 69040, dtype: int64 \n",
      "\n",
      "200137 \n",
      "\n",
      "libelle_francais\n",
      "Platane       42508\n",
      "Marronnier    25207\n",
      "Tilleul       21305\n",
      "Erable        18389\n",
      "Sophora       11797\n",
      "              ...  \n",
      "Cordyline         1\n",
      "Camphrier         1\n",
      "Jujubier          1\n",
      "Maackie           1\n",
      "Garrya            1\n",
      "Name: count, Length: 192, dtype: int64 \n",
      "\n",
      "198640 \n",
      "\n",
      "genre\n",
      "Platanus        42591\n",
      "Aesculus        25341\n",
      "Tilia           21550\n",
      "Acer            18471\n",
      "Sophora         11830\n",
      "                ...  \n",
      "Sycopsis            1\n",
      "Enkianthus          1\n",
      "Euscaphis           1\n",
      "Phyllanthus         1\n",
      "Washingtonia        1\n",
      "Name: count, Length: 175, dtype: int64 \n",
      "\n",
      "200121 \n",
      "\n",
      "espece\n",
      "x hispanica                  36409\n",
      "hippocastanum                20039\n",
      "japonica                     11822\n",
      "n. sp.                        9063\n",
      "tomentosa                     8962\n",
      "                             ...  \n",
      "polycarpa                        1\n",
      "x gondouinii                     1\n",
      "lusitanica subsp.azorica         1\n",
      "oliveri                          1\n",
      "delavayi subsp. potaninii        1\n",
      "Name: count, Length: 539, dtype: int64 \n",
      "\n",
      "198385 \n",
      "\n",
      "variete\n",
      "Baumannii'             4538\n",
      "Briotii'               2827\n",
      "Euchlora'              2756\n",
      "Chanticleer'           2595\n",
      "Fastigiata'            2483\n",
      "                       ... \n",
      "Conspicua'                1\n",
      "Concordia'                1\n",
      "Kojou-no-mai'             1\n",
      "Nizetii'                  1\n",
      "Grosse Pomme Noire'       1\n",
      "Name: count, Length: 436, dtype: int64 \n",
      "\n",
      "36777 \n",
      "\n",
      "stade_developpement\n",
      "A     64438\n",
      "JA    35444\n",
      "J     26937\n",
      "M      6113\n",
      "Name: count, dtype: int64 \n",
      "\n",
      "132932 \n"
     ]
    }
   ],
   "source": [
    "for var in var_qualitatives: # Loop through each qualitative variable\n",
    "    print(df[var].value_counts(), '\\n') # Display the number of trees for each modality\n",
    "    print(df[var].value_counts().sum(), '\\n') # Display the sum of the number of trees for each modality"
   ]
  },
  {
   "cell_type": "markdown",
   "id": "c476474ac71dc21e",
   "metadata": {
    "collapsed": false
   },
   "source": [
    "# Step 3 : Data Analysis and Data Cleaning (Double, Outliers, etc... in the Dataset)\n"
   ]
  },
  {
   "cell_type": "markdown",
   "id": "4550d486beed54b0",
   "metadata": {
    "collapsed": false
   },
   "source": [
    "## Double entry of the same tree"
   ]
  },
  {
   "cell_type": "code",
   "execution_count": 12,
   "id": "ffc17ef4197e7ced",
   "metadata": {
    "ExecuteTime": {
     "end_time": "2024-03-31T09:42:47.338551Z",
     "start_time": "2024-03-31T09:42:47.104361Z"
    },
    "collapsed": false
   },
   "outputs": [
    {
     "data": {
      "text/plain": [
       "0         False\n",
       "1         False\n",
       "2         False\n",
       "3         False\n",
       "4         False\n",
       "          ...  \n",
       "200132    False\n",
       "200133    False\n",
       "200134    False\n",
       "200135    False\n",
       "200136    False\n",
       "Length: 200137, dtype: bool"
      ]
     },
     "execution_count": 12,
     "metadata": {},
     "output_type": "execute_result"
    }
   ],
   "source": [
    "df.duplicated() # Check for duplicate entries, false means no duplicates for each row"
   ]
  },
  {
   "cell_type": "code",
   "execution_count": 13,
   "id": "4b600b751c50879a",
   "metadata": {
    "ExecuteTime": {
     "end_time": "2024-03-31T09:42:47.353870Z",
     "start_time": "2024-03-31T09:42:47.340771Z"
    },
    "collapsed": false
   },
   "outputs": [
    {
     "data": {
      "text/plain": [
       "0"
      ]
     },
     "execution_count": 13,
     "metadata": {},
     "output_type": "execute_result"
    }
   ],
   "source": [
    "df.duplicated(subset='id').sum() # Number of duplicate entries,analysis based on the 'id' column"
   ]
  },
  {
   "cell_type": "code",
   "execution_count": 14,
   "id": "e641b07101d00983",
   "metadata": {
    "ExecuteTime": {
     "end_time": "2024-03-31T09:42:47.385449Z",
     "start_time": "2024-03-31T09:42:47.354861Z"
    },
    "collapsed": false
   },
   "outputs": [
    {
     "name": "stdout",
     "output_type": "stream",
     "text": [
      "(200137, 18)\n",
      "(200137, 18)\n"
     ]
    }
   ],
   "source": [
    "print(df.shape) # Display the number of rows and columns in the DataFrame\n",
    "df.drop_duplicates(subset='id', inplace=True) # Remove duplicate entries, subset is used to specify the column to check for duplicates and inplace=True is used to modify the DataFrame if necessary\n",
    "print(df.shape) # Display after removing duplicates with the 'id' column"
   ]
  },
  {
   "cell_type": "markdown",
   "id": "8269fd5180999406",
   "metadata": {
    "collapsed": false
   },
   "source": [
    "## Observations:\n",
    "- There are no duplicate entries in the dataset.\n",
    "- The 'id' column is unique for each tree.\n",
    "- The 'numero' column contains missing values.\n",
    "- the 'type_emplacement' column contains a constant value (Tree).\n",
    "- the 'complement_addresse' column contains missing values and cardinality is high.\n",
    "- the 'id_emplacement' is not worth keeping."
   ]
  },
  {
   "cell_type": "markdown",
   "id": "8be9c347a6d9124a",
   "metadata": {
    "collapsed": false
   },
   "source": [
    "## Erase columns unnecessary for the analysis"
   ]
  },
  {
   "cell_type": "code",
   "execution_count": 15,
   "id": "5269a5ef7bd5a8a9",
   "metadata": {
    "ExecuteTime": {
     "end_time": "2024-03-31T09:42:47.415993Z",
     "start_time": "2024-03-31T09:42:47.387447Z"
    },
    "collapsed": false
   },
   "outputs": [],
   "source": [
    "df.drop(columns=['id', 'numero', 'type_emplacement', 'id_emplacement'], inplace=True) # Drop unnecessary columns"
   ]
  },
  {
   "cell_type": "code",
   "execution_count": 16,
   "id": "f18685ba118d7890",
   "metadata": {
    "ExecuteTime": {
     "end_time": "2024-03-31T09:42:47.432024Z",
     "start_time": "2024-03-31T09:42:47.416992Z"
    },
    "collapsed": false
   },
   "outputs": [
    {
     "data": {
      "text/html": [
       "<div>\n",
       "<style scoped>\n",
       "    .dataframe tbody tr th:only-of-type {\n",
       "        vertical-align: middle;\n",
       "    }\n",
       "\n",
       "    .dataframe tbody tr th {\n",
       "        vertical-align: top;\n",
       "    }\n",
       "\n",
       "    .dataframe thead th {\n",
       "        text-align: right;\n",
       "    }\n",
       "</style>\n",
       "<table border=\"1\" class=\"dataframe\">\n",
       "  <thead>\n",
       "    <tr style=\"text-align: right;\">\n",
       "      <th></th>\n",
       "      <th>domanialite</th>\n",
       "      <th>arrondissement</th>\n",
       "      <th>complement_addresse</th>\n",
       "      <th>lieu</th>\n",
       "      <th>libelle_francais</th>\n",
       "      <th>genre</th>\n",
       "      <th>espece</th>\n",
       "      <th>variete</th>\n",
       "      <th>circonference_cm</th>\n",
       "      <th>hauteur_m</th>\n",
       "      <th>stade_developpement</th>\n",
       "      <th>remarquable</th>\n",
       "      <th>geo_point_2d_a</th>\n",
       "      <th>geo_point_2d_b</th>\n",
       "    </tr>\n",
       "  </thead>\n",
       "  <tbody>\n",
       "    <tr>\n",
       "      <th>0</th>\n",
       "      <td>Jardin</td>\n",
       "      <td>PARIS 7E ARRDT</td>\n",
       "      <td>NaN</td>\n",
       "      <td>MAIRIE DU 7E 116 RUE DE GRENELLE PARIS 7E</td>\n",
       "      <td>Marronnier</td>\n",
       "      <td>Aesculus</td>\n",
       "      <td>hippocastanum</td>\n",
       "      <td>NaN</td>\n",
       "      <td>20</td>\n",
       "      <td>5</td>\n",
       "      <td>NaN</td>\n",
       "      <td>0.0</td>\n",
       "      <td>48.857620</td>\n",
       "      <td>2.320962</td>\n",
       "    </tr>\n",
       "    <tr>\n",
       "      <th>1</th>\n",
       "      <td>Jardin</td>\n",
       "      <td>PARIS 7E ARRDT</td>\n",
       "      <td>NaN</td>\n",
       "      <td>MAIRIE DU 7E 116 RUE DE GRENELLE PARIS 7E</td>\n",
       "      <td>If</td>\n",
       "      <td>Taxus</td>\n",
       "      <td>baccata</td>\n",
       "      <td>NaN</td>\n",
       "      <td>65</td>\n",
       "      <td>8</td>\n",
       "      <td>A</td>\n",
       "      <td>NaN</td>\n",
       "      <td>48.857656</td>\n",
       "      <td>2.321031</td>\n",
       "    </tr>\n",
       "    <tr>\n",
       "      <th>2</th>\n",
       "      <td>Jardin</td>\n",
       "      <td>PARIS 7E ARRDT</td>\n",
       "      <td>NaN</td>\n",
       "      <td>MAIRIE DU 7E 116 RUE DE GRENELLE PARIS 7E</td>\n",
       "      <td>If</td>\n",
       "      <td>Taxus</td>\n",
       "      <td>baccata</td>\n",
       "      <td>NaN</td>\n",
       "      <td>90</td>\n",
       "      <td>10</td>\n",
       "      <td>A</td>\n",
       "      <td>NaN</td>\n",
       "      <td>48.857705</td>\n",
       "      <td>2.321061</td>\n",
       "    </tr>\n",
       "    <tr>\n",
       "      <th>3</th>\n",
       "      <td>Jardin</td>\n",
       "      <td>PARIS 7E ARRDT</td>\n",
       "      <td>NaN</td>\n",
       "      <td>MAIRIE DU 7E 116 RUE DE GRENELLE PARIS 7E</td>\n",
       "      <td>Erable</td>\n",
       "      <td>Acer</td>\n",
       "      <td>negundo</td>\n",
       "      <td>NaN</td>\n",
       "      <td>60</td>\n",
       "      <td>8</td>\n",
       "      <td>A</td>\n",
       "      <td>NaN</td>\n",
       "      <td>48.857722</td>\n",
       "      <td>2.321006</td>\n",
       "    </tr>\n",
       "    <tr>\n",
       "      <th>4</th>\n",
       "      <td>Jardin</td>\n",
       "      <td>PARIS 17E ARRDT</td>\n",
       "      <td>NaN</td>\n",
       "      <td>PARC CLICHY-BATIGNOLLES-MARTIN LUTHER KING</td>\n",
       "      <td>Arbre à miel</td>\n",
       "      <td>Tetradium</td>\n",
       "      <td>daniellii</td>\n",
       "      <td>NaN</td>\n",
       "      <td>38</td>\n",
       "      <td>0</td>\n",
       "      <td>NaN</td>\n",
       "      <td>NaN</td>\n",
       "      <td>48.890435</td>\n",
       "      <td>2.315289</td>\n",
       "    </tr>\n",
       "  </tbody>\n",
       "</table>\n",
       "</div>"
      ],
      "text/plain": [
       "  domanialite   arrondissement complement_addresse  \\\n",
       "0      Jardin   PARIS 7E ARRDT                 NaN   \n",
       "1      Jardin   PARIS 7E ARRDT                 NaN   \n",
       "2      Jardin   PARIS 7E ARRDT                 NaN   \n",
       "3      Jardin   PARIS 7E ARRDT                 NaN   \n",
       "4      Jardin  PARIS 17E ARRDT                 NaN   \n",
       "\n",
       "                                         lieu libelle_francais      genre  \\\n",
       "0   MAIRIE DU 7E 116 RUE DE GRENELLE PARIS 7E       Marronnier   Aesculus   \n",
       "1   MAIRIE DU 7E 116 RUE DE GRENELLE PARIS 7E               If      Taxus   \n",
       "2   MAIRIE DU 7E 116 RUE DE GRENELLE PARIS 7E               If      Taxus   \n",
       "3   MAIRIE DU 7E 116 RUE DE GRENELLE PARIS 7E           Erable       Acer   \n",
       "4  PARC CLICHY-BATIGNOLLES-MARTIN LUTHER KING     Arbre à miel  Tetradium   \n",
       "\n",
       "          espece variete  circonference_cm  hauteur_m stade_developpement  \\\n",
       "0  hippocastanum     NaN                20          5                 NaN   \n",
       "1        baccata     NaN                65          8                   A   \n",
       "2        baccata     NaN                90         10                   A   \n",
       "3        negundo     NaN                60          8                   A   \n",
       "4      daniellii     NaN                38          0                 NaN   \n",
       "\n",
       "   remarquable  geo_point_2d_a  geo_point_2d_b  \n",
       "0          0.0       48.857620        2.320962  \n",
       "1          NaN       48.857656        2.321031  \n",
       "2          NaN       48.857705        2.321061  \n",
       "3          NaN       48.857722        2.321006  \n",
       "4          NaN       48.890435        2.315289  "
      ]
     },
     "execution_count": 16,
     "metadata": {},
     "output_type": "execute_result"
    }
   ],
   "source": [
    "df.head() # Display the first few rows of the DataFrame"
   ]
  },
  {
   "cell_type": "code",
   "execution_count": 17,
   "id": "3e600aaf7f541282",
   "metadata": {
    "ExecuteTime": {
     "end_time": "2024-03-31T09:42:47.495742Z",
     "start_time": "2024-03-31T09:42:47.433027Z"
    },
    "collapsed": false
   },
   "outputs": [
    {
     "name": "stdout",
     "output_type": "stream",
     "text": [
      "<class 'pandas.core.frame.DataFrame'>\n",
      "RangeIndex: 200137 entries, 0 to 200136\n",
      "Data columns (total 14 columns):\n",
      " #   Column               Non-Null Count   Dtype  \n",
      "---  ------               --------------   -----  \n",
      " 0   domanialite          200136 non-null  object \n",
      " 1   arrondissement       200137 non-null  object \n",
      " 2   complement_addresse  30902 non-null   object \n",
      " 3   lieu                 200137 non-null  object \n",
      " 4   libelle_francais     198640 non-null  object \n",
      " 5   genre                200121 non-null  object \n",
      " 6   espece               198385 non-null  object \n",
      " 7   variete              36777 non-null   object \n",
      " 8   circonference_cm     200137 non-null  int64  \n",
      " 9   hauteur_m            200137 non-null  int64  \n",
      " 10  stade_developpement  132932 non-null  object \n",
      " 11  remarquable          137039 non-null  float64\n",
      " 12  geo_point_2d_a       200137 non-null  float64\n",
      " 13  geo_point_2d_b       200137 non-null  float64\n",
      "dtypes: float64(3), int64(2), object(9)\n",
      "memory usage: 21.4+ MB\n"
     ]
    }
   ],
   "source": [
    "df.info() # Display general information about the DataFrame"
   ]
  },
  {
   "cell_type": "markdown",
   "id": "25dc2287445e49f1",
   "metadata": {
    "collapsed": false
   },
   "source": [
    "## Missing Values Analysis"
   ]
  },
  {
   "cell_type": "code",
   "execution_count": 18,
   "id": "d5b651318ffdf00b",
   "metadata": {
    "ExecuteTime": {
     "end_time": "2024-03-31T09:42:47.589893Z",
     "start_time": "2024-03-31T09:42:47.498744Z"
    },
    "collapsed": false
   },
   "outputs": [
    {
     "data": {
      "text/html": [
       "<div>\n",
       "<style scoped>\n",
       "    .dataframe tbody tr th:only-of-type {\n",
       "        vertical-align: middle;\n",
       "    }\n",
       "\n",
       "    .dataframe tbody tr th {\n",
       "        vertical-align: top;\n",
       "    }\n",
       "\n",
       "    .dataframe thead th {\n",
       "        text-align: right;\n",
       "    }\n",
       "</style>\n",
       "<table border=\"1\" class=\"dataframe\">\n",
       "  <thead>\n",
       "    <tr style=\"text-align: right;\">\n",
       "      <th></th>\n",
       "      <th>domanialite</th>\n",
       "      <th>arrondissement</th>\n",
       "      <th>complement_addresse</th>\n",
       "      <th>lieu</th>\n",
       "      <th>libelle_francais</th>\n",
       "      <th>genre</th>\n",
       "      <th>espece</th>\n",
       "      <th>variete</th>\n",
       "      <th>circonference_cm</th>\n",
       "      <th>hauteur_m</th>\n",
       "      <th>stade_developpement</th>\n",
       "      <th>remarquable</th>\n",
       "      <th>geo_point_2d_a</th>\n",
       "      <th>geo_point_2d_b</th>\n",
       "    </tr>\n",
       "  </thead>\n",
       "  <tbody>\n",
       "    <tr>\n",
       "      <th>0</th>\n",
       "      <td>False</td>\n",
       "      <td>False</td>\n",
       "      <td>True</td>\n",
       "      <td>False</td>\n",
       "      <td>False</td>\n",
       "      <td>False</td>\n",
       "      <td>False</td>\n",
       "      <td>True</td>\n",
       "      <td>False</td>\n",
       "      <td>False</td>\n",
       "      <td>True</td>\n",
       "      <td>False</td>\n",
       "      <td>False</td>\n",
       "      <td>False</td>\n",
       "    </tr>\n",
       "    <tr>\n",
       "      <th>1</th>\n",
       "      <td>False</td>\n",
       "      <td>False</td>\n",
       "      <td>True</td>\n",
       "      <td>False</td>\n",
       "      <td>False</td>\n",
       "      <td>False</td>\n",
       "      <td>False</td>\n",
       "      <td>True</td>\n",
       "      <td>False</td>\n",
       "      <td>False</td>\n",
       "      <td>False</td>\n",
       "      <td>True</td>\n",
       "      <td>False</td>\n",
       "      <td>False</td>\n",
       "    </tr>\n",
       "    <tr>\n",
       "      <th>2</th>\n",
       "      <td>False</td>\n",
       "      <td>False</td>\n",
       "      <td>True</td>\n",
       "      <td>False</td>\n",
       "      <td>False</td>\n",
       "      <td>False</td>\n",
       "      <td>False</td>\n",
       "      <td>True</td>\n",
       "      <td>False</td>\n",
       "      <td>False</td>\n",
       "      <td>False</td>\n",
       "      <td>True</td>\n",
       "      <td>False</td>\n",
       "      <td>False</td>\n",
       "    </tr>\n",
       "    <tr>\n",
       "      <th>3</th>\n",
       "      <td>False</td>\n",
       "      <td>False</td>\n",
       "      <td>True</td>\n",
       "      <td>False</td>\n",
       "      <td>False</td>\n",
       "      <td>False</td>\n",
       "      <td>False</td>\n",
       "      <td>True</td>\n",
       "      <td>False</td>\n",
       "      <td>False</td>\n",
       "      <td>False</td>\n",
       "      <td>True</td>\n",
       "      <td>False</td>\n",
       "      <td>False</td>\n",
       "    </tr>\n",
       "    <tr>\n",
       "      <th>4</th>\n",
       "      <td>False</td>\n",
       "      <td>False</td>\n",
       "      <td>True</td>\n",
       "      <td>False</td>\n",
       "      <td>False</td>\n",
       "      <td>False</td>\n",
       "      <td>False</td>\n",
       "      <td>True</td>\n",
       "      <td>False</td>\n",
       "      <td>False</td>\n",
       "      <td>True</td>\n",
       "      <td>True</td>\n",
       "      <td>False</td>\n",
       "      <td>False</td>\n",
       "    </tr>\n",
       "    <tr>\n",
       "      <th>...</th>\n",
       "      <td>...</td>\n",
       "      <td>...</td>\n",
       "      <td>...</td>\n",
       "      <td>...</td>\n",
       "      <td>...</td>\n",
       "      <td>...</td>\n",
       "      <td>...</td>\n",
       "      <td>...</td>\n",
       "      <td>...</td>\n",
       "      <td>...</td>\n",
       "      <td>...</td>\n",
       "      <td>...</td>\n",
       "      <td>...</td>\n",
       "      <td>...</td>\n",
       "    </tr>\n",
       "    <tr>\n",
       "      <th>200132</th>\n",
       "      <td>False</td>\n",
       "      <td>False</td>\n",
       "      <td>True</td>\n",
       "      <td>False</td>\n",
       "      <td>True</td>\n",
       "      <td>False</td>\n",
       "      <td>False</td>\n",
       "      <td>True</td>\n",
       "      <td>False</td>\n",
       "      <td>False</td>\n",
       "      <td>True</td>\n",
       "      <td>False</td>\n",
       "      <td>False</td>\n",
       "      <td>False</td>\n",
       "    </tr>\n",
       "    <tr>\n",
       "      <th>200133</th>\n",
       "      <td>False</td>\n",
       "      <td>False</td>\n",
       "      <td>True</td>\n",
       "      <td>False</td>\n",
       "      <td>False</td>\n",
       "      <td>False</td>\n",
       "      <td>False</td>\n",
       "      <td>True</td>\n",
       "      <td>False</td>\n",
       "      <td>False</td>\n",
       "      <td>True</td>\n",
       "      <td>False</td>\n",
       "      <td>False</td>\n",
       "      <td>False</td>\n",
       "    </tr>\n",
       "    <tr>\n",
       "      <th>200134</th>\n",
       "      <td>False</td>\n",
       "      <td>False</td>\n",
       "      <td>True</td>\n",
       "      <td>False</td>\n",
       "      <td>False</td>\n",
       "      <td>False</td>\n",
       "      <td>False</td>\n",
       "      <td>True</td>\n",
       "      <td>False</td>\n",
       "      <td>False</td>\n",
       "      <td>True</td>\n",
       "      <td>False</td>\n",
       "      <td>False</td>\n",
       "      <td>False</td>\n",
       "    </tr>\n",
       "    <tr>\n",
       "      <th>200135</th>\n",
       "      <td>False</td>\n",
       "      <td>False</td>\n",
       "      <td>True</td>\n",
       "      <td>False</td>\n",
       "      <td>False</td>\n",
       "      <td>False</td>\n",
       "      <td>False</td>\n",
       "      <td>True</td>\n",
       "      <td>False</td>\n",
       "      <td>False</td>\n",
       "      <td>True</td>\n",
       "      <td>False</td>\n",
       "      <td>False</td>\n",
       "      <td>False</td>\n",
       "    </tr>\n",
       "    <tr>\n",
       "      <th>200136</th>\n",
       "      <td>False</td>\n",
       "      <td>False</td>\n",
       "      <td>True</td>\n",
       "      <td>False</td>\n",
       "      <td>False</td>\n",
       "      <td>False</td>\n",
       "      <td>False</td>\n",
       "      <td>True</td>\n",
       "      <td>False</td>\n",
       "      <td>False</td>\n",
       "      <td>True</td>\n",
       "      <td>False</td>\n",
       "      <td>False</td>\n",
       "      <td>False</td>\n",
       "    </tr>\n",
       "  </tbody>\n",
       "</table>\n",
       "<p>200137 rows × 14 columns</p>\n",
       "</div>"
      ],
      "text/plain": [
       "        domanialite  arrondissement  complement_addresse   lieu  \\\n",
       "0             False           False                 True  False   \n",
       "1             False           False                 True  False   \n",
       "2             False           False                 True  False   \n",
       "3             False           False                 True  False   \n",
       "4             False           False                 True  False   \n",
       "...             ...             ...                  ...    ...   \n",
       "200132        False           False                 True  False   \n",
       "200133        False           False                 True  False   \n",
       "200134        False           False                 True  False   \n",
       "200135        False           False                 True  False   \n",
       "200136        False           False                 True  False   \n",
       "\n",
       "        libelle_francais  genre  espece  variete  circonference_cm  hauteur_m  \\\n",
       "0                  False  False   False     True             False      False   \n",
       "1                  False  False   False     True             False      False   \n",
       "2                  False  False   False     True             False      False   \n",
       "3                  False  False   False     True             False      False   \n",
       "4                  False  False   False     True             False      False   \n",
       "...                  ...    ...     ...      ...               ...        ...   \n",
       "200132              True  False   False     True             False      False   \n",
       "200133             False  False   False     True             False      False   \n",
       "200134             False  False   False     True             False      False   \n",
       "200135             False  False   False     True             False      False   \n",
       "200136             False  False   False     True             False      False   \n",
       "\n",
       "        stade_developpement  remarquable  geo_point_2d_a  geo_point_2d_b  \n",
       "0                      True        False           False           False  \n",
       "1                     False         True           False           False  \n",
       "2                     False         True           False           False  \n",
       "3                     False         True           False           False  \n",
       "4                      True         True           False           False  \n",
       "...                     ...          ...             ...             ...  \n",
       "200132                 True        False           False           False  \n",
       "200133                 True        False           False           False  \n",
       "200134                 True        False           False           False  \n",
       "200135                 True        False           False           False  \n",
       "200136                 True        False           False           False  \n",
       "\n",
       "[200137 rows x 14 columns]"
      ]
     },
     "execution_count": 18,
     "metadata": {},
     "output_type": "execute_result"
    }
   ],
   "source": [
    "df.isna() # Check for missing values, false means no missing values for each row"
   ]
  },
  {
   "cell_type": "code",
   "execution_count": 19,
   "id": "44e92aff09ede676",
   "metadata": {
    "ExecuteTime": {
     "end_time": "2024-03-31T09:42:47.667627Z",
     "start_time": "2024-03-31T09:42:47.591903Z"
    },
    "collapsed": false
   },
   "outputs": [
    {
     "data": {
      "text/plain": [
       "complement_addresse    169235\n",
       "variete                163360\n",
       "stade_developpement     67205\n",
       "remarquable             63098\n",
       "espece                   1752\n",
       "libelle_francais         1497\n",
       "genre                      16\n",
       "domanialite                 1\n",
       "arrondissement              0\n",
       "lieu                        0\n",
       "circonference_cm            0\n",
       "hauteur_m                   0\n",
       "geo_point_2d_a              0\n",
       "geo_point_2d_b              0\n",
       "dtype: int64"
      ]
     },
     "execution_count": 19,
     "metadata": {},
     "output_type": "execute_result"
    }
   ],
   "source": [
    "df.isna().sum().sort_values(ascending=False) # Count the number of missing values for each column"
   ]
  },
  {
   "cell_type": "code",
   "execution_count": 20,
   "id": "c26bd8966739cb4e",
   "metadata": {
    "ExecuteTime": {
     "end_time": "2024-03-31T09:42:47.730881Z",
     "start_time": "2024-03-31T09:42:47.669252Z"
    },
    "collapsed": false
   },
   "outputs": [
    {
     "data": {
      "text/plain": [
       "complement_addresse    84.559577\n",
       "variete                81.624088\n",
       "stade_developpement    33.579498\n",
       "remarquable            31.527404\n",
       "espece                  0.875400\n",
       "libelle_francais        0.747988\n",
       "genre                   0.007995\n",
       "domanialite             0.000500\n",
       "arrondissement          0.000000\n",
       "lieu                    0.000000\n",
       "circonference_cm        0.000000\n",
       "hauteur_m               0.000000\n",
       "geo_point_2d_a          0.000000\n",
       "geo_point_2d_b          0.000000\n",
       "dtype: float64"
      ]
     },
     "execution_count": 20,
     "metadata": {},
     "output_type": "execute_result"
    }
   ],
   "source": [
    "percentage_Nan = (df.isna().sum() / df.shape[0]).sort_values(ascending=False)*100 # Calculate the percentage of missing values for each column\n",
    "percentage_Nan # Display the percentage of missing values for each column"
   ]
  },
  {
   "cell_type": "markdown",
   "id": "1de321347cebb53c",
   "metadata": {
    "collapsed": false
   },
   "source": [
    "## Graphical Representation of Missing Values"
   ]
  },
  {
   "cell_type": "code",
   "execution_count": 21,
   "id": "be7e6b5bd1ff5418",
   "metadata": {
    "ExecuteTime": {
     "end_time": "2024-03-31T09:42:50.499452Z",
     "start_time": "2024-03-31T09:42:47.732885Z"
    },
    "collapsed": false
   },
   "outputs": [
    {
     "data": {
      "image/png": "[encoded data removed]",
      "text/plain": [
       "<Figure size 1440x432 with 1 Axes>"
      ]
     },
     "metadata": {
      "needs_background": "light"
     },
     "output_type": "display_data"
    }
   ],
   "source": [
    "import matplotlib.pyplot as plt # Import the matplotlib library for data visualization\n",
    "import seaborn as sns # Import the seaborn library for data visualization\n",
    "sns.set_style('whitegrid') # Set the style of the plots\n",
    "plt.figure(figsize=(20, 6)) # Set the size of the figure\n",
    "plt.title('Representation of Missing Values (Matrix of NaN)', fontsize=20) # Set the title of the figure\n",
    "sns.heatmap(df.isna(), cbar=False) # Create a heatmap of missing values\n",
    "plt.show() # Display the figure so that it is visible in the notebook."
   ]
  },
  {
   "cell_type": "markdown",
   "id": "e397bad590c9fc18",
   "metadata": {
    "collapsed": false
   },
   "source": [
    "## Erase columns with less than 50% missing values"
   ]
  },
  {
   "cell_type": "code",
   "execution_count": 22,
   "id": "12effc5f4daf1aad",
   "metadata": {
    "ExecuteTime": {
     "end_time": "2024-03-31T09:42:50.531064Z",
     "start_time": "2024-03-31T09:42:50.502455Z"
    },
    "collapsed": false
   },
   "outputs": [],
   "source": [
    "df.drop(columns=percentage_Nan[percentage_Nan > 50].index, inplace=True) # Drop columns with more than 50% missing values"
   ]
  },
  {
   "cell_type": "code",
   "execution_count": 23,
   "id": "6b287c6ddf2bcdd0",
   "metadata": {
    "ExecuteTime": {
     "end_time": "2024-03-31T09:42:50.546604Z",
     "start_time": "2024-03-31T09:42:50.534063Z"
    },
    "collapsed": false
   },
   "outputs": [
    {
     "data": {
      "text/plain": [
       "(200137, 12)"
      ]
     },
     "execution_count": 23,
     "metadata": {},
     "output_type": "execute_result"
    }
   ],
   "source": [
    "df.shape # Display the number of rows and columns in the DataFrame"
   ]
  },
  {
   "cell_type": "code",
   "execution_count": 24,
   "id": "3a7c9bdcc315c150",
   "metadata": {
    "ExecuteTime": {
     "end_time": "2024-03-31T09:42:52.798577Z",
     "start_time": "2024-03-31T09:42:50.549622Z"
    },
    "collapsed": false
   },
   "outputs": [
    {
     "data": {
      "image/png": "[encoded data removed]",
      "text/plain": [
       "<Figure size 1440x432 with 1 Axes>"
      ]
     },
     "metadata": {},
     "output_type": "display_data"
    }
   ],
   "source": [
    "sns.set_style('whitegrid') # Set the style of the plots\n",
    "plt.figure(figsize=(20, 6)) # Set the size of the figure\n",
    "plt.title('Representation of Missing Values (Matrix of NaN after removing columns with more than 50% missing values)', fontsize=20) # Set the title of the figure\n",
    "sns.heatmap(df.isna(), cbar=False) # Create a heatmap of missing values after removing columns with more than 50% missing values\n",
    "plt.show() # Display the figure so that it is visible in the notebook and the missing values are visible."
   ]
  },
  {
   "cell_type": "markdown",
   "id": "bedf0a84c446155",
   "metadata": {
    "collapsed": false
   },
   "source": [
    "## Outlier Treatment\n"
   ]
  },
  {
   "cell_type": "code",
   "execution_count": 25,
   "id": "db60d3195426c211",
   "metadata": {
    "ExecuteTime": {
     "end_time": "2024-03-31T09:42:53.518450Z",
     "start_time": "2024-03-31T09:42:52.800506Z"
    },
    "collapsed": false
   },
   "outputs": [
    {
     "data": {
      "image/png": "[encoded data removed]",
      "text/plain": [
       "<Figure size 1152x288 with 2 Axes>"
      ]
     },
     "metadata": {},
     "output_type": "display_data"
    }
   ],
   "source": [
    "# Set the size of the entire figure\n",
    "plt.figure(figsize=(16, 4))\n",
    "\n",
    "# Create the first subplot for the circumference\n",
    "plt.subplot(1, 2, 1) # (rows, columns, subplot index)\n",
    "sns.boxplot(x='circonference_cm',data=df)\n",
    "plt.title(\"Boxplot for Circumference Before Outlier Removal\")\n",
    "\n",
    "# Create the second subplot for the height\n",
    "plt.subplot(1, 2, 2) # (rows, columns, subplot index)\n",
    "sns.boxplot(x='hauteur_m', data=df)\n",
    "plt.title(\"Boxplot for Height Before Outlier Removal\")\n",
    "\n",
    "plt.show()"
   ]
  },
  {
   "cell_type": "markdown",
   "id": "d283fe17c78e4b1b",
   "metadata": {
    "collapsed": false
   },
   "source": [
    "## Understanding Boxplots\n",
    "\n",
    "A boxplot, also known as a box-and-whisker plot, is a standardized way of displaying the distribution of data based on a five-number summary: minimum, first quartile (Q1), median, third quartile (Q3), and maximum. It can tell you about your outliers and what their values are. It can also tell you if your data is symmetrical, how tightly your data is grouped, and if and how your data is skewed.\n",
    "\n",
    "### Components of a Boxplot\n",
    "\n",
    "- **Central Box**: The central box of the boxplot represents the interquartile range (IQR), which is the distance between the first and third quartiles. The bottom and top edges of the box indicate the Q1 and Q3, respectively. The line inside the box shows the median of the data.\n",
    "\n",
    "- **Whiskers**: The lines extending from the top and bottom of the box, known as whiskers, indicate variability outside the upper and lower quartiles. They extend to the last data point that is within 1.5 times the IQR.\n",
    "\n",
    "- **Outliers**: Points outside the range of the whiskers are considered outliers and are represented as individual points. These are the data points that fall beyond the end of the whiskers and can indicate anomalies in the data set.\n",
    "\n",
    "### What Boxplots Reveal\n",
    "\n",
    "- **Outliers**: By identifying outliers, boxplots allow analysts to detect and examine anomalous observations that may need further investigation.\n",
    "\n",
    "- **Data Distribution**: Boxplots provide a visual summary of the central tendency, dispersion, and skewness of the data distribution.\n",
    "\n",
    "- **Comparisons**: When used side by side, boxplots can quickly compare distributions across different categories or groups.\n",
    "\n",
    "Boxplots are especially useful in exploratory data analysis and are well-suited for both data scientists and individuals new to data science due to their simplicity and richness of information.\n"
   ]
  },
  {
   "cell_type": "markdown",
   "id": "3a50eff060b602dc",
   "metadata": {
    "collapsed": false
   },
   "source": [
    "## Removing Outliers"
   ]
  },
  {
   "cell_type": "markdown",
   "id": "3d7ef6b797c44664",
   "metadata": {
    "collapsed": false
   },
   "source": [
    "### Circumference"
   ]
  },
  {
   "cell_type": "code",
   "execution_count": 26,
   "id": "2a6df47ca34fd0eb",
   "metadata": {
    "ExecuteTime": {
     "end_time": "2024-03-31T09:42:53.548468Z",
     "start_time": "2024-03-31T09:42:53.520325Z"
    },
    "collapsed": false
   },
   "outputs": [
    {
     "data": {
      "text/plain": [
       "count    200137.000000\n",
       "mean         83.380479\n",
       "std         673.190213\n",
       "min           0.000000\n",
       "25%          30.000000\n",
       "50%          70.000000\n",
       "75%         115.000000\n",
       "max      250255.000000\n",
       "Name: circonference_cm, dtype: float64"
      ]
     },
     "execution_count": 26,
     "metadata": {},
     "output_type": "execute_result"
    }
   ],
   "source": [
    "## statistics for circumference before removal of outliers\n",
    "df['circonference_cm'].describe()"
   ]
  },
  {
   "cell_type": "code",
   "execution_count": 27,
   "id": "dcf3a316657aa955",
   "metadata": {
    "ExecuteTime": {
     "end_time": "2024-03-31T09:42:53.579601Z",
     "start_time": "2024-03-31T09:42:53.552021Z"
    },
    "collapsed": false
   },
   "outputs": [
    {
     "name": "stdout",
     "output_type": "stream",
     "text": [
      "Test statistic: 1094177.3393356279\n",
      "P-value: 0.0\n",
      "The null hypothesis can be rejected: the distribution is not normal.\n"
     ]
    }
   ],
   "source": [
    "### Detect if distrubution is normal\n",
    "from scipy.stats import normaltest\n",
    "stat, p = normaltest(df['circonference_cm']) # Perform the normality test\n",
    "alpha = 0.05 # Set the significance level\n",
    "print(\"Test statistic:\", stat) # Display the test statistic\n",
    "print(\"P-value:\", p) # Display the p-value\n",
    "if p < alpha: # Check if the p-value is less than the significance level\n",
    "    print(\"The null hypothesis can be rejected: the distribution is not normal.\")\n",
    "else:\n",
    "    print(\"The null hypothesis cannot be rejected: the distribution is normal.\")"
   ]
  },
  {
   "cell_type": "markdown",
   "id": "a0941da7471ee322",
   "metadata": {
    "collapsed": false
   },
   "source": [
    "### Using the IQR method to remove outliers for circumference because the distribution is not normal"
   ]
  },
  {
   "cell_type": "code",
   "execution_count": 28,
   "id": "b044fefd51dc28a4",
   "metadata": {
    "ExecuteTime": {
     "end_time": "2024-03-31T09:42:53.610843Z",
     "start_time": "2024-03-31T09:42:53.582609Z"
    },
    "collapsed": false
   },
   "outputs": [],
   "source": [
    "# remove outliers for circumference\n",
    "Q1 = df['circonference_cm'].quantile(0.25) # Calculate the first quartile (Q1)\n",
    "Q3 = df['circonference_cm'].quantile(0.75) # Calculate the third quartile (Q3)\n",
    "IQR = Q3 - Q1 # Calculate the interquartile range (IQR)\n"
   ]
  },
  {
   "cell_type": "code",
   "execution_count": 29,
   "id": "2bec375ba20e9441",
   "metadata": {
    "ExecuteTime": {
     "end_time": "2024-03-31T09:42:53.626368Z",
     "start_time": "2024-03-31T09:42:53.612859Z"
    },
    "collapsed": false
   },
   "outputs": [
    {
     "name": "stdout",
     "output_type": "stream",
     "text": [
      "Lower bound for outliers: -97.5\n",
      "Upper bound for outliers: 242.5\n"
     ]
    }
   ],
   "source": [
    "# Calculate the lower and upper bounds for the outliers\n",
    "lower_bound = Q1 - 1.5 * IQR\n",
    "print(f'Lower bound for outliers: {lower_bound}')\n",
    "upper_bound = Q3 + 1.5 * IQR\n",
    "print(f'Upper bound for outliers: {upper_bound}')"
   ]
  },
  {
   "cell_type": "code",
   "execution_count": 30,
   "id": "4d6ed3bf8b121b52",
   "metadata": {
    "ExecuteTime": {
     "end_time": "2024-03-31T09:42:53.656994Z",
     "start_time": "2024-03-31T09:42:53.628369Z"
    },
    "collapsed": false
   },
   "outputs": [],
   "source": [
    "# Remove outliers for circumference\n",
    "df = df[(df['circonference_cm'] >= lower_bound) & (df['circonference_cm'] <= upper_bound)]"
   ]
  },
  {
   "cell_type": "code",
   "execution_count": 31,
   "id": "81d1f35cfdeb19d3",
   "metadata": {
    "ExecuteTime": {
     "end_time": "2024-03-31T09:42:54.047293Z",
     "start_time": "2024-03-31T09:42:53.659533Z"
    },
    "collapsed": false
   },
   "outputs": [
    {
     "data": {
      "image/png": "[encoded data removed]",
      "text/plain": [
       "<Figure size 576x288 with 1 Axes>"
      ]
     },
     "metadata": {},
     "output_type": "display_data"
    }
   ],
   "source": [
    "plt.figure(figsize=(8,4))\n",
    "sns.boxplot(x='circonference_cm', data=df)\n",
    "plt.title(\"Boxplot for circumference after removal of outliers\")\n",
    "plt.show()"
   ]
  },
  {
   "cell_type": "code",
   "execution_count": 32,
   "id": "311487813a3d0d5c",
   "metadata": {
    "ExecuteTime": {
     "end_time": "2024-03-31T09:42:54.078418Z",
     "start_time": "2024-03-31T09:42:54.048810Z"
    },
    "collapsed": false
   },
   "outputs": [
    {
     "data": {
      "text/plain": [
       "count    196728.000000\n",
       "mean         76.053241\n",
       "std          56.588084\n",
       "min           0.000000\n",
       "25%          30.000000\n",
       "50%          70.000000\n",
       "75%         110.000000\n",
       "max         242.000000\n",
       "Name: circonference_cm, dtype: float64"
      ]
     },
     "execution_count": 32,
     "metadata": {},
     "output_type": "execute_result"
    }
   ],
   "source": [
    "## statistics for circumference after removal of outliers\n",
    "df['circonference_cm'].describe()"
   ]
  },
  {
   "cell_type": "markdown",
   "id": "f3b985b18edb9981",
   "metadata": {
    "collapsed": false
   },
   "source": [
    "### Height"
   ]
  },
  {
   "cell_type": "code",
   "execution_count": 33,
   "id": "25dd0d3325235484",
   "metadata": {
    "ExecuteTime": {
     "end_time": "2024-03-31T09:42:54.109236Z",
     "start_time": "2024-03-31T09:42:54.080322Z"
    },
    "collapsed": false
   },
   "outputs": [
    {
     "data": {
      "text/plain": [
       "count    196728.000000\n",
       "mean         12.988781\n",
       "std        1988.221864\n",
       "min           0.000000\n",
       "25%           5.000000\n",
       "50%           8.000000\n",
       "75%          12.000000\n",
       "max      881818.000000\n",
       "Name: hauteur_m, dtype: float64"
      ]
     },
     "execution_count": 33,
     "metadata": {},
     "output_type": "execute_result"
    }
   ],
   "source": [
    "## statistics for height before removal of outliers\n",
    "df['hauteur_m'].describe()"
   ]
  },
  {
   "cell_type": "code",
   "execution_count": 34,
   "id": "19d31000885d7fc3",
   "metadata": {
    "ExecuteTime": {
     "end_time": "2024-03-31T09:42:54.140754Z",
     "start_time": "2024-03-31T09:42:54.111236Z"
    },
    "collapsed": false
   },
   "outputs": [
    {
     "name": "stdout",
     "output_type": "stream",
     "text": [
      "Test statistic: 1194642.0272159306\n",
      "P-value: 0.0\n",
      "The null hypothesis can be rejected: the distribution is not normal.\n"
     ]
    }
   ],
   "source": [
    "### Detect if distribution is normal\n",
    "stat, p = normaltest(df['hauteur_m']) # Perform the normality test\n",
    "alpha = 0.05 # Set the significance level\n",
    "print(\"Test statistic:\", stat) # Display the test statistic\n",
    "print(\"P-value:\", p) # Display the p-value\n",
    "if p < alpha: # Check if the p-value is less than the significance level\n",
    "    print(\"The null hypothesis can be rejected: the distribution is not normal.\")\n",
    "else:\n",
    "    print(\"The null hypothesis cannot be rejected: the distribution is normal.\")"
   ]
  },
  {
   "cell_type": "markdown",
   "id": "be03fb24e9bdd37e",
   "metadata": {
    "collapsed": false
   },
   "source": [
    "### Using the IQR method to remove outliers for height because the distribution is not normal"
   ]
  },
  {
   "cell_type": "code",
   "execution_count": 35,
   "id": "d2565ccf8222ce3f",
   "metadata": {
    "ExecuteTime": {
     "end_time": "2024-03-31T09:42:54.171942Z",
     "start_time": "2024-03-31T09:42:54.146754Z"
    },
    "collapsed": false
   },
   "outputs": [],
   "source": [
    "# remove outliers for height\n",
    "Q1 = df['hauteur_m'].quantile(0.25) # Calculate the first quartile (Q1)\n",
    "Q3 = df['hauteur_m'].quantile(0.75) # Calculate the third quartile (Q3)\n",
    "IQR = Q3 - Q1 # Calculate the interquartile range (IQR)"
   ]
  },
  {
   "cell_type": "code",
   "execution_count": 36,
   "id": "4ba2288e8a24cf44",
   "metadata": {
    "ExecuteTime": {
     "end_time": "2024-03-31T09:42:54.187487Z",
     "start_time": "2024-03-31T09:42:54.172941Z"
    },
    "collapsed": false
   },
   "outputs": [
    {
     "name": "stdout",
     "output_type": "stream",
     "text": [
      "Lower bound for outliers: 0\n",
      "Upper bound for outliers: 22.5\n"
     ]
    }
   ],
   "source": [
    "# Calculate the lower and upper bounds for the outliers with lower bound that cant be negative\n",
    "lower_bound = Q1 - 1.5 * IQR\n",
    "if lower_bound < 0:\n",
    "    lower_bound = 0\n",
    "print(f'Lower bound for outliers: {lower_bound}')\n",
    "upper_bound = Q3 + 1.5 * IQR\n",
    "print(f'Upper bound for outliers: {upper_bound}')"
   ]
  },
  {
   "cell_type": "code",
   "execution_count": 37,
   "id": "7a371a3c83b343f2",
   "metadata": {
    "ExecuteTime": {
     "end_time": "2024-03-31T09:42:54.218233Z",
     "start_time": "2024-03-31T09:42:54.190645Z"
    },
    "collapsed": false
   },
   "outputs": [],
   "source": [
    "# Remove outliers for height\n",
    "df = df[(df['hauteur_m'] >= lower_bound) & (df['hauteur_m'] <= upper_bound)]"
   ]
  },
  {
   "cell_type": "code",
   "execution_count": 38,
   "id": "8b996c1888623041",
   "metadata": {
    "ExecuteTime": {
     "end_time": "2024-03-31T09:42:54.578516Z",
     "start_time": "2024-03-31T09:42:54.219792Z"
    },
    "collapsed": false
   },
   "outputs": [
    {
     "data": {
      "image/png": "[encoded data removed]",
      "text/plain": [
       "<Figure size 576x288 with 1 Axes>"
      ]
     },
     "metadata": {},
     "output_type": "display_data"
    }
   ],
   "source": [
    "plt.figure(figsize=(8,4))\n",
    "sns.boxplot(x='hauteur_m', data=df)\n",
    "plt.title(\"Boxplot for height after removal of outliers\")\n",
    "plt.show()"
   ]
  },
  {
   "cell_type": "code",
   "execution_count": 39,
   "id": "fa57ce06ec3691f6",
   "metadata": {
    "ExecuteTime": {
     "end_time": "2024-03-31T09:42:54.608828Z",
     "start_time": "2024-03-31T09:42:54.580523Z"
    },
    "collapsed": false
   },
   "outputs": [
    {
     "data": {
      "text/plain": [
       "count    193997.000000\n",
       "mean          7.925339\n",
       "std           5.704763\n",
       "min           0.000000\n",
       "25%           4.000000\n",
       "50%           8.000000\n",
       "75%          12.000000\n",
       "max          22.000000\n",
       "Name: hauteur_m, dtype: float64"
      ]
     },
     "execution_count": 39,
     "metadata": {},
     "output_type": "execute_result"
    }
   ],
   "source": [
    "## statistics for height after removal of outliers\n",
    "df['hauteur_m'].describe()"
   ]
  },
  {
   "cell_type": "markdown",
   "id": "a17b93e41625504",
   "metadata": {
    "collapsed": false
   },
   "source": [
    "## Treatment of categorical variables"
   ]
  },
  {
   "cell_type": "markdown",
   "id": "e8baf37c21e32388",
   "metadata": {
    "collapsed": false
   },
   "source": [
    "## Identify categorical variable that can be converted to numerical"
   ]
  },
  {
   "cell_type": "code",
   "execution_count": 40,
   "id": "fb3be9c3ad14f915",
   "metadata": {
    "ExecuteTime": {
     "end_time": "2024-03-31T09:42:54.624269Z",
     "start_time": "2024-03-31T09:42:54.610750Z"
    },
    "collapsed": false
   },
   "outputs": [
    {
     "data": {
      "text/plain": [
       "object     7\n",
       "float64    3\n",
       "int64      2\n",
       "Name: count, dtype: int64"
      ]
     },
     "execution_count": 40,
     "metadata": {},
     "output_type": "execute_result"
    }
   ],
   "source": [
    "df.dtypes.value_counts() # Count the number of columns with each data type"
   ]
  },
  {
   "cell_type": "code",
   "execution_count": 41,
   "id": "fba66244391c6b66",
   "metadata": {
    "ExecuteTime": {
     "end_time": "2024-03-31T09:42:54.688493Z",
     "start_time": "2024-03-31T09:42:54.626269Z"
    },
    "collapsed": false
   },
   "outputs": [
    {
     "name": "stdout",
     "output_type": "stream",
     "text": [
      "<class 'pandas.core.frame.DataFrame'>\n",
      "Index: 193997 entries, 0 to 200136\n",
      "Data columns (total 12 columns):\n",
      " #   Column               Non-Null Count   Dtype  \n",
      "---  ------               --------------   -----  \n",
      " 0   domanialite          193996 non-null  object \n",
      " 1   arrondissement       193997 non-null  object \n",
      " 2   lieu                 193997 non-null  object \n",
      " 3   libelle_francais     192518 non-null  object \n",
      " 4   genre                193981 non-null  object \n",
      " 5   espece               192247 non-null  object \n",
      " 6   circonference_cm     193997 non-null  int64  \n",
      " 7   hauteur_m            193997 non-null  int64  \n",
      " 8   stade_developpement  127761 non-null  object \n",
      " 9   remarquable          132163 non-null  float64\n",
      " 10  geo_point_2d_a       193997 non-null  float64\n",
      " 11  geo_point_2d_b       193997 non-null  float64\n",
      "dtypes: float64(3), int64(2), object(7)\n",
      "memory usage: 19.2+ MB\n"
     ]
    }
   ],
   "source": [
    "df.info() # Display general information about the DataFrame"
   ]
  },
  {
   "cell_type": "code",
   "execution_count": 42,
   "id": "f62ceab356570a14",
   "metadata": {
    "ExecuteTime": {
     "end_time": "2024-03-31T09:42:54.719220Z",
     "start_time": "2024-03-31T09:42:54.689953Z"
    },
    "collapsed": false
   },
   "outputs": [
    {
     "data": {
      "text/plain": [
       "Index(['domanialite', 'arrondissement', 'lieu', 'libelle_francais', 'genre',\n",
       "       'espece', 'stade_developpement'],\n",
       "      dtype='object')"
      ]
     },
     "execution_count": 42,
     "metadata": {},
     "output_type": "execute_result"
    }
   ],
   "source": [
    "## List of categorical variables\n",
    "var_qualitatives = df.select_dtypes(include='object').columns\n",
    "var_qualitatives"
   ]
  },
  {
   "cell_type": "code",
   "execution_count": 43,
   "id": "429dcaefd1159f5e",
   "metadata": {
    "ExecuteTime": {
     "end_time": "2024-03-31T09:42:54.859489Z",
     "start_time": "2024-03-31T09:42:54.721221Z"
    },
    "collapsed": false
   },
   "outputs": [
    {
     "name": "stdout",
     "output_type": "stream",
     "text": [
      "<class 'pandas.core.frame.DataFrame'>\n",
      "Index: 193997 entries, 0 to 200136\n",
      "Data columns (total 12 columns):\n",
      " #   Column               Non-Null Count   Dtype   \n",
      "---  ------               --------------   -----   \n",
      " 0   domanialite          193996 non-null  category\n",
      " 1   arrondissement       193997 non-null  category\n",
      " 2   lieu                 193997 non-null  category\n",
      " 3   libelle_francais     192518 non-null  category\n",
      " 4   genre                193981 non-null  category\n",
      " 5   espece               192247 non-null  category\n",
      " 6   circonference_cm     193997 non-null  int64   \n",
      " 7   hauteur_m            193997 non-null  int64   \n",
      " 8   stade_developpement  127761 non-null  category\n",
      " 9   remarquable          132163 non-null  category\n",
      " 10  geo_point_2d_a       193997 non-null  float64 \n",
      " 11  geo_point_2d_b       193997 non-null  float64 \n",
      "dtypes: category(8), float64(2), int64(2)\n",
      "memory usage: 10.0 MB\n"
     ]
    }
   ],
   "source": [
    "## Change the type of the 'remarquable' column to a categorical variable like 'category' and also those which Dtype is object\n",
    "df['remarquable'] = df['remarquable'].astype('category') # remarquable is categorical variable\n",
    "for var in var_qualitatives: # Loop through each qualitative variable\n",
    "    df[var] = df[var].astype('category')\n",
    "df.info() # Display general information about the DataFrame"
   ]
  },
  {
   "cell_type": "markdown",
   "id": "2386c4e1dede6c10",
   "metadata": {
    "collapsed": false
   },
   "source": [
    "## Copy of the cleaned dataset"
   ]
  },
  {
   "cell_type": "code",
   "execution_count": 44,
   "id": "83b08620b92a8afe",
   "metadata": {
    "ExecuteTime": {
     "end_time": "2024-03-31T09:42:54.874642Z",
     "start_time": "2024-03-31T09:42:54.861509Z"
    },
    "collapsed": false
   },
   "outputs": [],
   "source": [
    "df_cleaned = df.copy(deep = True) # Create a copy of the cleaned DataFrame"
   ]
  },
  {
   "cell_type": "markdown",
   "id": "a10ba33e55e00b17",
   "metadata": {
    "collapsed": false
   },
   "source": [
    "## Save the cleaned dataset"
   ]
  },
  {
   "cell_type": "code",
   "execution_count": 45,
   "id": "3e068a59554234",
   "metadata": {
    "ExecuteTime": {
     "end_time": "2024-03-31T09:42:55.858861Z",
     "start_time": "2024-03-31T09:42:54.875641Z"
    },
    "collapsed": false
   },
   "outputs": [],
   "source": [
    "df_cleaned.to_csv('../data/P2-arbres-fr_cleaned.csv', index=False) # Save the cleaned DataFrame to a new CSV file"
   ]
  },
  {
   "cell_type": "markdown",
   "id": "4786531dd3381b3c",
   "metadata": {
    "collapsed": false
   },
   "source": [
    "# Step 4: Conclusion"
   ]
  },
  {
   "cell_type": "code",
   "execution_count": 46,
   "id": "40b4a89b6e7f93e8",
   "metadata": {
    "ExecuteTime": {
     "end_time": "2024-03-31T09:42:55.874715Z",
     "start_time": "2024-03-31T09:42:55.861208Z"
    },
    "collapsed": false
   },
   "outputs": [
    {
     "name": "stdout",
     "output_type": "stream",
     "text": [
      "The cleaned dataset contains 193997 rows (instances) and 12 columns (variables).\n"
     ]
    }
   ],
   "source": [
    "print(f'The cleaned dataset contains {df_cleaned.shape[0]} rows (instances) and {df_cleaned.shape[1]} columns (variables).') # Display the number of rows and columns in the cleaned DataFrame"
   ]
  },
  {
   "cell_type": "code",
   "execution_count": 47,
   "id": "36db88d4903a4db1",
   "metadata": {
    "ExecuteTime": {
     "end_time": "2024-03-31T09:42:55.906303Z",
     "start_time": "2024-03-31T09:42:55.876715Z"
    },
    "collapsed": false
   },
   "outputs": [
    {
     "name": "stdout",
     "output_type": "stream",
     "text": [
      "<class 'pandas.core.frame.DataFrame'>\n",
      "Index: 193997 entries, 0 to 200136\n",
      "Data columns (total 12 columns):\n",
      " #   Column               Non-Null Count   Dtype   \n",
      "---  ------               --------------   -----   \n",
      " 0   domanialite          193996 non-null  category\n",
      " 1   arrondissement       193997 non-null  category\n",
      " 2   lieu                 193997 non-null  category\n",
      " 3   libelle_francais     192518 non-null  category\n",
      " 4   genre                193981 non-null  category\n",
      " 5   espece               192247 non-null  category\n",
      " 6   circonference_cm     193997 non-null  int64   \n",
      " 7   hauteur_m            193997 non-null  int64   \n",
      " 8   stade_developpement  127761 non-null  category\n",
      " 9   remarquable          132163 non-null  category\n",
      " 10  geo_point_2d_a       193997 non-null  float64 \n",
      " 11  geo_point_2d_b       193997 non-null  float64 \n",
      "dtypes: category(8), float64(2), int64(2)\n",
      "memory usage: 10.0 MB\n"
     ]
    }
   ],
   "source": [
    "df_cleaned.info() # Display general information about the cleaned DataFrame"
   ]
  },
  {
   "cell_type": "code",
   "execution_count": 48,
   "id": "d45eaf3a6542413e",
   "metadata": {
    "ExecuteTime": {
     "end_time": "2024-03-31T09:42:55.937554Z",
     "start_time": "2024-03-31T09:42:55.909523Z"
    },
    "collapsed": false
   },
   "outputs": [
    {
     "data": {
      "text/html": [
       "<div>\n",
       "<style scoped>\n",
       "    .dataframe tbody tr th:only-of-type {\n",
       "        vertical-align: middle;\n",
       "    }\n",
       "\n",
       "    .dataframe tbody tr th {\n",
       "        vertical-align: top;\n",
       "    }\n",
       "\n",
       "    .dataframe thead th {\n",
       "        text-align: right;\n",
       "    }\n",
       "</style>\n",
       "<table border=\"1\" class=\"dataframe\">\n",
       "  <thead>\n",
       "    <tr style=\"text-align: right;\">\n",
       "      <th></th>\n",
       "      <th>domanialite</th>\n",
       "      <th>arrondissement</th>\n",
       "      <th>lieu</th>\n",
       "      <th>libelle_francais</th>\n",
       "      <th>genre</th>\n",
       "      <th>espece</th>\n",
       "      <th>circonference_cm</th>\n",
       "      <th>hauteur_m</th>\n",
       "      <th>stade_developpement</th>\n",
       "      <th>remarquable</th>\n",
       "      <th>geo_point_2d_a</th>\n",
       "      <th>geo_point_2d_b</th>\n",
       "    </tr>\n",
       "  </thead>\n",
       "  <tbody>\n",
       "    <tr>\n",
       "      <th>0</th>\n",
       "      <td>Jardin</td>\n",
       "      <td>PARIS 7E ARRDT</td>\n",
       "      <td>MAIRIE DU 7E 116 RUE DE GRENELLE PARIS 7E</td>\n",
       "      <td>Marronnier</td>\n",
       "      <td>Aesculus</td>\n",
       "      <td>hippocastanum</td>\n",
       "      <td>20</td>\n",
       "      <td>5</td>\n",
       "      <td>NaN</td>\n",
       "      <td>0.0</td>\n",
       "      <td>48.857620</td>\n",
       "      <td>2.320962</td>\n",
       "    </tr>\n",
       "    <tr>\n",
       "      <th>1</th>\n",
       "      <td>Jardin</td>\n",
       "      <td>PARIS 7E ARRDT</td>\n",
       "      <td>MAIRIE DU 7E 116 RUE DE GRENELLE PARIS 7E</td>\n",
       "      <td>If</td>\n",
       "      <td>Taxus</td>\n",
       "      <td>baccata</td>\n",
       "      <td>65</td>\n",
       "      <td>8</td>\n",
       "      <td>A</td>\n",
       "      <td>NaN</td>\n",
       "      <td>48.857656</td>\n",
       "      <td>2.321031</td>\n",
       "    </tr>\n",
       "    <tr>\n",
       "      <th>2</th>\n",
       "      <td>Jardin</td>\n",
       "      <td>PARIS 7E ARRDT</td>\n",
       "      <td>MAIRIE DU 7E 116 RUE DE GRENELLE PARIS 7E</td>\n",
       "      <td>If</td>\n",
       "      <td>Taxus</td>\n",
       "      <td>baccata</td>\n",
       "      <td>90</td>\n",
       "      <td>10</td>\n",
       "      <td>A</td>\n",
       "      <td>NaN</td>\n",
       "      <td>48.857705</td>\n",
       "      <td>2.321061</td>\n",
       "    </tr>\n",
       "    <tr>\n",
       "      <th>3</th>\n",
       "      <td>Jardin</td>\n",
       "      <td>PARIS 7E ARRDT</td>\n",
       "      <td>MAIRIE DU 7E 116 RUE DE GRENELLE PARIS 7E</td>\n",
       "      <td>Erable</td>\n",
       "      <td>Acer</td>\n",
       "      <td>negundo</td>\n",
       "      <td>60</td>\n",
       "      <td>8</td>\n",
       "      <td>A</td>\n",
       "      <td>NaN</td>\n",
       "      <td>48.857722</td>\n",
       "      <td>2.321006</td>\n",
       "    </tr>\n",
       "    <tr>\n",
       "      <th>4</th>\n",
       "      <td>Jardin</td>\n",
       "      <td>PARIS 17E ARRDT</td>\n",
       "      <td>PARC CLICHY-BATIGNOLLES-MARTIN LUTHER KING</td>\n",
       "      <td>Arbre à miel</td>\n",
       "      <td>Tetradium</td>\n",
       "      <td>daniellii</td>\n",
       "      <td>38</td>\n",
       "      <td>0</td>\n",
       "      <td>NaN</td>\n",
       "      <td>NaN</td>\n",
       "      <td>48.890435</td>\n",
       "      <td>2.315289</td>\n",
       "    </tr>\n",
       "  </tbody>\n",
       "</table>\n",
       "</div>"
      ],
      "text/plain": [
       "  domanialite   arrondissement                                        lieu  \\\n",
       "0      Jardin   PARIS 7E ARRDT   MAIRIE DU 7E 116 RUE DE GRENELLE PARIS 7E   \n",
       "1      Jardin   PARIS 7E ARRDT   MAIRIE DU 7E 116 RUE DE GRENELLE PARIS 7E   \n",
       "2      Jardin   PARIS 7E ARRDT   MAIRIE DU 7E 116 RUE DE GRENELLE PARIS 7E   \n",
       "3      Jardin   PARIS 7E ARRDT   MAIRIE DU 7E 116 RUE DE GRENELLE PARIS 7E   \n",
       "4      Jardin  PARIS 17E ARRDT  PARC CLICHY-BATIGNOLLES-MARTIN LUTHER KING   \n",
       "\n",
       "  libelle_francais      genre         espece  circonference_cm  hauteur_m  \\\n",
       "0       Marronnier   Aesculus  hippocastanum                20          5   \n",
       "1               If      Taxus        baccata                65          8   \n",
       "2               If      Taxus        baccata                90         10   \n",
       "3           Erable       Acer        negundo                60          8   \n",
       "4     Arbre à miel  Tetradium      daniellii                38          0   \n",
       "\n",
       "  stade_developpement remarquable  geo_point_2d_a  geo_point_2d_b  \n",
       "0                 NaN         0.0       48.857620        2.320962  \n",
       "1                   A         NaN       48.857656        2.321031  \n",
       "2                   A         NaN       48.857705        2.321061  \n",
       "3                   A         NaN       48.857722        2.321006  \n",
       "4                 NaN         NaN       48.890435        2.315289  "
      ]
     },
     "execution_count": 48,
     "metadata": {},
     "output_type": "execute_result"
    }
   ],
   "source": [
    "df_cleaned.head() # Display the first few rows of the cleaned DataFrame"
   ]
  },
  {
   "cell_type": "markdown",
   "id": "4c5574dcac9297f3",
   "metadata": {
    "collapsed": false
   },
   "source": [
    "## a-Statistical Indicators for the cleaned quantitative Variables"
   ]
  },
  {
   "cell_type": "code",
   "execution_count": 49,
   "id": "47f84e13f41e2796",
   "metadata": {
    "ExecuteTime": {
     "end_time": "2024-03-31T09:42:55.983597Z",
     "start_time": "2024-03-31T09:42:55.939668Z"
    },
    "collapsed": false
   },
   "outputs": [
    {
     "data": {
      "text/html": [
       "<div>\n",
       "<style scoped>\n",
       "    .dataframe tbody tr th:only-of-type {\n",
       "        vertical-align: middle;\n",
       "    }\n",
       "\n",
       "    .dataframe tbody tr th {\n",
       "        vertical-align: top;\n",
       "    }\n",
       "\n",
       "    .dataframe thead th {\n",
       "        text-align: right;\n",
       "    }\n",
       "</style>\n",
       "<table border=\"1\" class=\"dataframe\">\n",
       "  <thead>\n",
       "    <tr style=\"text-align: right;\">\n",
       "      <th></th>\n",
       "      <th>circonference_cm</th>\n",
       "      <th>hauteur_m</th>\n",
       "      <th>geo_point_2d_a</th>\n",
       "      <th>geo_point_2d_b</th>\n",
       "    </tr>\n",
       "  </thead>\n",
       "  <tbody>\n",
       "    <tr>\n",
       "      <th>count</th>\n",
       "      <td>193997.000000</td>\n",
       "      <td>193997.000000</td>\n",
       "      <td>193997.000000</td>\n",
       "      <td>193997.000000</td>\n",
       "    </tr>\n",
       "    <tr>\n",
       "      <th>mean</th>\n",
       "      <td>74.803280</td>\n",
       "      <td>7.925339</td>\n",
       "      <td>48.854705</td>\n",
       "      <td>2.347988</td>\n",
       "    </tr>\n",
       "    <tr>\n",
       "      <th>std</th>\n",
       "      <td>55.373099</td>\n",
       "      <td>5.704763</td>\n",
       "      <td>0.030190</td>\n",
       "      <td>0.051345</td>\n",
       "    </tr>\n",
       "    <tr>\n",
       "      <th>min</th>\n",
       "      <td>0.000000</td>\n",
       "      <td>0.000000</td>\n",
       "      <td>48.742290</td>\n",
       "      <td>2.210241</td>\n",
       "    </tr>\n",
       "    <tr>\n",
       "      <th>25%</th>\n",
       "      <td>30.000000</td>\n",
       "      <td>4.000000</td>\n",
       "      <td>48.835183</td>\n",
       "      <td>2.307210</td>\n",
       "    </tr>\n",
       "    <tr>\n",
       "      <th>50%</th>\n",
       "      <td>70.000000</td>\n",
       "      <td>8.000000</td>\n",
       "      <td>48.854263</td>\n",
       "      <td>2.350727</td>\n",
       "    </tr>\n",
       "    <tr>\n",
       "      <th>75%</th>\n",
       "      <td>110.000000</td>\n",
       "      <td>12.000000</td>\n",
       "      <td>48.876583</td>\n",
       "      <td>2.387043</td>\n",
       "    </tr>\n",
       "    <tr>\n",
       "      <th>max</th>\n",
       "      <td>242.000000</td>\n",
       "      <td>22.000000</td>\n",
       "      <td>48.911485</td>\n",
       "      <td>2.469759</td>\n",
       "    </tr>\n",
       "  </tbody>\n",
       "</table>\n",
       "</div>"
      ],
      "text/plain": [
       "       circonference_cm      hauteur_m  geo_point_2d_a  geo_point_2d_b\n",
       "count     193997.000000  193997.000000   193997.000000   193997.000000\n",
       "mean          74.803280       7.925339       48.854705        2.347988\n",
       "std           55.373099       5.704763        0.030190        0.051345\n",
       "min            0.000000       0.000000       48.742290        2.210241\n",
       "25%           30.000000       4.000000       48.835183        2.307210\n",
       "50%           70.000000       8.000000       48.854263        2.350727\n",
       "75%          110.000000      12.000000       48.876583        2.387043\n",
       "max          242.000000      22.000000       48.911485        2.469759"
      ]
     },
     "execution_count": 49,
     "metadata": {},
     "output_type": "execute_result"
    }
   ],
   "source": [
    "df_cleaned.describe() # Display the statistical indicators for the cleaned DataFrame"
   ]
  },
  {
   "cell_type": "markdown",
   "id": "e3cfc96e417240c1",
   "metadata": {
    "collapsed": false
   },
   "source": [
    "## Number of trees for each modality with a sum"
   ]
  },
  {
   "cell_type": "code",
   "execution_count": 50,
   "id": "f88b76c50ace9668",
   "metadata": {
    "ExecuteTime": {
     "end_time": "2024-03-31T09:42:56.046485Z",
     "start_time": "2024-03-31T09:42:55.986596Z"
    },
    "collapsed": false
   },
   "outputs": [
    {
     "name": "stdout",
     "output_type": "stream",
     "text": [
      "domanialite\n",
      "Alignement      102401\n",
      "Jardin           44353\n",
      "CIMETIERE        30609\n",
      "DASCO             6369\n",
      "PERIPHERIQUE      5297\n",
      "DJS               3628\n",
      "DFPE              1314\n",
      "DAC                 21\n",
      "DASES                4\n",
      "Name: count, dtype: int64 \n",
      "\n",
      "193996 \n",
      "\n",
      "arrondissement\n",
      "PARIS 15E ARRDT      16968\n",
      "PARIS 13E ARRDT      16240\n",
      "PARIS 16E ARRDT      15808\n",
      "PARIS 20E ARRDT      15034\n",
      "PARIS 19E ARRDT      13019\n",
      "PARIS 12E ARRDT      12260\n",
      "SEINE-SAINT-DENIS    11436\n",
      "PARIS 14E ARRDT      11087\n",
      "BOIS DE VINCENNES    11031\n",
      "PARIS 17E ARRDT      10646\n",
      "PARIS 18E ARRDT       9831\n",
      "PARIS 7E ARRDT        8256\n",
      "PARIS 8E ARRDT        6901\n",
      "VAL-DE-MARNE          6649\n",
      "PARIS 11E ARRDT       5557\n",
      "HAUTS-DE-SEINE        5293\n",
      "BOIS DE BOULOGNE      3946\n",
      "PARIS 10E ARRDT       3195\n",
      "PARIS 4E ARRDT        2641\n",
      "PARIS 5E ARRDT        2251\n",
      "PARIS 6E ARRDT        1695\n",
      "PARIS 1ER ARRDT       1378\n",
      "PARIS 3E ARRDT        1182\n",
      "PARIS 9E ARRDT        1151\n",
      "PARIS 2E ARRDT         542\n",
      "Name: count, dtype: int64 \n",
      "\n",
      "193997 \n",
      "\n",
      "lieu\n",
      "PARC FLORAL DE PARIS / ROUTE DE LA PYRAMIDE                                  2764\n",
      "PARC DES BUTTES CHAUMONT                                                     2167\n",
      "PARC ANDRE CITROEN                                                           2095\n",
      "PARC OMNISPORT SUZANNE LENGLEN / 7 BOULEVARD DES FRERES VOISIN               1478\n",
      "ARBORETUM DE L ECOLE DU BREUIL - ROUTE DE LA FERME / ROUTE DE LA PYRAMIDE    1260\n",
      "                                                                             ... \n",
      "CIMETIERE DE BAGNEUX / DIV 80                                                   1\n",
      "CIMETIERE DE BAGNEUX / DIV 77                                                   1\n",
      "CIMETIERE DE BAGNEUX / DIV 71                                                   1\n",
      "PLACE EDWIGE FEUILLERE                                                          1\n",
      "JARDIN MADELEIN SCUDERI                                                         1\n",
      "Name: count, Length: 6866, dtype: int64 \n",
      "\n",
      "193997 \n",
      "\n",
      "libelle_francais\n",
      "Platane           39423\n",
      "Marronnier        23953\n",
      "Tilleul           21152\n",
      "Erable            18188\n",
      "Sophora           11721\n",
      "                  ...  \n",
      "Maackie               1\n",
      "Ormeau épineux        1\n",
      "Ostryer               1\n",
      "Papayer               1\n",
      "Xanthoceras           1\n",
      "Name: count, Length: 192, dtype: int64 \n",
      "\n",
      "192518 \n",
      "\n",
      "genre\n",
      "Platanus        39496\n",
      "Aesculus        24087\n",
      "Tilia           21396\n",
      "Acer            18270\n",
      "Sophora         11754\n",
      "                ...  \n",
      "Sciadopitys         1\n",
      "Phoenix             1\n",
      "Phyllanthus         1\n",
      "Pistacia            1\n",
      "x Sorbopyrus        1\n",
      "Name: count, Length: 175, dtype: int64 \n",
      "\n",
      "193981 \n",
      "\n",
      "espece\n",
      "x hispanica                     34329\n",
      "hippocastanum                   18851\n",
      "japonica                        11747\n",
      "n. sp.                           8924\n",
      "tomentosa                        8829\n",
      "                                ...  \n",
      "robusta                             1\n",
      "rotundifolia var. aboriginum        1\n",
      "rufa                                1\n",
      "rysophylla                          1\n",
      "yunnanensis                         1\n",
      "Name: count, Length: 538, dtype: int64 \n",
      "\n",
      "192247 \n",
      "\n",
      "stade_developpement\n",
      "A     62054\n",
      "JA    35068\n",
      "J     26860\n",
      "M      3779\n",
      "Name: count, dtype: int64 \n",
      "\n",
      "127761 \n"
     ]
    }
   ],
   "source": [
    "for var in var_qualitatives: # Loop through each qualitative variable\n",
    "    print(df_cleaned[var].value_counts(), '\\n') # Display the number of trees for each modality\n",
    "    print(df_cleaned[var].value_counts().sum(), '\\n') # Display the sum of the number of trees for each modality"
   ]
  },
  {
   "cell_type": "markdown",
   "id": "ba0819936f19a598",
   "metadata": {
    "collapsed": false
   },
   "source": [
    "# Visualizations of quantitative variables used for distribution analysis"
   ]
  },
  {
   "cell_type": "markdown",
   "id": "a969c34d1d5b008",
   "metadata": {
    "collapsed": false
   },
   "source": [
    "## Histograms for circumference and height"
   ]
  },
  {
   "cell_type": "code",
   "execution_count": 51,
   "id": "9af8f2416db5a061",
   "metadata": {
    "ExecuteTime": {
     "end_time": "2024-03-31T09:43:00.004209Z",
     "start_time": "2024-03-31T09:42:56.049002Z"
    },
    "collapsed": false
   },
   "outputs": [
    {
     "data": {
      "image/png": "[encoded data removed]",
      "text/plain": [
       "<Figure size 1152x432 with 2 Axes>"
      ]
     },
     "metadata": {},
     "output_type": "display_data"
    }
   ],
   "source": [
    "plt.figure(figsize=(16, 6)) # Set the size of the figure\n",
    "plt.suptitle('Histograms for Circumference and Height', fontsize=20) # Set the title of the figure\n",
    "plt.subplot(1, 2, 1) # Create the first subplot for the circumference\n",
    "sns.histplot(df_cleaned['circonference_cm'], bins=30, kde=True) # Create a histogram for the circumference\n",
    "plt.title('Circumference (cm)') # Set the title of the subplot\n",
    "plt.subplot(1, 2, 2) # Create the second subplot for the height\n",
    "sns.histplot(df_cleaned['hauteur_m'], bins=30, kde=True) # Create a histogram for the height\n",
    "plt.title('Height (m)') # Set the title of the subplot\n",
    "plt.show() # Display the figure so that it is visible in the notebook"
   ]
  },
  {
   "cell_type": "markdown",
   "id": "3c66624cbcf127e8",
   "metadata": {
    "collapsed": false
   },
   "source": [
    "## Correlation between circumference and height"
   ]
  },
  {
   "cell_type": "markdown",
   "id": "49016224405e07e",
   "metadata": {
    "collapsed": false
   },
   "source": [
    "### Calculate the correlation between the circumference and height of the trees"
   ]
  },
  {
   "cell_type": "code",
   "execution_count": 52,
   "id": "3d343d7c8d00b7e5",
   "metadata": {
    "ExecuteTime": {
     "end_time": "2024-03-31T09:43:00.019949Z",
     "start_time": "2024-03-31T09:43:00.007212Z"
    },
    "collapsed": false
   },
   "outputs": [
    {
     "name": "stdout",
     "output_type": "stream",
     "text": [
      "The correlation between the circumference and height of the trees is: 0.77\n"
     ]
    }
   ],
   "source": [
    "correlation = df_cleaned['circonference_cm'].corr(df_cleaned['hauteur_m']) # Calculate the correlation between the circumference and height\n",
    "print(f'The correlation between the circumference and height of the trees is: {correlation:.2f}') # Display the correlation"
   ]
  },
  {
   "cell_type": "code",
   "execution_count": 53,
   "id": "c86028c1674bb303",
   "metadata": {
    "ExecuteTime": {
     "end_time": "2024-03-31T09:43:15.260492Z",
     "start_time": "2024-03-31T09:43:00.021953Z"
    },
    "collapsed": false
   },
   "outputs": [
    {
     "data": {
      "image/png": "[encoded data removed]",
      "text/plain": [
       "<Figure size 576x432 with 1 Axes>"
      ]
     },
     "metadata": {},
     "output_type": "display_data"
    }
   ],
   "source": [
    "## Correlation between circumference and height\n",
    "plt.figure(figsize=(8, 6)) # Set the size of the figure\n",
    "sns.scatterplot(x='circonference_cm', y='hauteur_m', data=df_cleaned) # Create a scatter plot for the correlation between circumference and height\n",
    "plt.title('Correlation between Circumference and Height') # Set the title of the figure\n",
    "# Draw a line of best fit\n",
    "sns.regplot(x='circonference_cm', y='hauteur_m', data=df_cleaned, scatter=False, color='red')\n",
    "plt.xlabel('Circumference (cm)') # Set the label for the x-axis\n",
    "plt.ylabel('Height (m)') # Set the label for the y-axis\n",
    "plt.show() # Display the figure so that it is visible in the notebook"
   ]
  },
  {
   "cell_type": "markdown",
   "id": "450187bb82388c4a",
   "metadata": {
    "collapsed": false
   },
   "source": [
    "### Observations\n",
    "\n",
    "- **Tree Circumference Distribution**: The distribution of tree circumferences shows that the majority of trees have a relatively small circumference, indicating a population of young or medium-sized trees. The presence of a few trees with a very large circumference also indicates the presence of older and more developed trees in the city.\n",
    "\n",
    "- **Tree Height Distribution**: Similarly, the distribution of tree heights reveals that most trees in Paris have a moderate height. There is also a long tail in the distribution, showing that some trees reach remarkable heights, contributing to the diversity of the urban landscape.\n",
    "\n",
    "- **Correlation Analysis**: The correlation between the circumference and height of the trees is quite strong (correlation of 0.77), suggesting that, generally, the wider a tree is, the taller it tends to be. This relationship demonstrates consistent growth patterns within the studied tree population.\n",
    "\n",
    "These quantitative analyses provide insights into the structure and composition of the tree population in Paris, revealing a majority of young or medium-sized trees, while highlighting the presence of older and larger specimens, essential for biodiversity and the aesthetics of the city.\n"
   ]
  },
  {
   "cell_type": "markdown",
   "id": "8fdde55ca4359a97",
   "metadata": {
    "collapsed": false
   },
   "source": [
    "## Distribution of Tree by arrondissement in scatter plot using geo_point_2d "
   ]
  },
  {
   "cell_type": "code",
   "execution_count": 54,
   "id": "a07a0a88f90d52",
   "metadata": {
    "ExecuteTime": {
     "end_time": "2024-03-31T09:43:19.973780Z",
     "start_time": "2024-03-31T09:43:15.263491Z"
    },
    "collapsed": false
   },
   "outputs": [
    {
     "data": {
      "image/png": "[encoded data removed]",
      "text/plain": [
       "<Figure size 720x432 with 2 Axes>"
      ]
     },
     "metadata": {},
     "output_type": "display_data"
    }
   ],
   "source": [
    "plt.figure(figsize=(10, 6))  # Set the size of the figure\n",
    "# Assuming 'geo_point_2d_a' is latitude and 'geo_point_2d_b' is longitude\n",
    "plt.scatter(df_cleaned['geo_point_2d_b'], df_cleaned['geo_point_2d_a'], \n",
    "            c=df_cleaned['arrondissement'].cat.codes, cmap='tab20', alpha=0.5)  # Scatter plot for longitude and latitude\n",
    "plt.title('Distribution of Trees by Arrondissement')  # Title of the figure\n",
    "plt.xlabel('Longitude (West ←  East →)')  # Label for the x-axis\n",
    "plt.ylabel('Latitude (South ↓  North ↑)')  # Label for the y-axis\n",
    "plt.colorbar(label='Arrondissement')  # Color bar with the label 'Arrondissement'\n",
    "plt.gca().invert_xaxis()  # Invert the x-axis to show West on the left\n",
    "plt.show()  # Display the figure\n"
   ]
  },
  {
   "cell_type": "markdown",
   "id": "6d788dbb49d81cf5",
   "metadata": {
    "collapsed": false
   },
   "source": [
    "## Distribution of Tree Latitude and Longitude"
   ]
  },
  {
   "cell_type": "code",
   "execution_count": 55,
   "id": "3ab84c61e5691e72",
   "metadata": {
    "ExecuteTime": {
     "end_time": "2024-03-31T09:43:20.408445Z",
     "start_time": "2024-03-31T09:43:19.975692Z"
    },
    "collapsed": false
   },
   "outputs": [
    {
     "data": {
      "image/png": "[encoded data removed]",
      "text/plain": [
       "<Figure size 1080x432 with 2 Axes>"
      ]
     },
     "metadata": {},
     "output_type": "display_data"
    }
   ],
   "source": [
    "plt.figure(figsize=(15, 6)) # Set the size of the figure\n",
    "plt.subplot(1, 2, 1) # Create the first subplot for the latitude\n",
    "plt.hist(df_cleaned['geo_point_2d_a'], color='purple') # Create a histogram for the latitude\n",
    "plt.xlabel(\"Latitude\", fontsize=20) # Set the label for the x-axis\n",
    "plt.ylabel(\"Trees number\", fontsize=20) # Set the label for the y-axis\n",
    "plt.title(\"Distribution of Tree latidude\", fontsize=30) # Set the title of the subplot\n",
    "plt.subplot(1, 2, 2) # Create the second subplot for the longitude\n",
    "plt.hist(df_cleaned['geo_point_2d_b'], color='red') # Create a histogram for the longitude\n",
    "plt.xlabel(\"Longititude\", fontsize=20) # Set the label for the x-axis\n",
    "plt.ylabel(\"Trees number\", fontsize=20) # Set the label for the y-axis\n",
    "plt.title(\"Distribution of Tree Longitude\", fontsize=30) \n",
    "plt.show() # Display the figure so that it is visible in the notebook"
   ]
  },
  {
   "cell_type": "markdown",
   "id": "589878b143b96d73",
   "metadata": {
    "collapsed": false
   },
   "source": [
    "### Observations\n",
    "Based on the histograms, the geographical distribution of trees in Paris can be summarized as follows:\n",
    "\n",
    "- **Latitude**: A significant number of trees are situated above the latitude of 48.825, which indicates a considerable presence of trees in the northern areas of Paris.\n",
    "\n",
    "- **Longitude**: The density of trees peaks around the longitude of 2.35, which aligns with the central meridian of Paris. This central concentration may reflect the layout and planning of the city's green spaces.\n",
    "\n",
    "This spatial analysis reveals a notable clustering of trees within central Paris, with an inclination towards the northern regions. The histograms help to visualize the urban forestry patterns and potentially guide future urban planning and green space development.\n"
   ]
  },
  {
   "cell_type": "markdown",
   "id": "ccc5124610c978ad",
   "metadata": {
    "collapsed": false
   },
   "source": [
    "# b-Visualizations of quantitative variables"
   ]
  },
  {
   "cell_type": "code",
   "execution_count": 56,
   "id": "3b43d9d7312ffeb4",
   "metadata": {
    "ExecuteTime": {
     "end_time": "2024-03-31T09:43:20.424034Z",
     "start_time": "2024-03-31T09:43:20.410524Z"
    },
    "collapsed": false
   },
   "outputs": [],
   "source": [
    "var_low_cardinality = ['remarquable', 'stade_developpement']\n",
    "var_medium_cardinality = ['domanialite', 'arrondissement']\n",
    "Var_high_cardinality = ['lieu', 'libelle_francais', 'genre', 'espece' ]"
   ]
  },
  {
   "cell_type": "code",
   "execution_count": 57,
   "id": "431d6c1b36b4a3e9",
   "metadata": {
    "ExecuteTime": {
     "end_time": "2024-03-31T09:43:20.645230Z",
     "start_time": "2024-03-31T09:43:20.426034Z"
    },
    "collapsed": false
   },
   "outputs": [
    {
     "data": {
      "image/png": "[encoded data removed]",
      "text/plain": [
       "<Figure size 1080x360 with 2 Axes>"
      ]
     },
     "metadata": {},
     "output_type": "display_data"
    },
    {
     "name": "stdout",
     "output_type": "stream",
     "text": [
      "Number of remarkable trees: 78\n"
     ]
    }
   ],
   "source": [
    "fig, axes = plt.subplots(1, 2, figsize=(15, 5))  # Create a figure and a set of subplots\n",
    "\n",
    "for i, var in enumerate(var_low_cardinality): # Loop through each qualitative variable\n",
    "    axes[i].set_title(f'Pie chart for {var}', fontsize=16)  # Set the title of each sub-graph\n",
    "    df_cleaned[var].value_counts().plot.pie(autopct='%1.1f%%', startangle=90, ax=axes[i])  # Create a pie chart for each variable\n",
    "\n",
    "plt.tight_layout()  # Adjust the subplots to fit into the figure\n",
    "plt.show() # Display the figure so that it is visible in the notebook\n",
    "# Count the number of remarkable trees where the 'remarquable' column is 1.0 i.e. 'OUI'\n",
    "remarkable_trees_count = df_cleaned[df_cleaned['remarquable'] == 1.0].shape[0]\n",
    "print(f\"Number of remarkable trees: {remarkable_trees_count}\")\n",
    "\n"
   ]
  },
  {
   "cell_type": "markdown",
   "id": "f6b67bd97a1a7f7c",
   "metadata": {
    "collapsed": false
   },
   "source": [
    "## Variables with few modalities. We will use a pie chart"
   ]
  },
  {
   "cell_type": "markdown",
   "id": "ddf61b5cac9f020e",
   "metadata": {
    "collapsed": false
   },
   "source": [
    "## Variables with a medium number of modalities. We will use a bar chart"
   ]
  },
  {
   "cell_type": "code",
   "execution_count": 58,
   "id": "9eba033cbd4956d",
   "metadata": {
    "ExecuteTime": {
     "end_time": "2024-03-31T09:43:21.791921Z",
     "start_time": "2024-03-31T09:43:20.647231Z"
    },
    "collapsed": false
   },
   "outputs": [
    {
     "data": {
      "image/png": "[encoded data removed]",
      "text/plain": [
       "<Figure size 1080x360 with 1 Axes>"
      ]
     },
     "metadata": {},
     "output_type": "display_data"
    },
    {
     "data": {
      "image/png": "[encoded data removed]",
      "text/plain": [
       "<Figure size 1080x360 with 1 Axes>"
      ]
     },
     "metadata": {},
     "output_type": "display_data"
    }
   ],
   "source": [
    "for var in var_medium_cardinality: # Loop through each qualitative variable\n",
    "    plt.figure(figsize=(15, 5)) # Set the size of the figure\n",
    "    sns.countplot(y=var, data=df_cleaned, order=df_cleaned[var].value_counts().index) # Create a countplot for each variable\n",
    "    plt.title(f'Bar chart for {var}', fontsize=16) # Set the title of the figure\n",
    "    plt.show() # Display the figure so that it is visible in the notebook\n"
   ]
  },
  {
   "cell_type": "markdown",
   "id": "19d5a421cc934e39",
   "metadata": {
    "collapsed": false
   },
   "source": [
    "## Variables with a high number of modalities. We will use a bar chart"
   ]
  },
  {
   "cell_type": "code",
   "execution_count": 59,
   "id": "795e6335b3e45917",
   "metadata": {
    "ExecuteTime": {
     "end_time": "2024-03-31T09:43:23.936339Z",
     "start_time": "2024-03-31T09:43:21.793921Z"
    },
    "collapsed": false
   },
   "outputs": [
    {
     "data": {
      "image/png": "[encoded data removed]",
      "text/plain": [
       "<Figure size 1080x360 with 1 Axes>"
      ]
     },
     "metadata": {},
     "output_type": "display_data"
    },
    {
     "data": {
      "image/png": "[encoded data removed]",
      "text/plain": [
       "<Figure size 1080x360 with 1 Axes>"
      ]
     },
     "metadata": {},
     "output_type": "display_data"
    },
    {
     "data": {
      "image/png": "[encoded data removed]",
      "text/plain": [
       "<Figure size 1080x360 with 1 Axes>"
      ]
     },
     "metadata": {},
     "output_type": "display_data"
    },
    {
     "data": {
      "image/png": "[encoded data removed]",
      "text/plain": [
       "<Figure size 1080x360 with 1 Axes>"
      ]
     },
     "metadata": {},
     "output_type": "display_data"
    }
   ],
   "source": [
    "for var in Var_high_cardinality: # Loop through each qualitative variable\n",
    "    plt.figure(figsize=(15, 5)) # Set the size of the figure\n",
    "    sns.countplot(y=var, data=df_cleaned, order=df_cleaned[var].value_counts().index[:10]) # Create a countplot for each variable\n",
    "    plt.title(f'Bar chart for {var}', fontsize=16) # Set the title of the figure\n",
    "    plt.show() # Display the figure so that it is visible in the notebook"
   ]
  },
  {
   "cell_type": "code",
   "execution_count": 60,
   "id": "cc708ef6e322a8ab",
   "metadata": {
    "ExecuteTime": {
     "end_time": "2024-03-31T09:43:24.310108Z",
     "start_time": "2024-03-31T09:43:23.939680Z"
    },
    "collapsed": false
   },
   "outputs": [],
   "source": [
    "# Load the cleaned tree data from the CSV file\n",
    "data_updated = pd.read_csv('../data/P2-arbres-fr_cleaned.csv')\n",
    "\n",
    "# Total number of trees\n",
    "total_trees = len(data_updated)\n",
    "\n",
    "# Distribution by arrondissement\n",
    "trees_by_district = data_updated['arrondissement'].value_counts()\n",
    "\n",
    "# Domains\n",
    "trees_by_domain = data_updated['domanialite'].value_counts()\n",
    "\n",
    "# Most common species\n",
    "common_species = data_updated['espece'].value_counts().head(3)\n",
    "\n",
    "# Average and maximum circumference and height\n",
    "average_circumference = data_updated['circonference_cm'].mean()\n",
    "max_circumference = data_updated['circonference_cm'].max()\n",
    "average_height = data_updated['hauteur_m'].mean()\n",
    "max_height = data_updated['hauteur_m'].max()\n",
    "\n",
    "# Remarkable trees where the 'remarquable' column is 1.0\n",
    "remarkable_trees_count = data_updated[data_updated['remarquable'] == 1.0].shape[0]\n"
   ]
  },
  {
   "cell_type": "code",
   "execution_count": 61,
   "id": "4ad17c505f9f0b4e",
   "metadata": {
    "ExecuteTime": {
     "end_time": "2024-03-31T09:43:24.325167Z",
     "start_time": "2024-03-31T09:43:24.312110Z"
    },
    "collapsed": false
   },
   "outputs": [
    {
     "name": "stdout",
     "output_type": "stream",
     "text": [
      "Total number of trees in Paris: 193997\n",
      "\n",
      "Distribution of trees by arrondissement:\n",
      "arrondissement\n",
      "PARIS 15E ARRDT      16968\n",
      "PARIS 13E ARRDT      16240\n",
      "PARIS 16E ARRDT      15808\n",
      "PARIS 20E ARRDT      15034\n",
      "PARIS 19E ARRDT      13019\n",
      "PARIS 12E ARRDT      12260\n",
      "SEINE-SAINT-DENIS    11436\n",
      "PARIS 14E ARRDT      11087\n",
      "BOIS DE VINCENNES    11031\n",
      "PARIS 17E ARRDT      10646\n",
      "PARIS 18E ARRDT       9831\n",
      "PARIS 7E ARRDT        8256\n",
      "PARIS 8E ARRDT        6901\n",
      "VAL-DE-MARNE          6649\n",
      "PARIS 11E ARRDT       5557\n",
      "HAUTS-DE-SEINE        5293\n",
      "BOIS DE BOULOGNE      3946\n",
      "PARIS 10E ARRDT       3195\n",
      "PARIS 4E ARRDT        2641\n",
      "PARIS 5E ARRDT        2251\n",
      "PARIS 6E ARRDT        1695\n",
      "PARIS 1ER ARRDT       1378\n",
      "PARIS 3E ARRDT        1182\n",
      "PARIS 9E ARRDT        1151\n",
      "PARIS 2E ARRDT         542\n",
      "Name: count, dtype: int64\n",
      "\n",
      "Distribution of trees by domain:\n",
      "domanialite\n",
      "Alignement      102401\n",
      "Jardin           44353\n",
      "CIMETIERE        30609\n",
      "DASCO             6369\n",
      "PERIPHERIQUE      5297\n",
      "DJS               3628\n",
      "DFPE              1314\n",
      "DAC                 21\n",
      "DASES                4\n",
      "Name: count, dtype: int64\n",
      "\n",
      "Most common species of trees:\n",
      "espece\n",
      "x hispanica      34329\n",
      "hippocastanum    18851\n",
      "japonica         11747\n",
      "Name: count, dtype: int64\n",
      "\n",
      "Average circumference of trees: 74.80 cm\n",
      "Maximum circumference of a tree: 242 cm\n",
      "Average height of trees: 7.93 m\n",
      "Maximum height of a tree: 22 m\n",
      "\n",
      "Number of remarkable trees in Paris: 78\n"
     ]
    }
   ],
   "source": [
    "# Display the results\n",
    "print(f'Total number of trees in Paris: {total_trees}')\n",
    "print('\\nDistribution of trees by arrondissement:')\n",
    "print(trees_by_district)\n",
    "print('\\nDistribution of trees by domain:')\n",
    "print(trees_by_domain)\n",
    "print('\\nMost common species of trees:')\n",
    "print(common_species)\n",
    "print(f'\\nAverage circumference of trees: {average_circumference:.2f} cm')\n",
    "print(f'Maximum circumference of a tree: {max_circumference} cm')\n",
    "print(f'Average height of trees: {average_height:.2f} m')\n",
    "print(f'Maximum height of a tree: {max_height} m')\n",
    "print(f'\\nNumber of remarkable trees in Paris: {remarkable_trees_count}')\n"
   ]
  },
  {
   "cell_type": "markdown",
   "id": "7aa3e828bb4b44a2",
   "metadata": {
    "collapsed": false
   },
   "source": [
    "# Conclusion\n",
    "After analyzing the updated data on trees in Paris, here are the detailed conclusions:\n",
    "\n",
    "- **Total Number of Trees**: The database contains a total of 193,997 trees.\n",
    "- **Distribution by Arrondissement**: The districts with the largest number of trees are as follows:\n",
    "  - Paris 15th Arrondissement: 16,968 trees\n",
    "  - Paris 13th Arrondissement: 16,240 trees\n",
    "  - Paris 16th Arrondissement: 15,808 trees\n",
    "  This indicates an uneven distribution of trees across the city, which may reflect both the size of the districts and the presence of parks and green spaces.\n",
    "- **Domains**: The majority of trees are located in alignments along streets, with 102,401 trees, and in gardens, with 44,353 trees. This suggests a significant urban greening policy in Paris, particularly for improving air quality and creating accessible green spaces for the public.\n",
    "- **Most Common Species**: The most common species are *x hispanica* with 34,329 trees, *hippocastanum* with 18,851 trees, and *japonica* with 11,747 trees, demonstrating a diversity of species adapted to the urban environment.\n",
    "- **Circumference and Height**: The average circumference of the trees is 74.80 cm, with the largest tree having a circumference of 242 cm. The average height of the trees is 7.93 m, with the tallest tree reaching 22 m. These statistics show a variety of development stages and types of trees present in the city.\n",
    "- **Remarkable Trees**: There are only 78 trees classified as remarkable in the database, which may indicate a need for reassessment in tree classification or conservation efforts.\n",
    "\n",
    "**Conclusion**: The statistical analysis reveals an urban arboriculture management strategy in Paris that favors species diversity and the distribution of green spaces throughout the city. However, the variability in the concentration of trees by district and the differences in terms of circumference and height underline the challenges and opportunities for balanced and inclusive urban planning. The significant presence of trees in alignment also emphasizes the city's efforts to integrate greenery into the urban landscape, thus improving the quality of life for city dwellers.\n"
   ]
  }
 ],
 "metadata": {
  "kernelspec": {
   "display_name": "Python 3 (ipykernel)",
   "language": "python",
   "name": "python3"
  },
  "language_info": {
   "codemirror_mode": {
    "name": "ipython",
    "version": 3
   },
   "file_extension": ".py",
   "mimetype": "text/x-python",
   "name": "python",
   "nbconvert_exporter": "python",
   "pygments_lexer": "ipython3",
   "version": "3.9.19"
  }
 },
 "nbformat": 4,
 "nbformat_minor": 5
}
