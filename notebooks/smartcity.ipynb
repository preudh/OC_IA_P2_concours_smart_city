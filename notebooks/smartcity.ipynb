{
 "cells": [
  {
   "cell_type": "markdown",
   "source": [
    "See README.md for setup instructions and general information."
   ],
   "metadata": {
    "collapsed": false
   },
   "id": "730f4a2939165b70"
  },
  {
   "cell_type": "markdown",
   "source": [
    "# Context\n",
    "\n",
    "In the framework of the \"Greening the City\" program organized by the City of Paris, we are conducting an exploratory data analysis on OpenData about trees managed by the City of Paris.The goal is to assist Paris in becoming a \"Smart City\" by managing its trees as responsibly as possible. That is, by optimizing the routes necessary for the maintenance of these trees.\n",
    "\n",
    "## Tools Used\n",
    "\n",
    "- Python\n",
    "- Jupyter Notebook\n",
    "- Pandas\n",
    "- Matplotlib\n",
    "- Seaborn\n"
   ],
   "metadata": {
    "collapsed": false
   },
   "id": "8d044f315c1b4e2d"
  },
  {
   "cell_type": "markdown",
   "source": [
    "# Step 2: Perform a Naive Analysis of the Dataset"
   ],
   "metadata": {
    "collapsed": false
   },
   "id": "441a0c5628b6410c"
  },
  {
   "cell_type": "code",
   "outputs": [],
   "source": [
    "import pandas as pd\n",
    "import matplotlib.pyplot as plt\n",
    "import seaborn as sns"
   ],
   "metadata": {
    "collapsed": false,
    "ExecuteTime": {
     "end_time": "2024-03-27T08:16:17.222624Z",
     "start_time": "2024-03-27T08:16:17.219230Z"
    }
   },
   "id": "8471249cb1746ef2",
   "execution_count": 1
  },
  {
   "cell_type": "markdown",
   "source": [
    "## Display the number of rows and columns to get a general overview of the dataset"
   ],
   "metadata": {
    "collapsed": false
   },
   "id": "fae976912f652545"
  },
  {
   "cell_type": "markdown",
   "source": [
    "## load the dataset"
   ],
   "metadata": {
    "collapsed": false
   },
   "id": "644ee12749bc3a0"
  },
  {
   "cell_type": "code",
   "outputs": [],
   "source": [
    "# Relative path to the CSV file from the notebook with separator ;\n",
    "file_path = '../data/P2-arbres-fr.csv'\n",
    "\n",
    "# Load the data into a pandas DataFrame\n",
    "df = pd.read_csv(file_path, sep=';')"
   ],
   "metadata": {
    "collapsed": false,
    "ExecuteTime": {
     "end_time": "2024-03-27T08:16:17.693328Z",
     "start_time": "2024-03-27T08:16:17.223629Z"
    }
   },
   "id": "d86d756c67d9d0a4",
   "execution_count": 2
  },
  {
   "cell_type": "code",
   "outputs": [
    {
     "name": "stdout",
     "output_type": "stream",
     "text": [
      "The dataset contains 200137 rows and 18 columns.\n"
     ]
    }
   ],
   "source": [
    "print(f'The dataset contains {df.shape[0]} rows and {df.shape[1]} columns.')"
   ],
   "metadata": {
    "collapsed": false,
    "ExecuteTime": {
     "end_time": "2024-03-27T08:16:17.700345Z",
     "start_time": "2024-03-27T08:16:17.695231Z"
    }
   },
   "id": "8f208277595d9bb4",
   "execution_count": 3
  },
  {
   "cell_type": "markdown",
   "source": [
    "## Get general information on columns, data types, etc."
   ],
   "metadata": {
    "collapsed": false
   },
   "id": "2c545e8c1cb1e675"
  },
  {
   "cell_type": "code",
   "outputs": [
    {
     "name": "stdout",
     "output_type": "stream",
     "text": [
      "<class 'pandas.core.frame.DataFrame'>\n",
      "RangeIndex: 200137 entries, 0 to 200136\n",
      "Data columns (total 18 columns):\n",
      " #   Column               Non-Null Count   Dtype  \n",
      "---  ------               --------------   -----  \n",
      " 0   id                   200137 non-null  int64  \n",
      " 1   type_emplacement     200137 non-null  object \n",
      " 2   domanialite          200136 non-null  object \n",
      " 3   arrondissement       200137 non-null  object \n",
      " 4   complement_addresse  30902 non-null   object \n",
      " 5   numero               0 non-null       float64\n",
      " 6   lieu                 200137 non-null  object \n",
      " 7   id_emplacement       200137 non-null  object \n",
      " 8   libelle_francais     198640 non-null  object \n",
      " 9   genre                200121 non-null  object \n",
      " 10  espece               198385 non-null  object \n",
      " 11  variete              36777 non-null   object \n",
      " 12  circonference_cm     200137 non-null  int64  \n",
      " 13  hauteur_m            200137 non-null  int64  \n",
      " 14  stade_developpement  132932 non-null  object \n",
      " 15  remarquable          137039 non-null  float64\n",
      " 16  geo_point_2d_a       200137 non-null  float64\n",
      " 17  geo_point_2d_b       200137 non-null  float64\n",
      "dtypes: float64(4), int64(3), object(11)\n",
      "memory usage: 27.5+ MB\n"
     ]
    }
   ],
   "source": [
    "df.info()"
   ],
   "metadata": {
    "collapsed": false,
    "ExecuteTime": {
     "end_time": "2024-03-27T08:16:17.782906Z",
     "start_time": "2024-03-27T08:16:17.701350Z"
    }
   },
   "id": "e0bda1057efeba44",
   "execution_count": 4
  },
  {
   "cell_type": "markdown",
   "source": [
    "## column descriptions\n",
    "We see that for each tree listed, we have the following information (as per the dataset's:\n",
    "\n",
    "- id: simple identifier for the tree (integer, e.g.: 99874)\n",
    "- type_emplacement: type of location (text, e.g.: \"Tree\")\n",
    "- domanialite: type of place the tree belongs to (text, e.g.: \"Garden\")\n",
    "- arrondissement: the district of Paris where the tree is located (text, e.g.: \"PARIS 7E ARRDT\")\n",
    "- complement_addresse: address complement (text, no example given)\n",
    "- numero: address number (text, no example given)\n",
    "- lieu: tree's location address (text, e.g.: \"MAIRIE DU 7E 116 RUE DE GRENELLE PARIS 7E\")\n",
    "- id_emplacement: identifier of the location (text, e.g.: \"19\")\n",
    "- libelle_francais: common (vernacular) name of the tree's species (text, e.g.: \"Chestnut\")\n",
    "- genre: genus of the tree (text, e.g.: \"Aesculus\")\n",
    "- espece: species of the tree (text, e.g.: \"hippocastanum\")\n",
    "- variete: variety of the tree (text, no example given)\n",
    "- circonference_cm: circumference of the tree in centimeters (integer, e.g.: 20)\n",
    "- hauteur_m: height of the tree in meters (integer, e.g.: 5)\n",
    "- stade_developpement: stage of development of the tree (text, e.g.: \"A\" for \"Adult\")\n",
    "- remarquable: whether the tree is \"remarkable\" or not (boolean, e.g.: 0 for a \"non-remarkable\" tree)\n",
    "- geo_point_2d_a: latitude of the tree's position (floating number, e.g.: 48.857620)\n",
    "- geo_point_2d_b: longitude of the tree's position (floating number, e.g.: 2.320962)\n",
    "\n",
    "We already observe from the first few entries that:\n",
    "- a number of values are not provided (`NaN` = \"Not a Number\" = data not available)\n",
    "- we can classify the variables by their type:\n",
    "    - quantitative\n",
    "        - discrete: `id`, `circonference_cm`, `hauteur_m`\n",
    "        - continuous: `geo_point_2d_a`, `geo_point_2d_b`\n",
    "    - qualitative\n",
    "        - nominal: `type_emplacement`, `domanialite`, `arrondissement`, `complement_addresse`, `numero`, `lieu`, `id_emplacement`, `libelle_francais`, `genre`, `espece`, `variete`\n",
    "        - ordinal: `stade_developpement`, `remarquable`\n",
    "- variables can also be classified into three main categories, according to their meaning:\n",
    "    - internal system metadata: `id`, `id_emplacement`, `type_emplacement`\n",
    "    - location data: `arrondissement`, `complement_addresse`, `numero`, `lieu`, `geo_point_2d_a`, `geo_point_2d_b`\n",
    "    - descriptive data: \n",
    "        - size: `circonference_cm`, `hauteur_m` and `stade_developpement`\n",
    "        - type: `libelle_francais`, `genre`, `espece`, and `variete`\n",
    "        - other: `remarquable`\n",
    "- the `remarquable` variable is a boolean, which can be converted to a more readable format (e.g., \"Yes\" and \"No\")"
   ],
   "metadata": {
    "collapsed": false
   },
   "id": "e80dd49904fb05a8"
  },
  {
   "cell_type": "markdown",
   "source": [
    "## Glossary of Statistical Terms\n",
    "\n",
    "- **Quantitative**: Data that can be counted or measured and expressed numerically.\n",
    "    - **Discrete**: Quantitative data that can only take on specific, separate values (e.g., the number of trees in a garden).\n",
    "    - **Continuous**: Quantitative data that can take on any value within a given range (e.g., the height of trees in meters).\n",
    "\n",
    "- **Qualitative**: Data that describes qualities or characteristics and cannot be measured numerically.\n",
    "    - **Nominal**: Qualitative data that represents categories without a natural order or ranking (e.g., tree species names).\n",
    "    - **Ordinal**: Qualitative data that represents categories with a natural order or ranking (e.g., stages of tree development).\n",
    "\n",
    "- **NaN** (Not a Number): A term used to denote a value that is undefined or unrepresentable, especially in cases where data is missing.\n",
    "\n",
    "- **Metadata**: Data that provides information about other data. In the context of a dataset, it can refer to auxiliary information like identifiers and types of locations.\n",
    "\n",
    "- **Location Data**: Data that provides information on the geographical position, such as districts or coordinates.\n",
    "\n",
    "- **Descriptive Data**: Data that gives descriptive information, which can be about size (like circumference and height), type (such as genus and species), or other characteristics (like whether a tree is considered remarkable).\n"
   ],
   "metadata": {
    "collapsed": false
   },
   "id": "b52dd871bbfe49c0"
  },
  {
   "cell_type": "markdown",
   "source": [
    "## Display the first few rows of the DataFrame for an initial overview of the data"
   ],
   "metadata": {
    "collapsed": false
   },
   "id": "944a08bf7b088195"
  },
  {
   "cell_type": "code",
   "outputs": [
    {
     "data": {
      "text/plain": "      id type_emplacement domanialite   arrondissement complement_addresse  \\\n0  99874            Arbre      Jardin   PARIS 7E ARRDT                 NaN   \n1  99875            Arbre      Jardin   PARIS 7E ARRDT                 NaN   \n2  99876            Arbre      Jardin   PARIS 7E ARRDT                 NaN   \n3  99877            Arbre      Jardin   PARIS 7E ARRDT                 NaN   \n4  99878            Arbre      Jardin  PARIS 17E ARRDT                 NaN   \n\n   numero                                        lieu id_emplacement  \\\n0     NaN   MAIRIE DU 7E 116 RUE DE GRENELLE PARIS 7E             19   \n1     NaN   MAIRIE DU 7E 116 RUE DE GRENELLE PARIS 7E             20   \n2     NaN   MAIRIE DU 7E 116 RUE DE GRENELLE PARIS 7E             21   \n3     NaN   MAIRIE DU 7E 116 RUE DE GRENELLE PARIS 7E             22   \n4     NaN  PARC CLICHY-BATIGNOLLES-MARTIN LUTHER KING       000G0037   \n\n  libelle_francais      genre         espece variete  circonference_cm  \\\n0       Marronnier   Aesculus  hippocastanum     NaN                20   \n1               If      Taxus        baccata     NaN                65   \n2               If      Taxus        baccata     NaN                90   \n3           Erable       Acer        negundo     NaN                60   \n4     Arbre à miel  Tetradium      daniellii     NaN                38   \n\n   hauteur_m stade_developpement  remarquable  geo_point_2d_a  geo_point_2d_b  \n0          5                 NaN          0.0       48.857620        2.320962  \n1          8                   A          NaN       48.857656        2.321031  \n2         10                   A          NaN       48.857705        2.321061  \n3          8                   A          NaN       48.857722        2.321006  \n4          0                 NaN          NaN       48.890435        2.315289  ",
      "text/html": "<div>\n<style scoped>\n    .dataframe tbody tr th:only-of-type {\n        vertical-align: middle;\n    }\n\n    .dataframe tbody tr th {\n        vertical-align: top;\n    }\n\n    .dataframe thead th {\n        text-align: right;\n    }\n</style>\n<table border=\"1\" class=\"dataframe\">\n  <thead>\n    <tr style=\"text-align: right;\">\n      <th></th>\n      <th>id</th>\n      <th>type_emplacement</th>\n      <th>domanialite</th>\n      <th>arrondissement</th>\n      <th>complement_addresse</th>\n      <th>numero</th>\n      <th>lieu</th>\n      <th>id_emplacement</th>\n      <th>libelle_francais</th>\n      <th>genre</th>\n      <th>espece</th>\n      <th>variete</th>\n      <th>circonference_cm</th>\n      <th>hauteur_m</th>\n      <th>stade_developpement</th>\n      <th>remarquable</th>\n      <th>geo_point_2d_a</th>\n      <th>geo_point_2d_b</th>\n    </tr>\n  </thead>\n  <tbody>\n    <tr>\n      <th>0</th>\n      <td>99874</td>\n      <td>Arbre</td>\n      <td>Jardin</td>\n      <td>PARIS 7E ARRDT</td>\n      <td>NaN</td>\n      <td>NaN</td>\n      <td>MAIRIE DU 7E 116 RUE DE GRENELLE PARIS 7E</td>\n      <td>19</td>\n      <td>Marronnier</td>\n      <td>Aesculus</td>\n      <td>hippocastanum</td>\n      <td>NaN</td>\n      <td>20</td>\n      <td>5</td>\n      <td>NaN</td>\n      <td>0.0</td>\n      <td>48.857620</td>\n      <td>2.320962</td>\n    </tr>\n    <tr>\n      <th>1</th>\n      <td>99875</td>\n      <td>Arbre</td>\n      <td>Jardin</td>\n      <td>PARIS 7E ARRDT</td>\n      <td>NaN</td>\n      <td>NaN</td>\n      <td>MAIRIE DU 7E 116 RUE DE GRENELLE PARIS 7E</td>\n      <td>20</td>\n      <td>If</td>\n      <td>Taxus</td>\n      <td>baccata</td>\n      <td>NaN</td>\n      <td>65</td>\n      <td>8</td>\n      <td>A</td>\n      <td>NaN</td>\n      <td>48.857656</td>\n      <td>2.321031</td>\n    </tr>\n    <tr>\n      <th>2</th>\n      <td>99876</td>\n      <td>Arbre</td>\n      <td>Jardin</td>\n      <td>PARIS 7E ARRDT</td>\n      <td>NaN</td>\n      <td>NaN</td>\n      <td>MAIRIE DU 7E 116 RUE DE GRENELLE PARIS 7E</td>\n      <td>21</td>\n      <td>If</td>\n      <td>Taxus</td>\n      <td>baccata</td>\n      <td>NaN</td>\n      <td>90</td>\n      <td>10</td>\n      <td>A</td>\n      <td>NaN</td>\n      <td>48.857705</td>\n      <td>2.321061</td>\n    </tr>\n    <tr>\n      <th>3</th>\n      <td>99877</td>\n      <td>Arbre</td>\n      <td>Jardin</td>\n      <td>PARIS 7E ARRDT</td>\n      <td>NaN</td>\n      <td>NaN</td>\n      <td>MAIRIE DU 7E 116 RUE DE GRENELLE PARIS 7E</td>\n      <td>22</td>\n      <td>Erable</td>\n      <td>Acer</td>\n      <td>negundo</td>\n      <td>NaN</td>\n      <td>60</td>\n      <td>8</td>\n      <td>A</td>\n      <td>NaN</td>\n      <td>48.857722</td>\n      <td>2.321006</td>\n    </tr>\n    <tr>\n      <th>4</th>\n      <td>99878</td>\n      <td>Arbre</td>\n      <td>Jardin</td>\n      <td>PARIS 17E ARRDT</td>\n      <td>NaN</td>\n      <td>NaN</td>\n      <td>PARC CLICHY-BATIGNOLLES-MARTIN LUTHER KING</td>\n      <td>000G0037</td>\n      <td>Arbre à miel</td>\n      <td>Tetradium</td>\n      <td>daniellii</td>\n      <td>NaN</td>\n      <td>38</td>\n      <td>0</td>\n      <td>NaN</td>\n      <td>NaN</td>\n      <td>48.890435</td>\n      <td>2.315289</td>\n    </tr>\n  </tbody>\n</table>\n</div>"
     },
     "execution_count": 5,
     "metadata": {},
     "output_type": "execute_result"
    }
   ],
   "source": [
    "# Display the first few rows of the DataFrame for an initial overview of the data\n",
    "df.head()"
   ],
   "metadata": {
    "collapsed": true,
    "ExecuteTime": {
     "end_time": "2024-03-27T08:16:17.807048Z",
     "start_time": "2024-03-27T08:16:17.783913Z"
    }
   },
   "id": "initial_id",
   "execution_count": 5
  },
  {
   "cell_type": "markdown",
   "source": [
    "# Step 3: Conduct a Detailed Univariate Analysis of Each Variable in the Dataset"
   ],
   "metadata": {
    "collapsed": false
   },
   "id": "1d4d3fb0e410f1ca"
  },
  {
   "cell_type": "code",
   "outputs": [
    {
     "data": {
      "text/plain": "                  id type_emplacement domanialite   arrondissement  \\\ncount   2.001370e+05           200137      200136           200137   \nunique           NaN                1           9               25   \ntop              NaN            Arbre  Alignement  PARIS 15E ARRDT   \nfreq             NaN           200137      104949            17151   \nmean    3.872027e+05              NaN         NaN              NaN   \nstd     5.456032e+05              NaN         NaN              NaN   \nmin     9.987400e+04              NaN         NaN              NaN   \n25%     1.559270e+05              NaN         NaN              NaN   \n50%     2.210780e+05              NaN         NaN              NaN   \n75%     2.741020e+05              NaN         NaN              NaN   \nmax     2.024745e+06              NaN         NaN              NaN   \n\n       complement_addresse  numero  \\\ncount                30902     0.0   \nunique                3795     NaN   \ntop                    SN°     NaN   \nfreq                   557     NaN   \nmean                   NaN     NaN   \nstd                    NaN     NaN   \nmin                    NaN     NaN   \n25%                    NaN     NaN   \n50%                    NaN     NaN   \n75%                    NaN     NaN   \nmax                    NaN     NaN   \n\n                                               lieu id_emplacement  \\\ncount                                        200137         200137   \nunique                                         6921          69040   \ntop     PARC FLORAL DE PARIS / ROUTE DE LA PYRAMIDE         101001   \nfreq                                           2995           1324   \nmean                                            NaN            NaN   \nstd                                             NaN            NaN   \nmin                                             NaN            NaN   \n25%                                             NaN            NaN   \n50%                                             NaN            NaN   \n75%                                             NaN            NaN   \nmax                                             NaN            NaN   \n\n       libelle_francais     genre       espece     variete  circonference_cm  \\\ncount            198640    200121       198385       36777     200137.000000   \nunique              192       175          539         436               NaN   \ntop             Platane  Platanus  x hispanica  Baumannii'               NaN   \nfreq              42508     42591        36409        4538               NaN   \nmean                NaN       NaN          NaN         NaN         83.380479   \nstd                 NaN       NaN          NaN         NaN        673.190213   \nmin                 NaN       NaN          NaN         NaN          0.000000   \n25%                 NaN       NaN          NaN         NaN         30.000000   \n50%                 NaN       NaN          NaN         NaN         70.000000   \n75%                 NaN       NaN          NaN         NaN        115.000000   \nmax                 NaN       NaN          NaN         NaN     250255.000000   \n\n            hauteur_m stade_developpement    remarquable  geo_point_2d_a  \\\ncount   200137.000000              132932  137039.000000   200137.000000   \nunique            NaN                   4            NaN             NaN   \ntop               NaN                   A            NaN             NaN   \nfreq              NaN               64438            NaN             NaN   \nmean        13.110509                 NaN       0.001343       48.854491   \nstd       1971.217387                 NaN       0.036618        0.030234   \nmin          0.000000                 NaN       0.000000       48.742290   \n25%          5.000000                 NaN       0.000000       48.835021   \n50%          8.000000                 NaN       0.000000       48.854162   \n75%         12.000000                 NaN       0.000000       48.876447   \nmax     881818.000000                 NaN       1.000000       48.911485   \n\n        geo_point_2d_b  \ncount    200137.000000  \nunique             NaN  \ntop                NaN  \nfreq               NaN  \nmean          2.348208  \nstd           0.051220  \nmin           2.210241  \n25%           2.307530  \n50%           2.351095  \n75%           2.386838  \nmax           2.469759  ",
      "text/html": "<div>\n<style scoped>\n    .dataframe tbody tr th:only-of-type {\n        vertical-align: middle;\n    }\n\n    .dataframe tbody tr th {\n        vertical-align: top;\n    }\n\n    .dataframe thead th {\n        text-align: right;\n    }\n</style>\n<table border=\"1\" class=\"dataframe\">\n  <thead>\n    <tr style=\"text-align: right;\">\n      <th></th>\n      <th>id</th>\n      <th>type_emplacement</th>\n      <th>domanialite</th>\n      <th>arrondissement</th>\n      <th>complement_addresse</th>\n      <th>numero</th>\n      <th>lieu</th>\n      <th>id_emplacement</th>\n      <th>libelle_francais</th>\n      <th>genre</th>\n      <th>espece</th>\n      <th>variete</th>\n      <th>circonference_cm</th>\n      <th>hauteur_m</th>\n      <th>stade_developpement</th>\n      <th>remarquable</th>\n      <th>geo_point_2d_a</th>\n      <th>geo_point_2d_b</th>\n    </tr>\n  </thead>\n  <tbody>\n    <tr>\n      <th>count</th>\n      <td>2.001370e+05</td>\n      <td>200137</td>\n      <td>200136</td>\n      <td>200137</td>\n      <td>30902</td>\n      <td>0.0</td>\n      <td>200137</td>\n      <td>200137</td>\n      <td>198640</td>\n      <td>200121</td>\n      <td>198385</td>\n      <td>36777</td>\n      <td>200137.000000</td>\n      <td>200137.000000</td>\n      <td>132932</td>\n      <td>137039.000000</td>\n      <td>200137.000000</td>\n      <td>200137.000000</td>\n    </tr>\n    <tr>\n      <th>unique</th>\n      <td>NaN</td>\n      <td>1</td>\n      <td>9</td>\n      <td>25</td>\n      <td>3795</td>\n      <td>NaN</td>\n      <td>6921</td>\n      <td>69040</td>\n      <td>192</td>\n      <td>175</td>\n      <td>539</td>\n      <td>436</td>\n      <td>NaN</td>\n      <td>NaN</td>\n      <td>4</td>\n      <td>NaN</td>\n      <td>NaN</td>\n      <td>NaN</td>\n    </tr>\n    <tr>\n      <th>top</th>\n      <td>NaN</td>\n      <td>Arbre</td>\n      <td>Alignement</td>\n      <td>PARIS 15E ARRDT</td>\n      <td>SN°</td>\n      <td>NaN</td>\n      <td>PARC FLORAL DE PARIS / ROUTE DE LA PYRAMIDE</td>\n      <td>101001</td>\n      <td>Platane</td>\n      <td>Platanus</td>\n      <td>x hispanica</td>\n      <td>Baumannii'</td>\n      <td>NaN</td>\n      <td>NaN</td>\n      <td>A</td>\n      <td>NaN</td>\n      <td>NaN</td>\n      <td>NaN</td>\n    </tr>\n    <tr>\n      <th>freq</th>\n      <td>NaN</td>\n      <td>200137</td>\n      <td>104949</td>\n      <td>17151</td>\n      <td>557</td>\n      <td>NaN</td>\n      <td>2995</td>\n      <td>1324</td>\n      <td>42508</td>\n      <td>42591</td>\n      <td>36409</td>\n      <td>4538</td>\n      <td>NaN</td>\n      <td>NaN</td>\n      <td>64438</td>\n      <td>NaN</td>\n      <td>NaN</td>\n      <td>NaN</td>\n    </tr>\n    <tr>\n      <th>mean</th>\n      <td>3.872027e+05</td>\n      <td>NaN</td>\n      <td>NaN</td>\n      <td>NaN</td>\n      <td>NaN</td>\n      <td>NaN</td>\n      <td>NaN</td>\n      <td>NaN</td>\n      <td>NaN</td>\n      <td>NaN</td>\n      <td>NaN</td>\n      <td>NaN</td>\n      <td>83.380479</td>\n      <td>13.110509</td>\n      <td>NaN</td>\n      <td>0.001343</td>\n      <td>48.854491</td>\n      <td>2.348208</td>\n    </tr>\n    <tr>\n      <th>std</th>\n      <td>5.456032e+05</td>\n      <td>NaN</td>\n      <td>NaN</td>\n      <td>NaN</td>\n      <td>NaN</td>\n      <td>NaN</td>\n      <td>NaN</td>\n      <td>NaN</td>\n      <td>NaN</td>\n      <td>NaN</td>\n      <td>NaN</td>\n      <td>NaN</td>\n      <td>673.190213</td>\n      <td>1971.217387</td>\n      <td>NaN</td>\n      <td>0.036618</td>\n      <td>0.030234</td>\n      <td>0.051220</td>\n    </tr>\n    <tr>\n      <th>min</th>\n      <td>9.987400e+04</td>\n      <td>NaN</td>\n      <td>NaN</td>\n      <td>NaN</td>\n      <td>NaN</td>\n      <td>NaN</td>\n      <td>NaN</td>\n      <td>NaN</td>\n      <td>NaN</td>\n      <td>NaN</td>\n      <td>NaN</td>\n      <td>NaN</td>\n      <td>0.000000</td>\n      <td>0.000000</td>\n      <td>NaN</td>\n      <td>0.000000</td>\n      <td>48.742290</td>\n      <td>2.210241</td>\n    </tr>\n    <tr>\n      <th>25%</th>\n      <td>1.559270e+05</td>\n      <td>NaN</td>\n      <td>NaN</td>\n      <td>NaN</td>\n      <td>NaN</td>\n      <td>NaN</td>\n      <td>NaN</td>\n      <td>NaN</td>\n      <td>NaN</td>\n      <td>NaN</td>\n      <td>NaN</td>\n      <td>NaN</td>\n      <td>30.000000</td>\n      <td>5.000000</td>\n      <td>NaN</td>\n      <td>0.000000</td>\n      <td>48.835021</td>\n      <td>2.307530</td>\n    </tr>\n    <tr>\n      <th>50%</th>\n      <td>2.210780e+05</td>\n      <td>NaN</td>\n      <td>NaN</td>\n      <td>NaN</td>\n      <td>NaN</td>\n      <td>NaN</td>\n      <td>NaN</td>\n      <td>NaN</td>\n      <td>NaN</td>\n      <td>NaN</td>\n      <td>NaN</td>\n      <td>NaN</td>\n      <td>70.000000</td>\n      <td>8.000000</td>\n      <td>NaN</td>\n      <td>0.000000</td>\n      <td>48.854162</td>\n      <td>2.351095</td>\n    </tr>\n    <tr>\n      <th>75%</th>\n      <td>2.741020e+05</td>\n      <td>NaN</td>\n      <td>NaN</td>\n      <td>NaN</td>\n      <td>NaN</td>\n      <td>NaN</td>\n      <td>NaN</td>\n      <td>NaN</td>\n      <td>NaN</td>\n      <td>NaN</td>\n      <td>NaN</td>\n      <td>NaN</td>\n      <td>115.000000</td>\n      <td>12.000000</td>\n      <td>NaN</td>\n      <td>0.000000</td>\n      <td>48.876447</td>\n      <td>2.386838</td>\n    </tr>\n    <tr>\n      <th>max</th>\n      <td>2.024745e+06</td>\n      <td>NaN</td>\n      <td>NaN</td>\n      <td>NaN</td>\n      <td>NaN</td>\n      <td>NaN</td>\n      <td>NaN</td>\n      <td>NaN</td>\n      <td>NaN</td>\n      <td>NaN</td>\n      <td>NaN</td>\n      <td>NaN</td>\n      <td>250255.000000</td>\n      <td>881818.000000</td>\n      <td>NaN</td>\n      <td>1.000000</td>\n      <td>48.911485</td>\n      <td>2.469759</td>\n    </tr>\n  </tbody>\n</table>\n</div>"
     },
     "execution_count": 6,
     "metadata": {},
     "output_type": "execute_result"
    }
   ],
   "source": [
    "df.describe(include = 'all')"
   ],
   "metadata": {
    "collapsed": false,
    "ExecuteTime": {
     "end_time": "2024-03-27T08:16:18.061914Z",
     "start_time": "2024-03-27T08:16:17.808262Z"
    }
   },
   "id": "6370bc36cdf5bd54",
   "execution_count": 6
  },
  {
   "cell_type": "markdown",
   "source": [
    "## Calculate Main Characteristics for Quantitative Variables"
   ],
   "metadata": {
    "collapsed": false
   },
   "id": "9305c2771d530eaf"
  },
  {
   "cell_type": "code",
   "outputs": [
    {
     "name": "stdout",
     "output_type": "stream",
     "text": [
      "Analysis of hauteur_m:\n",
      "Mean: 13.110509301128728\n",
      "Median: 8.0\n",
      "Standard Deviation: 1971.2173865928366\n",
      "Quantiles: 0.25     5.0\n",
      "0.50     8.0\n",
      "0.75    12.0\n",
      "Name: hauteur_m, dtype: float64\n",
      "\n",
      "Analysis of circonference_cm:\n",
      "Mean: 83.38047937163043\n",
      "Median: 70.0\n",
      "Standard Deviation: 673.1902130032512\n",
      "Quantiles: 0.25     30.0\n",
      "0.50     70.0\n",
      "0.75    115.0\n",
      "Name: circonference_cm, dtype: float64\n"
     ]
    }
   ],
   "source": [
    "# Calculate the main characteristics for quantitative variables\n",
    "# Assuming 'hauteur' and 'circonference' are quantitative variables in your dataset\n",
    "variables = ['hauteur_m', 'circonference_cm']\n",
    "\n",
    "for variable in variables:\n",
    "    print(f\"Analysis of {variable}:\")\n",
    "    print(f\"Mean: {df[variable].mean()}\")\n",
    "    print(f\"Median: {df[variable].median()}\")\n",
    "    print(f\"Standard Deviation: {df[variable].std()}\")\n",
    "    print(f\"Quantiles: {df[variable].quantile([0.25, 0.5, 0.75])}\\n\")\n"
   ],
   "metadata": {
    "collapsed": false,
    "ExecuteTime": {
     "end_time": "2024-03-27T08:16:18.083778Z",
     "start_time": "2024-03-27T08:16:18.062921Z"
    }
   },
   "id": "cf8ea0aedd1a08f1",
   "execution_count": 7
  },
  {
   "cell_type": "code",
   "outputs": [],
   "source": [],
   "metadata": {
    "collapsed": false,
    "ExecuteTime": {
     "end_time": "2024-03-27T08:16:18.089414Z",
     "start_time": "2024-03-27T08:16:18.085795Z"
    }
   },
   "id": "45e0e97a091f4968",
   "execution_count": 7
  },
  {
   "cell_type": "markdown",
   "source": [
    "## Create Graphs for Each Variable"
   ],
   "metadata": {
    "collapsed": false
   },
   "id": "a4502bac1ecab59a"
  },
  {
   "cell_type": "code",
   "outputs": [],
   "source": [
    "# Density plot and boxplot for 'hauteur'\n",
    "plt.figure(figsize=(10, 6))\n",
    "sns.histplot(df['hauteur_m'], kde=True)\n",
    "plt.title('Density Plot for Height')\n",
    "plt.xlabel('Height')\n",
    "plt.ylabel('Density')\n",
    "plt.show()\n",
    "\n",
    "plt.figure(figsize=(10, 6))\n",
    "sns.boxplot(y=df['hauteur_m'])\n",
    "plt.title('Box Plot for Height')\n",
    "plt.ylabel('Height')\n",
    "plt.show()\n",
    "# Create a histogram for the 'hauteur_m' variable\n",
    "plt.figure(figsize=(12, 6))"
   ],
   "metadata": {
    "collapsed": false,
    "is_executing": true,
    "ExecuteTime": {
     "start_time": "2024-03-27T08:16:18.090421Z"
    }
   },
   "id": "79148c91369d0b59",
   "execution_count": null
  },
  {
   "cell_type": "code",
   "outputs": [],
   "source": [],
   "metadata": {
    "collapsed": false,
    "is_executing": true
   },
   "id": "19fb8f6c49189e40"
  }
 ],
 "metadata": {
  "kernelspec": {
   "display_name": "Python 3",
   "language": "python",
   "name": "python3"
  },
  "language_info": {
   "codemirror_mode": {
    "name": "ipython",
    "version": 2
   },
   "file_extension": ".py",
   "mimetype": "text/x-python",
   "name": "python",
   "nbconvert_exporter": "python",
   "pygments_lexer": "ipython2",
   "version": "2.7.6"
  }
 },
 "nbformat": 4,
 "nbformat_minor": 5
}
