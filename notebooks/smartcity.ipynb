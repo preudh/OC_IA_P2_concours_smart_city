{
 "cells": [
  {
   "cell_type": "markdown",
   "id": "730f4a2939165b70",
   "metadata": {},
   "source": [
    "See README.md for setup instructions and general information."
   ]
  },
  {
   "cell_type": "markdown",
   "id": "8d044f315c1b4e2d",
   "metadata": {},
   "source": [
    "# Context\n",
    "\n",
    "In the framework of the \"Greening the City\" program organized by the City of Paris, we are conducting an exploratory data analysis on OpenData about trees managed by the City of Paris. The goal is to assist Paris in becoming a \"Smart City\" by managing its trees as responsibly as possible. That is, by optimizing the routes necessary for the maintenance of these trees. This entails a thorough assessment of the dataset's quality, focusing on the accuracy and consistency of the information provided. Our analysis aims to uncover any discrepancies, missing data, or inconsistencies that could hinder effective tree management strategies. By identifying these areas for improvement, we aim to enhance the overall coherence of the data, ensuring that the individuals responsible for the upkeep of Paris's urban forestry have access to reliable and actionable insights. This will empower them to make informed decisions regarding the care and maintenance of the city’s green spaces, contributing to the sustainability and beautification of Paris.\n",
    "\n",
    "## Tools Used 'TO FINISH' ANACONDA OR MINICONDA OR PURE PYTHON?\n",
    "\n",
    "- Python # Programming language\n",
    "- Jupyter Notebook # Web-based interactive computing notebook\n",
    "- Pandas # Data manipulation library\n",
    "- Matplotlib # Data visualization library\n",
    "- Seaborn # Data visualization library\n"
   ]
  },
  {
   "cell_type": "markdown",
   "id": "441a0c5628b6410c",
   "metadata": {},
   "source": [
    "# Step 2: Perform a Naive Analysis of the Dataset (before cleaning)"
   ]
  },
  {
   "cell_type": "code",
   "execution_count": 2,
   "id": "8471249cb1746ef2",
   "metadata": {
    "ExecuteTime": {
     "end_time": "2024-03-28T14:32:28.301285Z",
     "start_time": "2024-03-28T14:32:28.297231Z"
    }
   },
   "outputs": [],
   "source": [
    "import pandas as pd # Import the pandas library used to manipulate the data\n"
   ]
  },
  {
   "cell_type": "markdown",
   "id": "644ee12749bc3a0",
   "metadata": {},
   "source": [
    "## load the dataset"
   ]
  },
  {
   "cell_type": "code",
   "execution_count": 3,
   "id": "d86d756c67d9d0a4",
   "metadata": {
    "ExecuteTime": {
     "end_time": "2024-03-28T14:32:29.240889Z",
     "start_time": "2024-03-28T14:32:28.584486Z"
    }
   },
   "outputs": [],
   "source": [
    "# Relative path to the CSV file from with the data\n",
    "file_path = '../data/P2-arbres-fr.csv' \n",
    "\n",
    "# Load the data of the csv file into a DataFrame with a separator ;\n",
    "df = pd.read_csv(file_path, sep=';') "
   ]
  },
  {
   "cell_type": "markdown",
   "source": [
    "## Display the number of rows and columns to get a general overview of the dataset"
   ],
   "metadata": {},
   "id": "fae976912f652545"
  },
  {
   "cell_type": "code",
   "execution_count": 4,
   "id": "8f208277595d9bb4",
   "metadata": {
    "ExecuteTime": {
     "end_time": "2024-03-28T14:32:29.249911Z",
     "start_time": "2024-03-28T14:32:29.244984Z"
    }
   },
   "outputs": [
    {
     "name": "stdout",
     "output_type": "stream",
     "text": [
      "The dataset contains 200137 rows (instances) and 18 columns (variables).\n"
     ]
    }
   ],
   "source": [
    "print(f'The dataset contains {df.shape[0]} rows (instances) and {df.shape[1]} columns (variables).') "
   ]
  },
  {
   "cell_type": "markdown",
   "id": "2c545e8c1cb1e675",
   "metadata": {},
   "source": [
    "## Get general information on columns, data types, etc."
   ]
  },
  {
   "cell_type": "code",
   "execution_count": 5,
   "id": "e0bda1057efeba44",
   "metadata": {
    "ExecuteTime": {
     "end_time": "2024-03-28T14:32:29.343521Z",
     "start_time": "2024-03-28T14:32:29.253427Z"
    }
   },
   "outputs": [
    {
     "name": "stdout",
     "output_type": "stream",
     "text": [
      "<class 'pandas.core.frame.DataFrame'>\n",
      "RangeIndex: 200137 entries, 0 to 200136\n",
      "Data columns (total 18 columns):\n",
      " #   Column               Non-Null Count   Dtype  \n",
      "---  ------               --------------   -----  \n",
      " 0   id                   200137 non-null  int64  \n",
      " 1   type_emplacement     200137 non-null  object \n",
      " 2   domanialite          200136 non-null  object \n",
      " 3   arrondissement       200137 non-null  object \n",
      " 4   complement_addresse  30902 non-null   object \n",
      " 5   numero               0 non-null       float64\n",
      " 6   lieu                 200137 non-null  object \n",
      " 7   id_emplacement       200137 non-null  object \n",
      " 8   libelle_francais     198640 non-null  object \n",
      " 9   genre                200121 non-null  object \n",
      " 10  espece               198385 non-null  object \n",
      " 11  variete              36777 non-null   object \n",
      " 12  circonference_cm     200137 non-null  int64  \n",
      " 13  hauteur_m            200137 non-null  int64  \n",
      " 14  stade_developpement  132932 non-null  object \n",
      " 15  remarquable          137039 non-null  float64\n",
      " 16  geo_point_2d_a       200137 non-null  float64\n",
      " 17  geo_point_2d_b       200137 non-null  float64\n",
      "dtypes: float64(4), int64(3), object(11)\n",
      "memory usage: 27.5+ MB\n"
     ]
    }
   ],
   "source": [
    "df.info()"
   ]
  },
  {
   "cell_type": "code",
   "outputs": [
    {
     "data": {
      "text/plain": "object     11\nfloat64     4\nint64       3\nName: count, dtype: int64"
     },
     "execution_count": 6,
     "metadata": {},
     "output_type": "execute_result"
    }
   ],
   "source": [
    "df.dtypes.value_counts() # Count the number of columns with each data type"
   ],
   "metadata": {
    "collapsed": false,
    "ExecuteTime": {
     "end_time": "2024-03-28T14:32:29.359943Z",
     "start_time": "2024-03-28T14:32:29.345529Z"
    }
   },
   "id": "7580d3fdc88a67ac",
   "execution_count": 6
  },
  {
   "cell_type": "markdown",
   "id": "b52dd871bbfe49c0",
   "metadata": {},
   "source": [
    "## Observations:\n",
    "\n",
    "    7 quantitative variables\n",
    "    11 qualitative (categorical) variables"
   ]
  },
  {
   "cell_type": "markdown",
   "id": "944a08bf7b088195",
   "metadata": {},
   "source": [
    "## Display the first few rows of the DataFrame for an initial overview of the data"
   ]
  },
  {
   "cell_type": "code",
   "execution_count": 7,
   "id": "initial_id",
   "metadata": {
    "collapsed": true,
    "jupyter": {
     "outputs_hidden": true
    },
    "ExecuteTime": {
     "end_time": "2024-03-28T14:32:29.389217Z",
     "start_time": "2024-03-28T14:32:29.364251Z"
    }
   },
   "outputs": [
    {
     "data": {
      "text/plain": "      id type_emplacement domanialite   arrondissement complement_addresse  \\\n0  99874            Arbre      Jardin   PARIS 7E ARRDT                 NaN   \n1  99875            Arbre      Jardin   PARIS 7E ARRDT                 NaN   \n2  99876            Arbre      Jardin   PARIS 7E ARRDT                 NaN   \n3  99877            Arbre      Jardin   PARIS 7E ARRDT                 NaN   \n4  99878            Arbre      Jardin  PARIS 17E ARRDT                 NaN   \n\n   numero                                        lieu id_emplacement  \\\n0     NaN   MAIRIE DU 7E 116 RUE DE GRENELLE PARIS 7E             19   \n1     NaN   MAIRIE DU 7E 116 RUE DE GRENELLE PARIS 7E             20   \n2     NaN   MAIRIE DU 7E 116 RUE DE GRENELLE PARIS 7E             21   \n3     NaN   MAIRIE DU 7E 116 RUE DE GRENELLE PARIS 7E             22   \n4     NaN  PARC CLICHY-BATIGNOLLES-MARTIN LUTHER KING       000G0037   \n\n  libelle_francais      genre         espece variete  circonference_cm  \\\n0       Marronnier   Aesculus  hippocastanum     NaN                20   \n1               If      Taxus        baccata     NaN                65   \n2               If      Taxus        baccata     NaN                90   \n3           Erable       Acer        negundo     NaN                60   \n4     Arbre à miel  Tetradium      daniellii     NaN                38   \n\n   hauteur_m stade_developpement  remarquable  geo_point_2d_a  geo_point_2d_b  \n0          5                 NaN          0.0       48.857620        2.320962  \n1          8                   A          NaN       48.857656        2.321031  \n2         10                   A          NaN       48.857705        2.321061  \n3          8                   A          NaN       48.857722        2.321006  \n4          0                 NaN          NaN       48.890435        2.315289  ",
      "text/html": "<div>\n<style scoped>\n    .dataframe tbody tr th:only-of-type {\n        vertical-align: middle;\n    }\n\n    .dataframe tbody tr th {\n        vertical-align: top;\n    }\n\n    .dataframe thead th {\n        text-align: right;\n    }\n</style>\n<table border=\"1\" class=\"dataframe\">\n  <thead>\n    <tr style=\"text-align: right;\">\n      <th></th>\n      <th>id</th>\n      <th>type_emplacement</th>\n      <th>domanialite</th>\n      <th>arrondissement</th>\n      <th>complement_addresse</th>\n      <th>numero</th>\n      <th>lieu</th>\n      <th>id_emplacement</th>\n      <th>libelle_francais</th>\n      <th>genre</th>\n      <th>espece</th>\n      <th>variete</th>\n      <th>circonference_cm</th>\n      <th>hauteur_m</th>\n      <th>stade_developpement</th>\n      <th>remarquable</th>\n      <th>geo_point_2d_a</th>\n      <th>geo_point_2d_b</th>\n    </tr>\n  </thead>\n  <tbody>\n    <tr>\n      <th>0</th>\n      <td>99874</td>\n      <td>Arbre</td>\n      <td>Jardin</td>\n      <td>PARIS 7E ARRDT</td>\n      <td>NaN</td>\n      <td>NaN</td>\n      <td>MAIRIE DU 7E 116 RUE DE GRENELLE PARIS 7E</td>\n      <td>19</td>\n      <td>Marronnier</td>\n      <td>Aesculus</td>\n      <td>hippocastanum</td>\n      <td>NaN</td>\n      <td>20</td>\n      <td>5</td>\n      <td>NaN</td>\n      <td>0.0</td>\n      <td>48.857620</td>\n      <td>2.320962</td>\n    </tr>\n    <tr>\n      <th>1</th>\n      <td>99875</td>\n      <td>Arbre</td>\n      <td>Jardin</td>\n      <td>PARIS 7E ARRDT</td>\n      <td>NaN</td>\n      <td>NaN</td>\n      <td>MAIRIE DU 7E 116 RUE DE GRENELLE PARIS 7E</td>\n      <td>20</td>\n      <td>If</td>\n      <td>Taxus</td>\n      <td>baccata</td>\n      <td>NaN</td>\n      <td>65</td>\n      <td>8</td>\n      <td>A</td>\n      <td>NaN</td>\n      <td>48.857656</td>\n      <td>2.321031</td>\n    </tr>\n    <tr>\n      <th>2</th>\n      <td>99876</td>\n      <td>Arbre</td>\n      <td>Jardin</td>\n      <td>PARIS 7E ARRDT</td>\n      <td>NaN</td>\n      <td>NaN</td>\n      <td>MAIRIE DU 7E 116 RUE DE GRENELLE PARIS 7E</td>\n      <td>21</td>\n      <td>If</td>\n      <td>Taxus</td>\n      <td>baccata</td>\n      <td>NaN</td>\n      <td>90</td>\n      <td>10</td>\n      <td>A</td>\n      <td>NaN</td>\n      <td>48.857705</td>\n      <td>2.321061</td>\n    </tr>\n    <tr>\n      <th>3</th>\n      <td>99877</td>\n      <td>Arbre</td>\n      <td>Jardin</td>\n      <td>PARIS 7E ARRDT</td>\n      <td>NaN</td>\n      <td>NaN</td>\n      <td>MAIRIE DU 7E 116 RUE DE GRENELLE PARIS 7E</td>\n      <td>22</td>\n      <td>Erable</td>\n      <td>Acer</td>\n      <td>negundo</td>\n      <td>NaN</td>\n      <td>60</td>\n      <td>8</td>\n      <td>A</td>\n      <td>NaN</td>\n      <td>48.857722</td>\n      <td>2.321006</td>\n    </tr>\n    <tr>\n      <th>4</th>\n      <td>99878</td>\n      <td>Arbre</td>\n      <td>Jardin</td>\n      <td>PARIS 17E ARRDT</td>\n      <td>NaN</td>\n      <td>NaN</td>\n      <td>PARC CLICHY-BATIGNOLLES-MARTIN LUTHER KING</td>\n      <td>000G0037</td>\n      <td>Arbre à miel</td>\n      <td>Tetradium</td>\n      <td>daniellii</td>\n      <td>NaN</td>\n      <td>38</td>\n      <td>0</td>\n      <td>NaN</td>\n      <td>NaN</td>\n      <td>48.890435</td>\n      <td>2.315289</td>\n    </tr>\n  </tbody>\n</table>\n</div>"
     },
     "execution_count": 7,
     "metadata": {},
     "output_type": "execute_result"
    }
   ],
   "source": [
    "# Display the first few rows of the DataFrame for an initial overview of the data\n",
    "df.head()"
   ]
  },
  {
   "cell_type": "markdown",
   "id": "1d4d3fb0e410f1ca",
   "metadata": {},
   "source": [
    "# Step 3: Conduct a Detailed Univariate Analysis of Each Variable in the Dataset"
   ]
  },
  {
   "cell_type": "markdown",
   "source": [
    "## Statistical Indicators for Quantitative Variables"
   ],
   "metadata": {
    "collapsed": false
   },
   "id": "272721f8546180d8"
  },
  {
   "cell_type": "code",
   "execution_count": 8,
   "id": "6370bc36cdf5bd54",
   "metadata": {
    "ExecuteTime": {
     "end_time": "2024-03-28T14:32:29.461901Z",
     "start_time": "2024-03-28T14:32:29.391009Z"
    }
   },
   "outputs": [
    {
     "data": {
      "text/plain": "                 id  numero  circonference_cm      hauteur_m    remarquable  \\\ncount  2.001370e+05     0.0     200137.000000  200137.000000  137039.000000   \nmean   3.872027e+05     NaN         83.380479      13.110509       0.001343   \nstd    5.456032e+05     NaN        673.190213    1971.217387       0.036618   \nmin    9.987400e+04     NaN          0.000000       0.000000       0.000000   \n25%    1.559270e+05     NaN         30.000000       5.000000       0.000000   \n50%    2.210780e+05     NaN         70.000000       8.000000       0.000000   \n75%    2.741020e+05     NaN        115.000000      12.000000       0.000000   \nmax    2.024745e+06     NaN     250255.000000  881818.000000       1.000000   \n\n       geo_point_2d_a  geo_point_2d_b  \ncount   200137.000000   200137.000000  \nmean        48.854491        2.348208  \nstd          0.030234        0.051220  \nmin         48.742290        2.210241  \n25%         48.835021        2.307530  \n50%         48.854162        2.351095  \n75%         48.876447        2.386838  \nmax         48.911485        2.469759  ",
      "text/html": "<div>\n<style scoped>\n    .dataframe tbody tr th:only-of-type {\n        vertical-align: middle;\n    }\n\n    .dataframe tbody tr th {\n        vertical-align: top;\n    }\n\n    .dataframe thead th {\n        text-align: right;\n    }\n</style>\n<table border=\"1\" class=\"dataframe\">\n  <thead>\n    <tr style=\"text-align: right;\">\n      <th></th>\n      <th>id</th>\n      <th>numero</th>\n      <th>circonference_cm</th>\n      <th>hauteur_m</th>\n      <th>remarquable</th>\n      <th>geo_point_2d_a</th>\n      <th>geo_point_2d_b</th>\n    </tr>\n  </thead>\n  <tbody>\n    <tr>\n      <th>count</th>\n      <td>2.001370e+05</td>\n      <td>0.0</td>\n      <td>200137.000000</td>\n      <td>200137.000000</td>\n      <td>137039.000000</td>\n      <td>200137.000000</td>\n      <td>200137.000000</td>\n    </tr>\n    <tr>\n      <th>mean</th>\n      <td>3.872027e+05</td>\n      <td>NaN</td>\n      <td>83.380479</td>\n      <td>13.110509</td>\n      <td>0.001343</td>\n      <td>48.854491</td>\n      <td>2.348208</td>\n    </tr>\n    <tr>\n      <th>std</th>\n      <td>5.456032e+05</td>\n      <td>NaN</td>\n      <td>673.190213</td>\n      <td>1971.217387</td>\n      <td>0.036618</td>\n      <td>0.030234</td>\n      <td>0.051220</td>\n    </tr>\n    <tr>\n      <th>min</th>\n      <td>9.987400e+04</td>\n      <td>NaN</td>\n      <td>0.000000</td>\n      <td>0.000000</td>\n      <td>0.000000</td>\n      <td>48.742290</td>\n      <td>2.210241</td>\n    </tr>\n    <tr>\n      <th>25%</th>\n      <td>1.559270e+05</td>\n      <td>NaN</td>\n      <td>30.000000</td>\n      <td>5.000000</td>\n      <td>0.000000</td>\n      <td>48.835021</td>\n      <td>2.307530</td>\n    </tr>\n    <tr>\n      <th>50%</th>\n      <td>2.210780e+05</td>\n      <td>NaN</td>\n      <td>70.000000</td>\n      <td>8.000000</td>\n      <td>0.000000</td>\n      <td>48.854162</td>\n      <td>2.351095</td>\n    </tr>\n    <tr>\n      <th>75%</th>\n      <td>2.741020e+05</td>\n      <td>NaN</td>\n      <td>115.000000</td>\n      <td>12.000000</td>\n      <td>0.000000</td>\n      <td>48.876447</td>\n      <td>2.386838</td>\n    </tr>\n    <tr>\n      <th>max</th>\n      <td>2.024745e+06</td>\n      <td>NaN</td>\n      <td>250255.000000</td>\n      <td>881818.000000</td>\n      <td>1.000000</td>\n      <td>48.911485</td>\n      <td>2.469759</td>\n    </tr>\n  </tbody>\n</table>\n</div>"
     },
     "execution_count": 8,
     "metadata": {},
     "output_type": "execute_result"
    }
   ],
   "source": [
    "df.describe()"
   ]
  },
  {
   "cell_type": "markdown",
   "source": [
    "## Glossary of Statistical Terms\n",
    "\n",
    "- **Count**: The number of non-null entries in the dataset.\n",
    "- **Mean**: The average value of the dataset.\n",
    "- **Std**: Short for \"standard deviation,\" a measure of the amount of variation or dispersion in a set of values.\n",
    "- **Min**: The smallest value in the dataset.\n",
    "- **25%**: The 25th percentile, or first quartile, indicating that 25% of the data falls below this value.\n",
    "- **50%**: The 50th percentile, or median, the middle value of the dataset.\n",
    "- **75%**: The 75th percentile, or third quartile, indicating that 75% of the data falls below this value.\n",
    "- **Max**: The largest value in the dataset.\n"
   ],
   "metadata": {
    "collapsed": false
   },
   "id": "88cb23c1f56b0f05"
  },
  {
   "cell_type": "markdown",
   "source": [
    "## Observations:\n",
    "- 'id': identifier, unique values\n",
    "- 'numero': only missing values\n",
    "- 'circonference_cm': very high standard deviation, presence of outliers\n",
    "- 'hauteur_m': very high standard deviation, presence of outliers\n",
    "- 'remarquable': only 2 possible values (0 or 1) -> categorical variable\n",
    "- 'geo_point_2d_a': very low standard deviation, no outliers\n",
    "- 'geo_point_2d_b': very low standard deviation, no outliers\n"
   ],
   "metadata": {},
   "id": "9305c2771d530eaf"
  },
  {
   "cell_type": "markdown",
   "source": [
    "## Statistical Indicators for Qualitative Variables"
   ],
   "metadata": {
    "collapsed": false
   },
   "id": "672a75efb7471ec"
  },
  {
   "cell_type": "code",
   "execution_count": 9,
   "id": "79148c91369d0b59",
   "metadata": {
    "ExecuteTime": {
     "end_time": "2024-03-28T14:32:29.494834Z",
     "start_time": "2024-03-28T14:32:29.462840Z"
    }
   },
   "outputs": [],
   "source": [
    "var_qualitatives = df.select_dtypes(include='object').columns # Select qualitative variables"
   ]
  },
  {
   "cell_type": "markdown",
   "source": [
    "### List of Modalities\n"
   ],
   "metadata": {},
   "id": "a4502bac1ecab59a"
  },
  {
   "cell_type": "code",
   "outputs": [
    {
     "name": "stdout",
     "output_type": "stream",
     "text": [
      "type_emplacement: ['Arbre']\n",
      "\n",
      "domanialite: ['Jardin' 'Alignement' 'DJS' 'DFPE' 'CIMETIERE' 'DASCO' 'DAC'\n",
      " 'PERIPHERIQUE' 'DASES' nan]\n",
      "arrondissement: ['PARIS 7E ARRDT' 'PARIS 17E ARRDT' 'PARIS 16E ARRDT' 'PARIS 4E ARRDT'\n",
      " 'PARIS 13E ARRDT' 'PARIS 12E ARRDT' 'PARIS 19E ARRDT' 'PARIS 14E ARRDT'\n",
      " 'PARIS 15E ARRDT' 'PARIS 3E ARRDT' 'PARIS 20E ARRDT' 'PARIS 18E ARRDT'\n",
      " 'PARIS 6E ARRDT' 'PARIS 11E ARRDT' 'PARIS 1ER ARRDT' 'PARIS 2E ARRDT'\n",
      " 'PARIS 5E ARRDT' 'VAL-DE-MARNE' 'SEINE-SAINT-DENIS' 'HAUTS-DE-SEINE'\n",
      " 'PARIS 9E ARRDT' 'PARIS 10E ARRDT' 'PARIS 8E ARRDT' 'BOIS DE BOULOGNE'\n",
      " 'BOIS DE VINCENNES']\n",
      "\n",
      "complement_addresse: [nan 'c 12' '12-36' ... 'au n.14' 'F2bis' '40face']\n",
      "\n",
      "lieu: ['MAIRIE DU 7E 116 RUE DE GRENELLE PARIS 7E'\n",
      " 'PARC CLICHY-BATIGNOLLES-MARTIN LUTHER KING'\n",
      " 'SQUARE ALEXANDRE ET RENE PARODI / 1 PLACE DE LA PORTE MAILLOT' ...\n",
      " 'TERRAIN D EDUCATION PHYSIQUE / 49 RUE OLIVIER METRA' 'RUE EDOUARD QUENU'\n",
      " 'RUE DU GENERAL NIESSEL']\n",
      "\n",
      "id_emplacement: ['19' '20' '21' ... '720170153' '720170154' '720170155']\n",
      "\n",
      "libelle_francais: ['Marronnier' 'If' 'Erable' 'Arbre à miel' 'Platane' 'Sophora'\n",
      " 'Prunus n. sp.' 'Hêtre' 'Micocoulier' 'Tilleul' 'Chêne' 'Savonnier'\n",
      " 'Copalme' 'Noyer' 'Arbre à caramel' 'Troene' 'Tulipier' 'Pin' 'Sapin'\n",
      " 'Cerisier à fleurs' 'Charme-Houblon' 'Cèdre' 'Paulownia' 'Thuya'\n",
      " 'Pommier à fleurs' 'Poirier' 'Pommier' 'Bouleau' 'Orme' 'Arbre de Judée'\n",
      " 'Robinier' 'Frêne' 'Aubépine' 'Fevier' 'Prunier à fleurs'\n",
      " 'Arbre aux quarante écus' 'Néflier commun' 'Saule' 'Magnolia'\n",
      " 'Prunier à fruits' 'Poirier à fleurs' 'Peuplier' 'Faux-cyprès' 'Aubepine'\n",
      " nan 'Plaqueminier' 'Mûrier' 'Pêcher' 'Pterocarya' 'Merisier'\n",
      " 'Noisetier de Byzance' 'Alisier' 'Cognassier'\n",
      " 'Parrotie de Perse - Arbre de fer' 'Poirier à fruits' 'Orme de Sibérie'\n",
      " 'Frêne à fleurs' 'Aulne' 'Troëne' 'Fontanesia' 'Cornouiller' 'Cedrele'\n",
      " 'Catalpa' 'Houx' 'Buis' 'Metaséquoia' 'Chicot du Canada'\n",
      " 'Oranger des Osages' 'Céphalotaxe' 'Sumac' 'Châtaignier' 'Ailante'\n",
      " 'Sequoia' 'Lilas des indes' 'Pterostyrax' 'Eucalyptus' 'Olivier'\n",
      " 'Figuier' 'Charme' 'Sureau' 'Epicéa' 'Sorbier' 'Amélanchier' 'Cytise'\n",
      " 'Filaire' 'Angélique' 'Virgilier' 'Phellodendron' 'Eleagnus - Chalef'\n",
      " 'Pommier à fruits' 'Cabrillet' 'Citronnier' 'Arbre à soie'\n",
      " 'Lilas de Perse' 'Laurier-Cerise' 'Laurier du Portugal' 'Nothofagus'\n",
      " 'Cyprès' 'Noisetier' 'Palmier' 'Muscadier' 'Libocèdre' 'Abelia'\n",
      " 'Photinia' 'Clerodendron' 'Arbre aux mouchoirs' 'Sterculier' 'Poivrier'\n",
      " 'Cyprès Chauve' 'Arbre à Gutta-Percha' 'Nyssa' 'Cotoneaster'\n",
      " 'Olivier odorant' 'Non spécifié' 'Laurier sauce' 'Arbousier' 'Araucaria'\n",
      " 'Cryptomeria' 'Cerisier à grappes' 'Cunninghamia' 'Hiba' 'Chèvrefeuille'\n",
      " 'Raisinier' 'Chitalpa' 'Néflier' 'Pistachier' 'Laburnum de Adam'\n",
      " 'Tapiscia' 'Mélèze' 'Caryer' 'Parrotie de Perse' 'Distylium' 'Tamaris'\n",
      " 'Orme de Samarie' 'Arbre à perruque' 'Chimonanthe' 'Mimosa' 'Cordyline'\n",
      " 'Faux dattier' 'Althéa' 'Cerisier à fruits' 'Amandier' 'Tsuga'\n",
      " 'Stewartia' 'Argousier' 'Papayer' 'Styrax' 'Laurier des Iroquois'\n",
      " 'Laurier' 'Genévrier' 'Heptacodion de Chine' 'Grenadier' 'Sapin Douglas'\n",
      " 'Rhododendron' 'Viorne' 'Cormier' 'Prunellier' 'Poliothyrsis' 'Caragana'\n",
      " 'Asiminier' 'Platycarya' 'Amla' 'Alangium' 'Euscaphis' 'Andromède'\n",
      " 'Sycopsis' 'Camphrier' 'Jujubier' 'Maackie' 'Staphylier' 'Seringas'\n",
      " 'Lilas' 'Fusain' 'Fremontia' 'Nerprun' 'Callistemon' 'Aronie'\n",
      " 'Myrte du Chili' 'Goyavier' 'Genêt' 'Laurier du caucase'\n",
      " 'Prunus Fleur n. sp.' 'Abricotier' 'Prunus Fruit n. sp.'\n",
      " \"Fustet d' Amérique\" 'Idesia' 'Laurier des Açores' 'Kalopanax'\n",
      " 'Ormeau épineux' 'Ostryer' 'Xanthoceras' 'Parrotiopsis' 'Garrya']\n",
      "\n",
      "genre: ['Aesculus' 'Taxus' 'Acer' 'Tetradium' 'Platanus' 'Sophora' 'Prunus'\n",
      " 'Fagus' 'Celtis' 'Tilia' 'Quercus' 'Koelreuteria' 'Liquidambar' 'Juglans'\n",
      " 'Cercidiphyllum' 'Ligustrum' 'Liriodendron' 'Pinus' 'Abies' 'Ostrya'\n",
      " 'Cedrus' 'Paulownia' 'Thuja' 'Malus' 'Pyrus' 'Betula' 'Ulmus' 'Cercis'\n",
      " 'Robinia' 'Fraxinus' 'Crataegus' 'Gleditsia' 'Ginkgo' 'Mespilus' 'Salix'\n",
      " 'Magnolia' 'Populus' 'Chamaecyparis' 'Diospyros' 'Morus' 'Pterocarya'\n",
      " 'Corylus' 'Sorbus' 'Cydonia' 'Parrotia' 'Zelkova' 'Alnus' 'Cladrastis'\n",
      " 'Fontanesia' 'Cornus' 'Toona' 'Catalpa' 'Ilex' 'Buxus' 'Metasequoia'\n",
      " 'Gymnocladus' 'Maclura' 'Cephalotaxus' 'Rhus' 'Castanea' 'Ailanthus'\n",
      " 'Broussonetia' 'Sequoiadendron' 'Lagerstroemia' 'Pterostyrax'\n",
      " 'Eucalyptus' 'Olea' 'Ficus' 'Carpinus' 'Sambucus' 'Picea' 'Amelanchier'\n",
      " 'Laburnum' 'Phillyrea' 'Sequoia' 'Aralia' 'Phellodendron' 'Elaeagnus'\n",
      " 'Ehretia' 'Poncirus' 'Albizia' 'Melia' 'Nothofagus' 'Cupressus'\n",
      " 'Trachycarpus' 'Platycladus' 'Torreya' 'Calocedrus' 'Abelia' 'Staphylea'\n",
      " 'Photinia' 'Clerodendrum' 'Davidia' 'Firmiana' 'Zanthoxylum' 'Taxodium'\n",
      " 'Eucommia' 'Nyssa' 'Cotoneaster' 'Osmanthus' 'x Cupressocyparis'\n",
      " 'Non spécifié' 'Laurus' 'Arbutus' 'Araucaria' 'Cryptomeria'\n",
      " 'Cunninghamia' 'Thujopsis' 'Lonicera' 'Hovenia' 'x Chitalpa' 'Eriobotrya'\n",
      " 'Pistacia' 'Laburnocytisus' 'Tapiscia' 'Larix' 'Carya' 'Distylium'\n",
      " 'Tamarix' 'Ptelea' 'Cotinus' 'Chimonanthus' 'Acacia' 'Washingtonia'\n",
      " 'Brahea' 'Cordyline' 'Phoenix' 'Hibiscus' 'Tsuga' 'Stewartia'\n",
      " 'Paraserianthes' 'Hippophae' 'Carica' 'Styrax' 'Sassafras' 'Juniperus'\n",
      " 'Heptacodium' 'Punica' 'Pseudotsuga' 'Rhododendron' 'Viburnum'\n",
      " 'Poliothyrsis' 'Caragana' 'Asimina' 'Platycarya' 'Phyllanthus' 'Alangium'\n",
      " 'Euscaphis' 'Enkianthus' 'Sycopsis' 'Cinnamomum' 'Ziziphus' 'Maackia'\n",
      " 'Philadelphus' 'Syringa' 'Euonymus' 'Acca' 'Fremontodendron' 'Rhamnus'\n",
      " 'Callistemon' 'Aronia' 'Luma' 'Genista' 'Brachychiton' 'Idesia'\n",
      " 'Kalopanax' nan 'Hemiptelea' 'x Sorbopyrus' 'Xanthoceras' 'Sciadopitys'\n",
      " 'Parrotiopsis' 'Podocarpus' 'Chionanthus' 'Garrya' 'Crataegomespilus']\n",
      "\n",
      "espece: ['hippocastanum' 'baccata' 'negundo' 'daniellii' 'x hispanica' 'japonica'\n",
      " 'n. sp.' 'sylvatica' 'occidentalis' 'tomentosa' 'robur' 'paniculata'\n",
      " 'rufinerve' 'styraciflua' 'nigra' 'japonicum' 'lucidum' 'tulipifera'\n",
      " 'concolor' 'saccharinum' 'x europaea' 'platyphyllos' 'platanoides'\n",
      " 'serrulata' 'carpinifolia' 'libani' 'wallichiana' 'floribunda' 'pendula'\n",
      " 'siliquastrum' 'pseudoacacia' 'excelsior' 'laevigata' 'pseudoplatanus'\n",
      " 'triacanthos' 'cerasifera' 'campestre' 'biloba' 'buergerianum'\n",
      " 'germanica' 'cerris' 'regia' 'sylvestris' 'rubra' 'nigra subsp. nigra'\n",
      " 'alba' 'tataricum subsp. ginnala' 'domestica' 'calleryana' 'cappadocicum'\n",
      " 'x carnea' 'lawsoniana' 'x turneri' 'utilis' 'maackii' 'kaki' 'cordata'\n",
      " 'persica' 'fraxinifolia' 'frainetto' 'avium' 'x soulangeana' 'colurna'\n",
      " 'torminalis' 'petraea' 'ilex' 'oblonga' 'davidii' 'communis'\n",
      " 'monspessulanum' 'papyrifera' 'kobus' 'suber' 'phellos' 'canariensis'\n",
      " 'ornus' 'glutinosa' 'castaneifolia' 'babylonica' 'capillipes' 'minor'\n",
      " 'x media' 'henryana' 'phillyreoides' 'opalus' 'mas' 'sinensis'\n",
      " 'bignonioides' 'triacanthos f. Inermis' 'australis' 'aquifolium'\n",
      " 'grandiflora' 'sempervirens' 'incana' 'babylonica var. pekinensis'\n",
      " 'sargentii' 'macrophyllum' nan 'glyptostroboides' 'deodara' 'dioica'\n",
      " 'pomifera' 'harringtonii' 'typhina' 'sativa' 'x subhirtella'\n",
      " 'heldreichii' 'giraldii' 'giganteum' 'indica' 'aria' 'hispida' 'caprea'\n",
      " 'mongolica' 'gunnii' 'europaea' 'monogyna' 'carica' 'betulus'\n",
      " 'pungens f. Glauca' 'x arnoldiana' 'x loebneri' 'lamarckii' 'controversa'\n",
      " 'salicifolia' 'anagyroides' 'latifolia' 'americana' 'spectabilis'\n",
      " 'spinosa' 'kousa' 'deltoides' 'amurense' 'angustifolia' 'pumila'\n",
      " 'altissima' 'dicksonii' 'aucuparia' 'lotus' 'trifoliata' 'julibrissin'\n",
      " 'azedarach' 'laurocerasus' 'mahaleb' 'kentukea' 'rubrum' 'lusitanica'\n",
      " 'trilobata' 'obliqua' 'abies' 'palmatum' 'pauciflora' 'plicata'\n",
      " 'arizonica' 'avellana' 'fortunei' 'pinsapo' 'orientalis' 'griseum'\n",
      " 'pungens' 'strobus' 'simonii' 'decurrens' 'x spaethii' 'triflorum'\n",
      " 'triflora' 'lasiocarpa' 'colchica' 'florida' 'x fraseri' 'tremula'\n",
      " 'trichotomum' 'libani subsp. atlantica' 'serrata' 'nigra subsp. laricio'\n",
      " 'imbricaria' 'nootkatensis' 'virginiana' 'dentata' 'stenoptera'\n",
      " 'xerubescens' 'involucrata' 'simplex' 'californica' 'simulans'\n",
      " 'distichum' 'ulmoides' 'rosmarinifolia' 'intermedia' 'x burkwoodii'\n",
      " 'leylandii' 'bungeana' 'incisa' 'nobilis' 'araucana' 'pensylvanicum'\n",
      " 'padus' 'x watereri' 'albosinensis' 'macrocarpa' 'flava' 'lanceolata'\n",
      " 'breweriana' 'Fruit n. sp.' 'toringoides' 'denudata' 'dolabrata'\n",
      " 'coccinea' 'dulcis' 'tashkentensis' 'involucrata var. vilmoriniana'\n",
      " 'engelmannii' 'x canadensis' 'variabilis' 'macranthera' 'ermanii'\n",
      " 'nivalis' 'sanguinea' 'x lavalleei' 'x purpurea' 'glabra' 'omorika'\n",
      " 'mariana' 'seguinii' 'funebris' 'numidica' 'crus-galli' 'macrophylla'\n",
      " 'speciosa' 'terebinthus' 'adamii' 'x altaclerensis' 'fargesii' 'pavia'\n",
      " 'acalycina' 'acuminata' 'sinensis Oliv.' 'decidua' 'pinaster'\n",
      " 'transitoria' 'acutissima' 'balearica' 'x rehderiana' 'ovata' 'pictum'\n",
      " 'koraiensis' 'racemosum' 'ramosissima' 'x margaretta' 'pennsylvanica'\n",
      " 'tschonoskii' 'heterophyllus' 'x berolinensis' 'coggygria'\n",
      " 'carpinifolium' 'pubescens' 'praecox' 'tetrandra' 'ioensis' 'stellata'\n",
      " 'arborea' 'ovalifolium' 'dealbata' 'prunifolia' 'parviflora'\n",
      " 'microphylla' 'aucuparia var. edulis' 'pinea' 'chinensis' 'nordmanniana'\n",
      " 'bracteata' 'toringo' 'x atrosanguinea' 'robusta' 'armata' 'wagnerianus'\n",
      " 'chinense' 'laevis' 'x yedoensis' 'canadensis' 'syriacus'\n",
      " 'phillyreoides subsp. fortunei' 'x zoeschense' 'heterophylla' 'kaempferi'\n",
      " 'mandshurica' 'cembra' 'banksiana' 'pyrenaica' 'rysophylla'\n",
      " 'pseudocamellia' 'x schmittii' 'x robusta' 'lenta' 'lophantha'\n",
      " 'populifolia' 'unedo' 'coccifera' 'rhamnoides' 'elata' 'papaya'\n",
      " 'x blireana' 'x zumi' 'officinalis' 'japonicus' 'x rosacea'\n",
      " 'x brooklynensis' 'palustris' 'antarctica var. uliginosa' 'albidum'\n",
      " 'viminalis' 'aurita' 'miconioides' 'purpurea' 'glandulosa' 'granatum'\n",
      " 'trichotomum var. fargesii' 'baccata f. Aurea' 'x thuringiaca' 'jeffreyi'\n",
      " 'alleghaniensis' 'menziesii' 'sieboldii' 'arboreum' 'radiata' 'europea'\n",
      " 'davidiana' 'serrula' 'x Sepulcralis' 'exigua' 'x pendulina' 'tripetala'\n",
      " 'halepensis' 'pisifera' 'pendula var. pendula' 'tinus' 'maximowicziana'\n",
      " 'udensis' 'saccharum' 'maxima' 'mugo' 'freemanii' 'cinerea' 'x canescens'\n",
      " 'fruticosa' 'pekinensis' 'triloba' 'pontica' 'scalaris' 'vilmorinii'\n",
      " 'viscosa' 'quadrangulata' 'umbellata' 'kousa var. chinensis' 'x durettii'\n",
      " 'bicolor' 'suber subsp. Occidentalis' 'augustinii' 'strobilacea'\n",
      " 'yunnanensis' 'glaucus' 'hemsleyanus' 'platanifolium' 'davurica'\n",
      " 'medwediewii' 'turczaninowii' 'henryi' 'x coriaceum' 'camphora' 'jujuba'\n",
      " 'copallina' 'amurensis' 'odoratissimum' 'coronarius'\n",
      " 'nigra subsp. salzmannii' 'humilis' 'antarctica' 'decora' 'x hollandica'\n",
      " 'monogyna var. monogyna' 'europaeus' 'sellowiana' 'vulgaris'\n",
      " 'californicum' 'alaternus' 'chequen' 'x chinensis' 'x ambigua'\n",
      " 'marilandica' 'Fleur n. sp.' 'sinense' 'armeniaca' 'bungei'\n",
      " 'glabra Huds.' 'minor var. vulgaris' 'obovatus' 'vulgare' 'x flavescens'\n",
      " 'illinoinensis' 'pyrifolia' 'x hillieri' 'dasystyla' 'x macrantha'\n",
      " 'acerifolius' 'horizontalis' 'formosana' 'polycarpa' 'x mutabilis'\n",
      " 'x gondouinii' 'lusitanica subsp.azorica' 'dasystyla subsp. caucasica'\n",
      " 'labilis' 'coulteri' 'faginea' 'grandis' 'piperitum' 'obtusa' 'kiusiana'\n",
      " 'oliveri' 'x libanerris' 'trojana' 'septemlobus' 'oliverianum' 'rufa'\n",
      " 'sieboldianum' 'liliiflora' 'sabiniana' 'hypoleuca' 'circinatum'\n",
      " 'sprengeri' 'x proctoriana' 'maximowiczianum' 'corymbosa' 'jessoensis'\n",
      " 'baccata var. mandshurica' 'sinica' 'potaninii' 'serotina'\n",
      " 'persica var.nucipersica' 'tricuspidata' 'biondii'\n",
      " 'occidentalis var. reticulata' 'diabolicum' 'turbinata' 'hyrcanum'\n",
      " 'x conspicuum' 'major' 'hirsuta' 'x colurnoides' 'x erubescens'\n",
      " 'tenuifolia' 'vestita' 'hybrida' 'acerifolia' 'bipinnata' 'americanum'\n",
      " 'duclouxii' 'velutina' 'x flaccida' 'sorbifolium' 'pardei' 'cilicica'\n",
      " 'koreana' 'nebrodensis' 'verticillata' 'cissifolium' 'wilsonii'\n",
      " 'jacquemontiana' 'cathayana' 'rigida' 'densiflora' 'ponderosa'\n",
      " 'monophylla' 'x ebbingei' 'vilmoriniana' 'cathartica' 'viridis'\n",
      " 'chrysocarpa var. phoenicea' 'x lettermanii' 'x sorbifolia'\n",
      " 'x persimilis' 'tournefortii' 'contorta var. latifolia' 'acutifolia'\n",
      " 'procera' 'ailantifolia' 'microcarpa' 'macrophyllus' 'sabina' 'gemmata'\n",
      " 'recurvata' 'cephalonica' 'homolepis' 'smithiana' 'koyamai' 'glauca'\n",
      " 'obovata' 'glehnii' 'likiangensis' 'sitchensis' 'asperata' 'schrenkiana'\n",
      " 'biltmoreana' 'retusus' 'rhytidophyllum' 'elliptica' 'brevifolia'\n",
      " 'miqueliana' 'x marschlinsii' 'verniciflua' 'myrtilloides' 'fragilis'\n",
      " 'x bixbyi' 'cordiformis' 'trichocarpa' 'rhoifolia' 'forrestii'\n",
      " 'luminifera' 'x caerulea' 'platyphylla' 'curdica' 'x neglecta' 'fecunda'\n",
      " 'canbyi' 'spathulata' 'aprica' 'ambigua' 'venustula'\n",
      " 'rotundifolia var. aboriginum' 'champlainensis'\n",
      " 'szechuanica var. tibetica' 'taurica' 'muehlenbergii'\n",
      " 'ithaburensis var. macrolepis' 'lobata' 'x kewensis' 'ilicifolia'\n",
      " 'x heterophylla' 'falcata' 'delavayi subsp. potaninii']\n",
      "\n",
      "variete: [nan \"Atropunicea'\" \"Euchlora'\" \"Schwedleri'\" \"Pissardii'\" \"Pallida'\"\n",
      " 'n. sp.' \"Chanticleer'\" \"Purpureum'\" \"Italica'\" \"Aspleniifolia'\"\n",
      " \"Jacquemontii'\" \"Fastigiata'\" \"Fastigiate Koster'\" \"Imperialis'\"\n",
      " \"Honey Dew'\" \"Jacqueline Hillier'\" \"Rubra Plena'\" \"Diversifolia'\"\n",
      " \"Flamingo'\" \"Argentea Marginata'\" \"Pendula'\" \"Liempde'\" \"Pyramidalis'\"\n",
      " \"Tortuosa'\" \"Aurea'\" \"Frisia'\" \"Leopoldii'\" \"Aldenhamensis'\" \"Briotii'\"\n",
      " \"Kanzan'\" \"Variegata'\" \"Hizakura'\" \"Albomarginata'\" \"Bradford'\"\n",
      " \"Autumnalis Rosea'\" \"Atropurpurea'\" \"Castanaefolia'\"\n",
      " \"Eddie's White Wonder'\" \"Autumnalis'\" \"Heaven Scent'\" \"Schouten'\"\n",
      " \"Sundew'\" \"Leonard messel'\" \"Merrill'\" \"Plena'\" \"Unifolia'\" \"Accolade'\"\n",
      " \"Baumannii'\" \"Virginiana'\" \"Flying Dragon'\" \"Laciniata'\" \"Laciniatum'\"\n",
      " \"Globosum'\" \"Rohanii'\" \"Golden Hornet'\" \"Glauca'\" \"Youngii'\" \"Contorta'\"\n",
      " \"Umbraculifera'\" \"Jaspidea'\" \"Spaeth'\" \"Flekova'\" \"Regent'\" \"Atrovirens'\"\n",
      " \"Purpurea'\" \"Alba'\" \"Paul's Scarlet Hamlet'\" \"Lutea'\" \"Dawyck'\"\n",
      " \"Sapporo Autumn Gold' RESISTA\" \"Totem'\" \"Erythrocladum'\" \"Masu-kagami'\"\n",
      " \"Vossii'\" \"Atropurpureum'\" \"Farlake's Green'\" \"Elegans'\" \"Fugenzo'\"\n",
      " \"Shôgetsu'\" \"Elsrijk'\" \"Evereste'\" \"Alba Superba'\" \"Splendens'\"\n",
      " \"Raywood'\" \"Taihaku'\" \"Drummondii'\" \"Minsum' SUMMER BELLS\" \"Smaragd'\"\n",
      " \"Nanguen' LUTECE\" \"Laciniatum Wieri'\" \"Digitata'\" \"Sandraudiga'\"\n",
      " \"Bessoniana'\" \"Carrierei'\" \"Boubri'\" \"Niedzwetzkyana'\" \"John Downie'\"\n",
      " \"Meczek'\" \"Stricta'\" \"Doorenbos'\" \"Vestita'\" \"Robusta'\" \"Aurea Pendula'\"\n",
      " \"Salicifolia'\" \"Lane'\" \"Riversii'\" \"Prinz Handjery'\" \"Ambrozyana'\"\n",
      " \"Pulverulenta'\" \"Duclouxii'\" \"Obovata'\" \"Olmsted'\" \"Shirotae'\"\n",
      " \"Aberdoniae'\" \"Thornhayes Tansy'\" \"Purpurea Pendula'\" \"Weschcke'\"\n",
      " \"Hibernica'\" \"Vanessa'\" \"Neapolitanum'\" \"Coluteoides'\" \"Brabant'\"\n",
      " \"Amanogawa'\" \"Glauca Elegans'\" \"Memmingeri'\" \"Aureovariegata'\"\n",
      " \"Pink Cascade' CASQUE ROUGE\" \"Monophylla'\" \"Tiefurt'\" \"Watereri'\"\n",
      " \"Variegatum'\" \"Sunburst'\" \"Crimson King'\" \"Esveld Select'\"\n",
      " \"Amber Beauty'\" \"Shubert'\" \"Robin Hill'\" \"Punicea'\" \"Bon Accueil'\"\n",
      " \"Hilsop'\" \"Umineko'\" \"Ballerina'\" \"Kiku-shidare-zakura'\" \"Galissonnière'\"\n",
      " \"Negenia'\" \"Hokusai'\" \"Chermesina'\" \"Majestica'\" \"Arie Peters'\"\n",
      " \"Forest Pansy'\" \"Oiseau Bleu'\" \"Fairview'\" \"Naruto'\" \"Rubra'\"\n",
      " \"Paus Johannes-Paulus II'\" \"Annae'\" \"October Glory'\" \"Nova'\" \"Hillieri'\"\n",
      " \"Autumn Flame'\" \"Souvenir de Courson'\" \"Gibsii'\" \"Balaton'\" \"Scanlon'\"\n",
      " \"Rubrum'\" \"Schlesingeri'\" \"Cimmzam'\" \"Summit'\" \"Maya'\" \"Paul's Scarlet'\"\n",
      " \"Eleyi'\" \"Desmon'\" \"Courtarou'\" \"Saratoga'\" \"Raket'\" \"Worplesdon'\"\n",
      " \"Rudolph'\" \"Red Sentinel'\" \"Purpurea Tricolor'\" \"Klara Mayer'\" \"Minsum'\"\n",
      " \"Cleveland'\" \"Sericea'\" \"Crispa'\" \"Elegantissima'\" \"Calliprinos'\"\n",
      " \"Rosea Nova'\" \"Professor Sprenger'\" \"Columna'\" \"Falicifolia'\"\n",
      " \"Yellow Bird'\" \"Dovastoniana'\" \"Flore Pleno'\" \"Columnaris'\" \"Zebrina'\"\n",
      " \"Alumii'\" \"Descyr'\" \"Koster'\" \"Alba Plena'\" \"Redspire'\"\n",
      " \"Westhof's Glorie'\" \"Postelense'\" \"Joppi'\" \"Zlatia'\" \"Goblin'\"\n",
      " \"Grandidentata'\" \"Roseum'\" \"Aureomarginatum'\" \"Ombrella'\" \"Lennei'\"\n",
      " \"Fastigiatum'\" \"Okame'\" \"Aglandau'\" \"Macrophylla'\" \"Tempelhof'\"\n",
      " \"Magnificum Nakai'\" \"Squarrosa'\" \"Globosa Nana'\" \"Red Robin'\"\n",
      " \"Royal Burgundy'\" \"Lico'\" \"Dawyck Purple'\" \"Ferox'\" \"Jeffersred'\"\n",
      " \"Skyline'\" \"Pyramidale'\" \"Afghanica'\" \"Aucubifolia'\" \"Deborah'\"\n",
      " \"Albertii'\" \"Colorata'\" \"Luisa Lady'\" \"Atlantica Aurea'\"\n",
      " \"Princeton sentry'\" \"Blush'\" \"Quercifolia'\" \"Wageningeri'\" \"Gracilis'\"\n",
      " \"Tristan'\" \"Nizetii'\" \"Kojou-no-mai'\" \"Concordia'\" \"Rotundifolia'\"\n",
      " \"Conspicua'\" \"Aureum'\" \"Theodonensis'\" \"Thunberg'\" \"Matsuma'\"\n",
      " \"Erecta viridis'\" \"Clanbrassiliana'\" \"Macrophyllum'\"\n",
      " \"Cipressino Pyramidal'\" \"Nociara'\" \"Leoccino'\" \"Gold Bark'\" \"Speciosa'\"\n",
      " \"Buergeri'\" \"Nannetensis'\" \"Royal red'\" \"Pendula Rubra'\" \"Lemoinei'\"\n",
      " \"Bigarreau blanc'\" \"Bigarreau Hatif Burlat'\"\n",
      " \"Bigarreau Napoleon' NAPOLEON\" \"Hedelfingen Riesenkirsche'\"\n",
      " \"Beurré Hardy'\" \"Bon chrétien Williams'\" \"Soldat Laboureur'\" \"Chat rôti'\"\n",
      " \"Transparente de Croncels'\" \"King of the Pippins'\" \"Peasgood's Nonsuch'\"\n",
      " \"Calville blanc'\" \"Glauca Pendula'\" \"Pembury Blue'\" \"Dampieri'\" \"Vranja'\"\n",
      " \"Mostapfel President Descourt'\" \"Flekova' GREEN VASE\" \"Columnare'\"\n",
      " \"Greenspire'\" \"Ellwoodii'\" \"Reine Claude'\" \"Altena'\" \"Hamabo'\"\n",
      " \"Argenteovariegata'\" \"Kkho1' HOT PINK\" \"Saugeana'\" \"Alaska'\" \"Porlock'\"\n",
      " \"Quetsche d'Alsace'\" \"Nicoline'\" \"Mirabelle'\" \"Flore Roseo Pleno'\"\n",
      " \"Nigra'\" \"Caucasica'\" \"Otto Luyken'\" \"Decaisneana'\" \"Marginata'\"\n",
      " 'RESISTA' \"Wanoux' VADA\" \"Nanguen'\" \"New Horizon' RESISTA\"\n",
      " \"Jeffersred' AUTUMN BLAZE\" \"Schone van Boskoop' BELLE DE BOSKOOP\"\n",
      " 'PLATANOR®' \"Fruitless'\" \"Granny Smith'\" \"Conference'\" \"Golden' n.sp.\"\n",
      " \"Bergeron'\" \"Warrenred' PACIFIC SUNSET\" \"Bonne Louise d'Avranches'\"\n",
      " \"Champion'\" \"Sanguine Vineuse'\" \"Oxford'\" \"Sainte Catherine'\"\n",
      " \"Kidd's Orange Red'\" \"Polonais'\" \"Luizet'\" \"Winter Gold'\" \"Dissectum'\"\n",
      " \"Austriaca'\" \"Nelly Stevens'\" \"Profusion'\" \"Atlantica Glauca'\" \"Nanum'\"\n",
      " \"Frans Fontaine'\" \"Glenleven'\" \"Minaret'\" \"Erecta'\" \"Spire'\"\n",
      " \"Sunset Boulevard'\" \"Henk Vink'\" \"Rheinland'\" \"Jonagold'\" \"Album'\"\n",
      " \"Bloodgood'\" \"Emerald Queen'\" \"Aconitifolium'\" \"Nivea'\"\n",
      " \"Splender Silhouette'\" \"Monticola'\" \"Nana'\" \"Induta'\" \"Schnee'\"\n",
      " \"Bruchem'\" \"Teton de Vénus'\" \"Reine des Vergers'\" \"Bondy'\"\n",
      " \"Belle de Pontoise'\" \"Melrose'\" \"Court Pendu Gris'\" \"Lambertin n°1'\"\n",
      " \"Le Curé'\" \"Comtesse de Paris'\" \"Conseiller à la Cour'\"\n",
      " \"Ananas Reinette'\" \"Bonne de Bry'\" \"Mirabelle de Nancy'\"\n",
      " \"Reine Claude Tardive de Chambourcy'\" \"Williams'\" \"Cox's Orange'\"\n",
      " \"Reinette Abry'\" \"Groseille'\" \"Beurré Clairgeau'\"\n",
      " \"Doyenné du Comice' COMICE\" \"Reinette Clochard'\" \"Hatif Colomer'\"\n",
      " \"Susan'\" \"Reinette du Mans'\" \"Cockleshell'\" \"Lucombeana'\" \"Rubylace'\"\n",
      " \"Fukubana'\" \"Williams' WILLIAMS ROUGE\" \"Borowitsky'\"\n",
      " \"Baumann's Reinette'\" \"Fastigia'\" \"Aurea Marginata'\" \"Green Spire'\"\n",
      " \"Atlantica Glauca Pendula'\" \"Villa Taranto'\" \"Osakazuki'\" \"Shin-deshôjô'\"\n",
      " \"Starking'\" \"Grand Champion'\" \"Reinette Grise du Canada'\"\n",
      " \"Duc de Bordeaux'\" \"Reinette de Caux'\" \"Shinseiki'\" \"Grand Alexandre'\"\n",
      " \"De l'Estre'\" \"Akane'\" \"Winter Banana'\" \"Drap d'Or'\" \"Belle de Louvain'\"\n",
      " \"Redhaven'\" \"Grosse Mignonne'\" \"Idared'\" \"Gloster'\" \"Belle Fleur Jaune'\"\n",
      " \"Duchesse d'Angoulême'\" \"Calville Rouge d'Hiver'\" \"Elstar'\"\n",
      " \"Général Leclerc'\" \"Calville rouge'\" \"Reinette du Canada'\"\n",
      " \"Golden Delicious'\" \"Beurré Lebrun'\" \"Précoce de Saumur'\"\n",
      " \"Aprikose von Nancy'\" \"Princess'\" \"Clapp's Favourite'\" \"Api Rose'\"\n",
      " \"Canada Rouge'\" \"Madeleine des deux Saisons'\" \"Fuji'\" \"Passe Crassane'\"\n",
      " \"Sucrée de Montluçon'\" \"Reinette Blanche du Canada'\" \"Pyramidalis Alba'\"\n",
      " \"Lemon Pippin'\" \"Docteur Jules Guyot'\" \"Patte de Loup'\"\n",
      " \"Reine Claude Dorée'\" \"Topred'\" \"Précoce de Trévoux'\" \"Morton'\" \"Amsden'\"\n",
      " \"Tenroy' ROYAL GALA\" \"Webb's Prize Cob'\" \"Triomphe de Vienne'\"\n",
      " \"Chantecler'\" \"Professeur Vilaine'\" \"Grosse Pomme Noire'\"]\n",
      "\n",
      "stade_developpement: [nan 'A' 'J' 'M' 'JA']\n"
     ]
    }
   ],
   "source": [
    "for var in var_qualitatives:\n",
    "    print(f'{var}: {df[var].unique()}\\n')"
   ],
   "metadata": {
    "collapsed": false,
    "ExecuteTime": {
     "end_time": "2024-03-28T14:32:29.635478Z",
     "start_time": "2024-03-28T14:32:29.497843Z"
    }
   },
   "id": "20cc6b887037c896",
   "execution_count": 10
  },
  {
   "cell_type": "markdown",
   "source": [
    "### Number of Modalities"
   ],
   "metadata": {
    "collapsed": false
   },
   "id": "ec5b257e13fe6ce"
  },
  {
   "cell_type": "code",
   "outputs": [
    {
     "name": "stdout",
     "output_type": "stream",
     "text": [
      "type_emplacement: 1\n",
      "domanialite: 9\n",
      "arrondissement: 25\n",
      "complement_addresse: 3795\n",
      "lieu: 6921\n",
      "id_emplacement: 69040\n",
      "libelle_francais: 192\n",
      "genre: 175\n",
      "espece: 539\n",
      "variete: 436\n",
      "stade_developpement: 4\n"
     ]
    }
   ],
   "source": [
    "for var in var_qualitatives:\n",
    "    print(f'{var}: {df[var].nunique()}')"
   ],
   "metadata": {
    "collapsed": false,
    "ExecuteTime": {
     "end_time": "2024-03-28T14:32:29.782610Z",
     "start_time": "2024-03-28T14:32:29.638368Z"
    }
   },
   "id": "c8dd3ad2e7f220a9",
   "execution_count": 11
  },
  {
   "cell_type": "markdown",
   "source": [
    "## Observations:\n",
    "- The first six variables are related to the location of the trees.\n",
    "- The last five variables are related to the variety of trees and their stage of development.\n",
    "- 'type_emplacement': constant value (Tree)\n",
    "- 'id_emplacement': very high cardinality => contains a large number of unique values, might be a unique identifier for each tree\n"
   ],
   "metadata": {
    "collapsed": false
   },
   "id": "1177ed4633b1f79"
  },
  {
   "cell_type": "markdown",
   "source": [
    "## Number of trees for each modality with a sum"
   ],
   "metadata": {
    "collapsed": false
   },
   "id": "363b33a673cc39ba"
  },
  {
   "cell_type": "code",
   "outputs": [
    {
     "name": "stdout",
     "output_type": "stream",
     "text": [
      "type_emplacement\n",
      "Arbre    200137\n",
      "Name: count, dtype: int64 \n",
      "\n",
      "200137 \n",
      "\n",
      "domanialite\n",
      "Alignement      104949\n",
      "Jardin           46262\n",
      "CIMETIERE        31926\n",
      "DASCO             6422\n",
      "PERIPHERIQUE      5327\n",
      "DJS               3900\n",
      "DFPE              1325\n",
      "DAC                 21\n",
      "DASES                4\n",
      "Name: count, dtype: int64 \n",
      "\n",
      "200136 \n",
      "\n",
      "arrondissement\n",
      "PARIS 15E ARRDT      17151\n",
      "PARIS 13E ARRDT      16712\n",
      "PARIS 16E ARRDT      16403\n",
      "PARIS 20E ARRDT      15340\n",
      "PARIS 19E ARRDT      13709\n",
      "PARIS 12E ARRDT      12600\n",
      "SEINE-SAINT-DENIS    11570\n",
      "BOIS DE VINCENNES    11510\n",
      "PARIS 14E ARRDT      11399\n",
      "PARIS 17E ARRDT      10762\n",
      "PARIS 18E ARRDT      10011\n",
      "PARIS 7E ARRDT        8617\n",
      "VAL-DE-MARNE          7580\n",
      "PARIS 8E ARRDT        7245\n",
      "PARIS 11E ARRDT       5658\n",
      "HAUTS-DE-SEINE        5298\n",
      "BOIS DE BOULOGNE      3978\n",
      "PARIS 10E ARRDT       3385\n",
      "PARIS 4E ARRDT        2740\n",
      "PARIS 5E ARRDT        2368\n",
      "PARIS 6E ARRDT        1764\n",
      "PARIS 1ER ARRDT       1413\n",
      "PARIS 3E ARRDT        1209\n",
      "PARIS 9E ARRDT        1167\n",
      "PARIS 2E ARRDT         548\n",
      "Name: count, dtype: int64 \n",
      "\n",
      "200137 \n",
      "\n",
      "complement_addresse\n",
      "SN°           557\n",
      "1             552\n",
      "2             547\n",
      "3             498\n",
      "4             464\n",
      "             ... \n",
      "F 10-12         1\n",
      "F 99            1\n",
      "93 Flandre      1\n",
      "F 97            1\n",
      "40face          1\n",
      "Name: count, Length: 3795, dtype: int64 \n",
      "\n",
      "30902 \n",
      "\n",
      "lieu\n",
      "PARC FLORAL DE PARIS / ROUTE DE LA PYRAMIDE                       2995\n",
      "PARC DES BUTTES CHAUMONT                                          2331\n",
      "PARC ANDRE CITROEN                                                2095\n",
      "PARC OMNISPORT SUZANNE LENGLEN / 7 BOULEVARD DES FRERES VOISIN    1478\n",
      "INSEP / AVENUE DU TREMBLAY                                        1293\n",
      "                                                                  ... \n",
      "CIMETIERE ST VINCENT / DIV 5                                         1\n",
      "ROUTE DU LAC A BAGATELLE                                             1\n",
      "ROUTE DE LA PORTE SAINT-JAMES                                        1\n",
      "PENTE DE GRAVELLE - AVENUE DE GRAVELLE / ROUTE NOUVELLE              1\n",
      "CIMETIERE DE PANTIN / DIV 66                                         1\n",
      "Name: count, Length: 6921, dtype: int64 \n",
      "\n",
      "200137 \n",
      "\n",
      "id_emplacement\n",
      "101001          1324\n",
      "101002          1241\n",
      "101003          1128\n",
      "202001          1032\n",
      "101004          1020\n",
      "                ... \n",
      "A15100096004       1\n",
      "A15100096003       1\n",
      "A15100096002       1\n",
      "A15100096001       1\n",
      "720170155          1\n",
      "Name: count, Length: 69040, dtype: int64 \n",
      "\n",
      "200137 \n",
      "\n",
      "libelle_francais\n",
      "Platane       42508\n",
      "Marronnier    25207\n",
      "Tilleul       21305\n",
      "Erable        18389\n",
      "Sophora       11797\n",
      "              ...  \n",
      "Cordyline         1\n",
      "Camphrier         1\n",
      "Jujubier          1\n",
      "Maackie           1\n",
      "Garrya            1\n",
      "Name: count, Length: 192, dtype: int64 \n",
      "\n",
      "198640 \n",
      "\n",
      "genre\n",
      "Platanus        42591\n",
      "Aesculus        25341\n",
      "Tilia           21550\n",
      "Acer            18471\n",
      "Sophora         11830\n",
      "                ...  \n",
      "Sycopsis            1\n",
      "Enkianthus          1\n",
      "Euscaphis           1\n",
      "Phyllanthus         1\n",
      "Washingtonia        1\n",
      "Name: count, Length: 175, dtype: int64 \n",
      "200121 \n",
      "\n",
      "espece\n",
      "x hispanica                  36409\n",
      "hippocastanum                20039\n",
      "japonica                     11822\n",
      "n. sp.                        9063\n",
      "tomentosa                     8962\n",
      "                             ...  \n",
      "polycarpa                        1\n",
      "x gondouinii                     1\n",
      "lusitanica subsp.azorica         1\n",
      "oliveri                          1\n",
      "delavayi subsp. potaninii        1\n",
      "Name: count, Length: 539, dtype: int64 \n",
      "\n",
      "198385 \n",
      "\n",
      "variete\n",
      "Baumannii'             4538\n",
      "Briotii'               2827\n",
      "Euchlora'              2756\n",
      "Chanticleer'           2595\n",
      "Fastigiata'            2483\n",
      "                       ... \n",
      "Conspicua'                1\n",
      "Concordia'                1\n",
      "Kojou-no-mai'             1\n",
      "Nizetii'                  1\n",
      "Grosse Pomme Noire'       1\n",
      "Name: count, Length: 436, dtype: int64 \n",
      "\n",
      "36777 \n",
      "\n",
      "stade_developpement\n",
      "A     64438\n",
      "JA    35444\n",
      "J     26937\n",
      "M      6113\n",
      "Name: count, dtype: int64 \n",
      "\n",
      "132932 \n"
     ]
    }
   ],
   "source": [
    "for var in var_qualitatives: # Loop through each qualitative variable\n",
    "    print(df[var].value_counts(), '\\n') # Display the number of trees for each modality\n",
    "    print(df[var].value_counts().sum(), '\\n') # Display the sum of the number of trees for each modality"
   ],
   "metadata": {
    "collapsed": false,
    "ExecuteTime": {
     "end_time": "2024-03-28T14:32:30.210932Z",
     "start_time": "2024-03-28T14:32:29.785151Z"
    }
   },
   "id": "a5d08184b3a95c7f",
   "execution_count": 12
  },
  {
   "cell_type": "markdown",
   "source": [
    "# Step 4: Data Analysis and Data Cleaning (Double, Outliers, etc... in the Dataset)\n"
   ],
   "metadata": {
    "collapsed": false
   },
   "id": "c476474ac71dc21e"
  },
  {
   "cell_type": "markdown",
   "source": [
    "## Double entry of the same tree"
   ],
   "metadata": {
    "collapsed": false
   },
   "id": "4550d486beed54b0"
  },
  {
   "cell_type": "code",
   "outputs": [
    {
     "data": {
      "text/plain": "0         False\n1         False\n2         False\n3         False\n4         False\n          ...  \n200132    False\n200133    False\n200134    False\n200135    False\n200136    False\nLength: 200137, dtype: bool"
     },
     "execution_count": 13,
     "metadata": {},
     "output_type": "execute_result"
    }
   ],
   "source": [
    "df.duplicated() # Check for duplicate entries, false means no duplicates for each row"
   ],
   "metadata": {
    "collapsed": false,
    "ExecuteTime": {
     "end_time": "2024-03-28T14:32:30.545878Z",
     "start_time": "2024-03-28T14:32:30.213915Z"
    }
   },
   "id": "ffc17ef4197e7ced",
   "execution_count": 13
  },
  {
   "cell_type": "code",
   "outputs": [
    {
     "data": {
      "text/plain": "0"
     },
     "execution_count": 14,
     "metadata": {},
     "output_type": "execute_result"
    }
   ],
   "source": [
    "df.duplicated(subset='id').sum() # Number of duplicate entries,analysis based on the 'id' column"
   ],
   "metadata": {
    "collapsed": false,
    "ExecuteTime": {
     "end_time": "2024-03-28T14:32:30.562634Z",
     "start_time": "2024-03-28T14:32:30.548887Z"
    }
   },
   "id": "4b600b751c50879a",
   "execution_count": 14
  },
  {
   "cell_type": "code",
   "outputs": [
    {
     "name": "stdout",
     "output_type": "stream",
     "text": [
      "(200137, 18)\n",
      "(200137, 18)\n"
     ]
    }
   ],
   "source": [
    "print(df.shape) # Display the number of rows and columns in the DataFrame\n",
    "df.drop_duplicates(subset='id', inplace=True) # Remove duplicate entries, subset is used to specify the column to check for duplicates and inplace=True is used to modify the DataFrame if necessary\n",
    "print(df.shape) # Display after removing duplicates with the 'id' column"
   ],
   "metadata": {
    "collapsed": false,
    "ExecuteTime": {
     "end_time": "2024-03-28T14:32:30.602076Z",
     "start_time": "2024-03-28T14:32:30.565174Z"
    }
   },
   "id": "e641b07101d00983",
   "execution_count": 15
  },
  {
   "cell_type": "markdown",
   "source": [
    "## Observations:\n",
    "- There are no duplicate entries in the dataset.\n",
    "- The 'id' column is unique for each tree.\n",
    "- The 'numero' column contains missing values.\n",
    "- the 'type_emplacement' column contains a constant value (Tree).\n",
    "- the 'complement_addresse' column contains missing values and cardinality is high.\n",
    "- the 'id_emplacement' is not worth keeping."
   ],
   "metadata": {
    "collapsed": false
   },
   "id": "8269fd5180999406"
  },
  {
   "cell_type": "markdown",
   "source": [
    "## Erase columns unnecessary for the analysis"
   ],
   "metadata": {
    "collapsed": false
   },
   "id": "8be9c347a6d9124a"
  },
  {
   "cell_type": "code",
   "outputs": [],
   "source": [
    "df.drop(columns=['id', 'numero', 'type_emplacement', 'id_emplacement'], inplace=True) # Drop unnecessary columns"
   ],
   "metadata": {
    "collapsed": false,
    "ExecuteTime": {
     "end_time": "2024-03-28T14:32:30.639345Z",
     "start_time": "2024-03-28T14:32:30.609450Z"
    }
   },
   "id": "5269a5ef7bd5a8a9",
   "execution_count": 16
  },
  {
   "cell_type": "code",
   "outputs": [
    {
     "data": {
      "text/plain": "  domanialite   arrondissement complement_addresse  \\\n0      Jardin   PARIS 7E ARRDT                 NaN   \n1      Jardin   PARIS 7E ARRDT                 NaN   \n2      Jardin   PARIS 7E ARRDT                 NaN   \n3      Jardin   PARIS 7E ARRDT                 NaN   \n4      Jardin  PARIS 17E ARRDT                 NaN   \n\n                                         lieu libelle_francais      genre  \\\n0   MAIRIE DU 7E 116 RUE DE GRENELLE PARIS 7E       Marronnier   Aesculus   \n1   MAIRIE DU 7E 116 RUE DE GRENELLE PARIS 7E               If      Taxus   \n2   MAIRIE DU 7E 116 RUE DE GRENELLE PARIS 7E               If      Taxus   \n3   MAIRIE DU 7E 116 RUE DE GRENELLE PARIS 7E           Erable       Acer   \n4  PARC CLICHY-BATIGNOLLES-MARTIN LUTHER KING     Arbre à miel  Tetradium   \n\n          espece variete  circonference_cm  hauteur_m stade_developpement  \\\n0  hippocastanum     NaN                20          5                 NaN   \n1        baccata     NaN                65          8                   A   \n2        baccata     NaN                90         10                   A   \n3        negundo     NaN                60          8                   A   \n4      daniellii     NaN                38          0                 NaN   \n\n   remarquable  geo_point_2d_a  geo_point_2d_b  \n0          0.0       48.857620        2.320962  \n1          NaN       48.857656        2.321031  \n2          NaN       48.857705        2.321061  \n3          NaN       48.857722        2.321006  \n4          NaN       48.890435        2.315289  ",
      "text/html": "<div>\n<style scoped>\n    .dataframe tbody tr th:only-of-type {\n        vertical-align: middle;\n    }\n\n    .dataframe tbody tr th {\n        vertical-align: top;\n    }\n\n    .dataframe thead th {\n        text-align: right;\n    }\n</style>\n<table border=\"1\" class=\"dataframe\">\n  <thead>\n    <tr style=\"text-align: right;\">\n      <th></th>\n      <th>domanialite</th>\n      <th>arrondissement</th>\n      <th>complement_addresse</th>\n      <th>lieu</th>\n      <th>libelle_francais</th>\n      <th>genre</th>\n      <th>espece</th>\n      <th>variete</th>\n      <th>circonference_cm</th>\n      <th>hauteur_m</th>\n      <th>stade_developpement</th>\n      <th>remarquable</th>\n      <th>geo_point_2d_a</th>\n      <th>geo_point_2d_b</th>\n    </tr>\n  </thead>\n  <tbody>\n    <tr>\n      <th>0</th>\n      <td>Jardin</td>\n      <td>PARIS 7E ARRDT</td>\n      <td>NaN</td>\n      <td>MAIRIE DU 7E 116 RUE DE GRENELLE PARIS 7E</td>\n      <td>Marronnier</td>\n      <td>Aesculus</td>\n      <td>hippocastanum</td>\n      <td>NaN</td>\n      <td>20</td>\n      <td>5</td>\n      <td>NaN</td>\n      <td>0.0</td>\n      <td>48.857620</td>\n      <td>2.320962</td>\n    </tr>\n    <tr>\n      <th>1</th>\n      <td>Jardin</td>\n      <td>PARIS 7E ARRDT</td>\n      <td>NaN</td>\n      <td>MAIRIE DU 7E 116 RUE DE GRENELLE PARIS 7E</td>\n      <td>If</td>\n      <td>Taxus</td>\n      <td>baccata</td>\n      <td>NaN</td>\n      <td>65</td>\n      <td>8</td>\n      <td>A</td>\n      <td>NaN</td>\n      <td>48.857656</td>\n      <td>2.321031</td>\n    </tr>\n    <tr>\n      <th>2</th>\n      <td>Jardin</td>\n      <td>PARIS 7E ARRDT</td>\n      <td>NaN</td>\n      <td>MAIRIE DU 7E 116 RUE DE GRENELLE PARIS 7E</td>\n      <td>If</td>\n      <td>Taxus</td>\n      <td>baccata</td>\n      <td>NaN</td>\n      <td>90</td>\n      <td>10</td>\n      <td>A</td>\n      <td>NaN</td>\n      <td>48.857705</td>\n      <td>2.321061</td>\n    </tr>\n    <tr>\n      <th>3</th>\n      <td>Jardin</td>\n      <td>PARIS 7E ARRDT</td>\n      <td>NaN</td>\n      <td>MAIRIE DU 7E 116 RUE DE GRENELLE PARIS 7E</td>\n      <td>Erable</td>\n      <td>Acer</td>\n      <td>negundo</td>\n      <td>NaN</td>\n      <td>60</td>\n      <td>8</td>\n      <td>A</td>\n      <td>NaN</td>\n      <td>48.857722</td>\n      <td>2.321006</td>\n    </tr>\n    <tr>\n      <th>4</th>\n      <td>Jardin</td>\n      <td>PARIS 17E ARRDT</td>\n      <td>NaN</td>\n      <td>PARC CLICHY-BATIGNOLLES-MARTIN LUTHER KING</td>\n      <td>Arbre à miel</td>\n      <td>Tetradium</td>\n      <td>daniellii</td>\n      <td>NaN</td>\n      <td>38</td>\n      <td>0</td>\n      <td>NaN</td>\n      <td>NaN</td>\n      <td>48.890435</td>\n      <td>2.315289</td>\n    </tr>\n  </tbody>\n</table>\n</div>"
     },
     "execution_count": 17,
     "metadata": {},
     "output_type": "execute_result"
    }
   ],
   "source": [
    "df.head() # Display the first few rows of the DataFrame"
   ],
   "metadata": {
    "collapsed": false,
    "ExecuteTime": {
     "end_time": "2024-03-28T14:32:30.658150Z",
     "start_time": "2024-03-28T14:32:30.641351Z"
    }
   },
   "id": "f18685ba118d7890",
   "execution_count": 17
  },
  {
   "cell_type": "code",
   "outputs": [
    {
     "name": "stdout",
     "output_type": "stream",
     "text": [
      "<class 'pandas.core.frame.DataFrame'>\n",
      "RangeIndex: 200137 entries, 0 to 200136\n",
      "Data columns (total 14 columns):\n",
      " #   Column               Non-Null Count   Dtype  \n",
      "---  ------               --------------   -----  \n",
      " 0   domanialite          200136 non-null  object \n",
      " 1   arrondissement       200137 non-null  object \n",
      " 2   complement_addresse  30902 non-null   object \n",
      " 3   lieu                 200137 non-null  object \n",
      " 4   libelle_francais     198640 non-null  object \n",
      " 5   genre                200121 non-null  object \n",
      " 6   espece               198385 non-null  object \n",
      " 7   variete              36777 non-null   object \n",
      " 8   circonference_cm     200137 non-null  int64  \n",
      " 9   hauteur_m            200137 non-null  int64  \n",
      " 10  stade_developpement  132932 non-null  object \n",
      " 11  remarquable          137039 non-null  float64\n",
      " 12  geo_point_2d_a       200137 non-null  float64\n",
      " 13  geo_point_2d_b       200137 non-null  float64\n",
      "dtypes: float64(3), int64(2), object(9)\n",
      "memory usage: 21.4+ MB\n"
     ]
    }
   ],
   "source": [
    "df.info() # Display general information about the DataFrame"
   ],
   "metadata": {
    "collapsed": false,
    "ExecuteTime": {
     "end_time": "2024-03-28T14:32:30.745918Z",
     "start_time": "2024-03-28T14:32:30.660158Z"
    }
   },
   "id": "3e600aaf7f541282",
   "execution_count": 18
  },
  {
   "cell_type": "markdown",
   "source": [
    "## Missing Values Analysis"
   ],
   "metadata": {
    "collapsed": false
   },
   "id": "25dc2287445e49f1"
  },
  {
   "cell_type": "code",
   "outputs": [
    {
     "data": {
      "text/plain": "        domanialite  arrondissement  complement_addresse   lieu  \\\n0             False           False                 True  False   \n1             False           False                 True  False   \n2             False           False                 True  False   \n3             False           False                 True  False   \n4             False           False                 True  False   \n...             ...             ...                  ...    ...   \n200132        False           False                 True  False   \n200133        False           False                 True  False   \n200134        False           False                 True  False   \n200135        False           False                 True  False   \n200136        False           False                 True  False   \n\n        libelle_francais  genre  espece  variete  circonference_cm  hauteur_m  \\\n0                  False  False   False     True             False      False   \n1                  False  False   False     True             False      False   \n2                  False  False   False     True             False      False   \n3                  False  False   False     True             False      False   \n4                  False  False   False     True             False      False   \n...                  ...    ...     ...      ...               ...        ...   \n200132              True  False   False     True             False      False   \n200133             False  False   False     True             False      False   \n200134             False  False   False     True             False      False   \n200135             False  False   False     True             False      False   \n200136             False  False   False     True             False      False   \n\n        stade_developpement  remarquable  geo_point_2d_a  geo_point_2d_b  \n0                      True        False           False           False  \n1                     False         True           False           False  \n2                     False         True           False           False  \n3                     False         True           False           False  \n4                      True         True           False           False  \n...                     ...          ...             ...             ...  \n200132                 True        False           False           False  \n200133                 True        False           False           False  \n200134                 True        False           False           False  \n200135                 True        False           False           False  \n200136                 True        False           False           False  \n\n[200137 rows x 14 columns]",
      "text/html": "<div>\n<style scoped>\n    .dataframe tbody tr th:only-of-type {\n        vertical-align: middle;\n    }\n\n    .dataframe tbody tr th {\n        vertical-align: top;\n    }\n\n    .dataframe thead th {\n        text-align: right;\n    }\n</style>\n<table border=\"1\" class=\"dataframe\">\n  <thead>\n    <tr style=\"text-align: right;\">\n      <th></th>\n      <th>domanialite</th>\n      <th>arrondissement</th>\n      <th>complement_addresse</th>\n      <th>lieu</th>\n      <th>libelle_francais</th>\n      <th>genre</th>\n      <th>espece</th>\n      <th>variete</th>\n      <th>circonference_cm</th>\n      <th>hauteur_m</th>\n      <th>stade_developpement</th>\n      <th>remarquable</th>\n      <th>geo_point_2d_a</th>\n      <th>geo_point_2d_b</th>\n    </tr>\n  </thead>\n  <tbody>\n    <tr>\n      <th>0</th>\n      <td>False</td>\n      <td>False</td>\n      <td>True</td>\n      <td>False</td>\n      <td>False</td>\n      <td>False</td>\n      <td>False</td>\n      <td>True</td>\n      <td>False</td>\n      <td>False</td>\n      <td>True</td>\n      <td>False</td>\n      <td>False</td>\n      <td>False</td>\n    </tr>\n    <tr>\n      <th>1</th>\n      <td>False</td>\n      <td>False</td>\n      <td>True</td>\n      <td>False</td>\n      <td>False</td>\n      <td>False</td>\n      <td>False</td>\n      <td>True</td>\n      <td>False</td>\n      <td>False</td>\n      <td>False</td>\n      <td>True</td>\n      <td>False</td>\n      <td>False</td>\n    </tr>\n    <tr>\n      <th>2</th>\n      <td>False</td>\n      <td>False</td>\n      <td>True</td>\n      <td>False</td>\n      <td>False</td>\n      <td>False</td>\n      <td>False</td>\n      <td>True</td>\n      <td>False</td>\n      <td>False</td>\n      <td>False</td>\n      <td>True</td>\n      <td>False</td>\n      <td>False</td>\n    </tr>\n    <tr>\n      <th>3</th>\n      <td>False</td>\n      <td>False</td>\n      <td>True</td>\n      <td>False</td>\n      <td>False</td>\n      <td>False</td>\n      <td>False</td>\n      <td>True</td>\n      <td>False</td>\n      <td>False</td>\n      <td>False</td>\n      <td>True</td>\n      <td>False</td>\n      <td>False</td>\n    </tr>\n    <tr>\n      <th>4</th>\n      <td>False</td>\n      <td>False</td>\n      <td>True</td>\n      <td>False</td>\n      <td>False</td>\n      <td>False</td>\n      <td>False</td>\n      <td>True</td>\n      <td>False</td>\n      <td>False</td>\n      <td>True</td>\n      <td>True</td>\n      <td>False</td>\n      <td>False</td>\n    </tr>\n    <tr>\n      <th>...</th>\n      <td>...</td>\n      <td>...</td>\n      <td>...</td>\n      <td>...</td>\n      <td>...</td>\n      <td>...</td>\n      <td>...</td>\n      <td>...</td>\n      <td>...</td>\n      <td>...</td>\n      <td>...</td>\n      <td>...</td>\n      <td>...</td>\n      <td>...</td>\n    </tr>\n    <tr>\n      <th>200132</th>\n      <td>False</td>\n      <td>False</td>\n      <td>True</td>\n      <td>False</td>\n      <td>True</td>\n      <td>False</td>\n      <td>False</td>\n      <td>True</td>\n      <td>False</td>\n      <td>False</td>\n      <td>True</td>\n      <td>False</td>\n      <td>False</td>\n      <td>False</td>\n    </tr>\n    <tr>\n      <th>200133</th>\n      <td>False</td>\n      <td>False</td>\n      <td>True</td>\n      <td>False</td>\n      <td>False</td>\n      <td>False</td>\n      <td>False</td>\n      <td>True</td>\n      <td>False</td>\n      <td>False</td>\n      <td>True</td>\n      <td>False</td>\n      <td>False</td>\n      <td>False</td>\n    </tr>\n    <tr>\n      <th>200134</th>\n      <td>False</td>\n      <td>False</td>\n      <td>True</td>\n      <td>False</td>\n      <td>False</td>\n      <td>False</td>\n      <td>False</td>\n      <td>True</td>\n      <td>False</td>\n      <td>False</td>\n      <td>True</td>\n      <td>False</td>\n      <td>False</td>\n      <td>False</td>\n    </tr>\n    <tr>\n      <th>200135</th>\n      <td>False</td>\n      <td>False</td>\n      <td>True</td>\n      <td>False</td>\n      <td>False</td>\n      <td>False</td>\n      <td>False</td>\n      <td>True</td>\n      <td>False</td>\n      <td>False</td>\n      <td>True</td>\n      <td>False</td>\n      <td>False</td>\n      <td>False</td>\n    </tr>\n    <tr>\n      <th>200136</th>\n      <td>False</td>\n      <td>False</td>\n      <td>True</td>\n      <td>False</td>\n      <td>False</td>\n      <td>False</td>\n      <td>False</td>\n      <td>True</td>\n      <td>False</td>\n      <td>False</td>\n      <td>True</td>\n      <td>False</td>\n      <td>False</td>\n      <td>False</td>\n    </tr>\n  </tbody>\n</table>\n<p>200137 rows × 14 columns</p>\n</div>"
     },
     "execution_count": 19,
     "metadata": {},
     "output_type": "execute_result"
    }
   ],
   "source": [
    "df.isna() # Check for missing values, false means no missing values for each row"
   ],
   "metadata": {
    "collapsed": false,
    "ExecuteTime": {
     "end_time": "2024-03-28T14:32:30.839444Z",
     "start_time": "2024-03-28T14:32:30.747928Z"
    }
   },
   "id": "d5b651318ffdf00b",
   "execution_count": 19
  },
  {
   "cell_type": "code",
   "outputs": [
    {
     "data": {
      "text/plain": "complement_addresse    169235\nvariete                163360\nstade_developpement     67205\nremarquable             63098\nespece                   1752\nlibelle_francais         1497\ngenre                      16\ndomanialite                 1\narrondissement              0\nlieu                        0\ncirconference_cm            0\nhauteur_m                   0\ngeo_point_2d_a              0\ngeo_point_2d_b              0\ndtype: int64"
     },
     "execution_count": 20,
     "metadata": {},
     "output_type": "execute_result"
    }
   ],
   "source": [
    "df.isna().sum().sort_values(ascending=False) # Count the number of missing values for each column"
   ],
   "metadata": {
    "collapsed": false,
    "ExecuteTime": {
     "end_time": "2024-03-28T14:32:30.910049Z",
     "start_time": "2024-03-28T14:32:30.842962Z"
    }
   },
   "id": "44e92aff09ede676",
   "execution_count": 20
  },
  {
   "cell_type": "code",
   "outputs": [
    {
     "data": {
      "text/plain": "complement_addresse    84.559577\nvariete                81.624088\nstade_developpement    33.579498\nremarquable            31.527404\nespece                  0.875400\nlibelle_francais        0.747988\ngenre                   0.007995\ndomanialite             0.000500\narrondissement          0.000000\nlieu                    0.000000\ncirconference_cm        0.000000\nhauteur_m               0.000000\ngeo_point_2d_a          0.000000\ngeo_point_2d_b          0.000000\ndtype: float64"
     },
     "execution_count": 21,
     "metadata": {},
     "output_type": "execute_result"
    }
   ],
   "source": [
    "percentage_Nan = (df.isna().sum() / df.shape[0]).sort_values(ascending=False)*100 # Calculate the percentage of missing values for each column\n",
    "percentage_Nan # Display the percentage of missing values for each column"
   ],
   "metadata": {
    "collapsed": false,
    "ExecuteTime": {
     "end_time": "2024-03-28T14:32:30.978500Z",
     "start_time": "2024-03-28T14:32:30.912058Z"
    }
   },
   "id": "c26bd8966739cb4e",
   "execution_count": 21
  },
  {
   "cell_type": "markdown",
   "source": [
    "## Graphical Representation of Missing Values"
   ],
   "metadata": {
    "collapsed": false
   },
   "id": "1de321347cebb53c"
  },
  {
   "cell_type": "code",
   "outputs": [
    {
     "data": {
      "text/plain": "<Figure size 2000x600 with 1 Axes>",
      "image/png": "[encoded data removed]"
     },
     "metadata": {},
     "output_type": "display_data"
    }
   ],
   "source": [
    "import matplotlib.pyplot as plt # Import the matplotlib library for data visualization\n",
    "import seaborn as sns # Import the seaborn library for data visualization\n",
    "plt.figure(figsize=(20, 6)) # Set the size of the figure\n",
    "plt.title('Representation of Missing Values (Matrix of NaN)', fontsize=20) # Set the title of the figure\n",
    "sns.heatmap(df.isna(), cbar=False) # Create a heatmap of missing values\n",
    "plt.show() # Display the figure so that it is visible in the notebook."
   ],
   "metadata": {
    "collapsed": false,
    "ExecuteTime": {
     "end_time": "2024-03-28T14:32:34.517908Z",
     "start_time": "2024-03-28T14:32:30.980514Z"
    }
   },
   "id": "be7e6b5bd1ff5418",
   "execution_count": 22
  },
  {
   "cell_type": "markdown",
   "source": [
    "## Erase columns with less than 50% missing values"
   ],
   "metadata": {
    "collapsed": false
   },
   "id": "e397bad590c9fc18"
  },
  {
   "cell_type": "code",
   "outputs": [],
   "source": [
    "df.drop(columns=percentage_Nan[percentage_Nan > 50].index, inplace=True) # Drop columns with more than 50% missing values"
   ],
   "metadata": {
    "collapsed": false,
    "ExecuteTime": {
     "end_time": "2024-03-28T14:32:34.538701Z",
     "start_time": "2024-03-28T14:32:34.519915Z"
    }
   },
   "id": "12effc5f4daf1aad",
   "execution_count": 23
  },
  {
   "cell_type": "code",
   "outputs": [
    {
     "data": {
      "text/plain": "(200137, 12)"
     },
     "execution_count": 24,
     "metadata": {},
     "output_type": "execute_result"
    }
   ],
   "source": [
    "df.shape # Display the number of rows and columns in the DataFrame"
   ],
   "metadata": {
    "collapsed": false,
    "ExecuteTime": {
     "end_time": "2024-03-28T14:32:34.549328Z",
     "start_time": "2024-03-28T14:32:34.541711Z"
    }
   },
   "id": "6b287c6ddf2bcdd0",
   "execution_count": 24
  },
  {
   "cell_type": "code",
   "outputs": [
    {
     "data": {
      "text/plain": "<Figure size 2000x600 with 1 Axes>",
      "image/png": "[encoded data removed]"
     },
     "metadata": {},
     "output_type": "display_data"
    }
   ],
   "source": [
    "plt.figure(figsize=(20, 6)) # Set the size of the figure\n",
    "plt.title('Representation of Missing Values (Matrix of NaN after removing columns with more than 50% missing values)', fontsize=20) # Set the title of the figure\n",
    "sns.heatmap(df.isna(), cbar=False) # Create a heatmap of missing values after removing columns with more than 50% missing values\n",
    "plt.show() # Display the figure so that it is visible in the notebook and the missing values are visible."
   ],
   "metadata": {
    "collapsed": false,
    "ExecuteTime": {
     "end_time": "2024-03-28T14:32:37.175324Z",
     "start_time": "2024-03-28T14:32:34.551339Z"
    }
   },
   "id": "3a7c9bdcc315c150",
   "execution_count": 25
  },
  {
   "cell_type": "markdown",
   "source": [
    "## Outlier Treatment\n"
   ],
   "metadata": {
    "collapsed": false
   },
   "id": "bedf0a84c446155"
  },
  {
   "cell_type": "code",
   "outputs": [
    {
     "data": {
      "text/plain": "<Figure size 1600x400 with 2 Axes>",
      "image/png": "[encoded data removed]"
     },
     "metadata": {},
     "output_type": "display_data"
    }
   ],
   "source": [
    "# Set the size of the entire figure\n",
    "plt.figure(figsize=(16, 4))\n",
    "\n",
    "# Create the first subplot for the circumference\n",
    "plt.subplot(1, 2, 1) # (rows, columns, subplot index)\n",
    "sns.boxplot(x='circonference_cm',data=df)\n",
    "plt.title(\"Boxplot for Circumference Before Outlier Removal\")\n",
    "\n",
    "# Create the second subplot for the height\n",
    "plt.subplot(1, 2, 2) # (rows, columns, subplot index)\n",
    "sns.boxplot(x='hauteur_m', data=df)\n",
    "plt.title(\"Boxplot for Height Before Outlier Removal\")\n",
    "\n",
    "plt.show()"
   ],
   "metadata": {
    "collapsed": false,
    "ExecuteTime": {
     "end_time": "2024-03-28T14:32:37.502049Z",
     "start_time": "2024-03-28T14:32:37.176333Z"
    }
   },
   "id": "db60d3195426c211",
   "execution_count": 26
  },
  {
   "cell_type": "markdown",
   "source": [
    "## Understanding Boxplots\n",
    "\n",
    "A boxplot, also known as a box-and-whisker plot, is a standardized way of displaying the distribution of data based on a five-number summary: minimum, first quartile (Q1), median, third quartile (Q3), and maximum. It can tell you about your outliers and what their values are. It can also tell you if your data is symmetrical, how tightly your data is grouped, and if and how your data is skewed.\n",
    "\n",
    "### Components of a Boxplot\n",
    "\n",
    "- **Central Box**: The central box of the boxplot represents the interquartile range (IQR), which is the distance between the first and third quartiles. The bottom and top edges of the box indicate the Q1 and Q3, respectively. The line inside the box shows the median of the data.\n",
    "\n",
    "- **Whiskers**: The lines extending from the top and bottom of the box, known as whiskers, indicate variability outside the upper and lower quartiles. They extend to the last data point that is within 1.5 times the IQR.\n",
    "\n",
    "- **Outliers**: Points outside the range of the whiskers are considered outliers and are represented as individual points. These are the data points that fall beyond the end of the whiskers and can indicate anomalies in the data set.\n",
    "\n",
    "### What Boxplots Reveal\n",
    "\n",
    "- **Outliers**: By identifying outliers, boxplots allow analysts to detect and examine anomalous observations that may need further investigation.\n",
    "\n",
    "- **Data Distribution**: Boxplots provide a visual summary of the central tendency, dispersion, and skewness of the data distribution.\n",
    "\n",
    "- **Comparisons**: When used side by side, boxplots can quickly compare distributions across different categories or groups.\n",
    "\n",
    "Boxplots are especially useful in exploratory data analysis and are well-suited for both data scientists and individuals new to data science due to their simplicity and richness of information.\n"
   ],
   "metadata": {
    "collapsed": false
   },
   "id": "d283fe17c78e4b1b"
  },
  {
   "cell_type": "markdown",
   "source": [
    "## Removing Outliers"
   ],
   "metadata": {
    "collapsed": false
   },
   "id": "3a50eff060b602dc"
  },
  {
   "cell_type": "markdown",
   "source": [
    "### Circumference"
   ],
   "metadata": {
    "collapsed": false
   },
   "id": "3d7ef6b797c44664"
  },
  {
   "cell_type": "code",
   "outputs": [
    {
     "data": {
      "text/plain": "count    196728.000000\nmean         76.053241\nstd          56.588084\nmin           0.000000\n25%          30.000000\n50%          70.000000\n75%         110.000000\nmax         242.000000\nName: circonference_cm, dtype: float64"
     },
     "execution_count": 34,
     "metadata": {},
     "output_type": "execute_result"
    }
   ],
   "source": [
    "## statistics for circumference before removal of outliers\n",
    "df['circonference_cm'].describe()"
   ],
   "metadata": {
    "collapsed": false,
    "ExecuteTime": {
     "end_time": "2024-03-28T14:48:04.859035Z",
     "start_time": "2024-03-28T14:48:04.844837Z"
    }
   },
   "id": "2a6df47ca34fd0eb",
   "execution_count": 34
  },
  {
   "cell_type": "code",
   "outputs": [
    {
     "name": "stdout",
     "output_type": "stream",
     "text": [
      "Test statistic: 11054.04852779229\n",
      "P-value: 0.0\n",
      "The null hypothesis can be rejected: the distribution is not normal.\n"
     ]
    }
   ],
   "source": [
    "### Detect if distrubution is normal\n",
    "from scipy.stats import normaltest\n",
    "stat, p = normaltest(df['circonference_cm']) # Perform the normality test\n",
    "alpha = 0.05 # Set the significance level\n",
    "print(\"Test statistic:\", stat) # Display the test statistic\n",
    "print(\"P-value:\", p) # Display the p-value\n",
    "if p < alpha: # Check if the p-value is less than the significance level\n",
    "    print(\"The null hypothesis can be rejected: the distribution is not normal.\")\n",
    "else:\n",
    "    print(\"The null hypothesis cannot be rejected: the distribution is normal.\")"
   ],
   "metadata": {
    "collapsed": false,
    "ExecuteTime": {
     "end_time": "2024-03-28T14:56:57.394044Z",
     "start_time": "2024-03-28T14:56:57.359919Z"
    }
   },
   "id": "dcf3a316657aa955",
   "execution_count": 36
  },
  {
   "cell_type": "markdown",
   "source": [
    "### Using the IQR method to remove outliers for circumference because the distribution is not normal"
   ],
   "metadata": {
    "collapsed": false
   },
   "id": "a0941da7471ee322"
  },
  {
   "cell_type": "code",
   "outputs": [],
   "source": [
    "# remove outliers for circumference\n",
    "Q1 = df['circonference_cm'].quantile(0.25) # Calculate the first quartile (Q1)\n",
    "Q3 = df['circonference_cm'].quantile(0.75) # Calculate the third quartile (Q3)\n",
    "IQR = Q3 - Q1 # Calculate the interquartile range (IQR)\n"
   ],
   "metadata": {
    "collapsed": false,
    "ExecuteTime": {
     "end_time": "2024-03-28T14:32:37.517620Z",
     "start_time": "2024-03-28T14:32:37.503566Z"
    }
   },
   "id": "b044fefd51dc28a4",
   "execution_count": 27
  },
  {
   "cell_type": "code",
   "outputs": [
    {
     "name": "stdout",
     "output_type": "stream",
     "text": [
      "Lower bound for outliers: -97.5\n",
      "Upper bound for outliers: 242.5\n"
     ]
    }
   ],
   "source": [
    "# Calculate the lower and upper bounds for the outliers\n",
    "lower_bound = Q1 - 1.5 * IQR\n",
    "print(f'Lower bound for outliers: {lower_bound}')\n",
    "upper_bound = Q3 + 1.5 * IQR\n",
    "print(f'Upper bound for outliers: {upper_bound}')"
   ],
   "metadata": {
    "collapsed": false,
    "ExecuteTime": {
     "end_time": "2024-03-28T14:49:11.641954Z",
     "start_time": "2024-03-28T14:49:11.636789Z"
    }
   },
   "id": "2bec375ba20e9441",
   "execution_count": 35
  },
  {
   "cell_type": "code",
   "outputs": [],
   "source": [
    "# Remove outliers for circumference\n",
    "df = df[(df['circonference_cm'] >= lower_bound) & (df['circonference_cm'] <= upper_bound)]"
   ],
   "metadata": {
    "collapsed": false,
    "ExecuteTime": {
     "end_time": "2024-03-28T14:33:25.264169Z",
     "start_time": "2024-03-28T14:33:25.220969Z"
    }
   },
   "id": "4d6ed3bf8b121b52",
   "execution_count": 30
  },
  {
   "cell_type": "code",
   "outputs": [
    {
     "data": {
      "text/plain": "<Figure size 800x400 with 1 Axes>",
      "image/png": "[encoded data removed]"
     },
     "metadata": {},
     "output_type": "display_data"
    }
   ],
   "source": [
    "plt.figure(figsize=(8,4))\n",
    "sns.boxplot(x='circonference_cm', data=df)\n",
    "plt.title(\"Boxplot for circumference after removal of outliers\")\n",
    "plt.show()"
   ],
   "metadata": {
    "collapsed": false,
    "ExecuteTime": {
     "end_time": "2024-03-28T14:41:43.015431Z",
     "start_time": "2024-03-28T14:41:42.819301Z"
    }
   },
   "id": "81d1f35cfdeb19d3",
   "execution_count": 32
  },
  {
   "cell_type": "code",
   "outputs": [
    {
     "data": {
      "text/plain": "count    196728.000000\nmean         76.053241\nstd          56.588084\nmin           0.000000\n25%          30.000000\n50%          70.000000\n75%         110.000000\nmax         242.000000\nName: circonference_cm, dtype: float64"
     },
     "execution_count": 33,
     "metadata": {},
     "output_type": "execute_result"
    }
   ],
   "source": [
    "## statistics for circumference after removal of outliers\n",
    "df['circonference_cm'].describe()"
   ],
   "metadata": {
    "collapsed": false,
    "ExecuteTime": {
     "end_time": "2024-03-28T14:46:56.415556Z",
     "start_time": "2024-03-28T14:46:56.402355Z"
    }
   },
   "id": "311487813a3d0d5c",
   "execution_count": 33
  },
  {
   "cell_type": "markdown",
   "source": [
    "### Height"
   ],
   "metadata": {
    "collapsed": false
   },
   "id": "f3b985b18edb9981"
  },
  {
   "cell_type": "code",
   "outputs": [
    {
     "data": {
      "text/plain": "count    196728.000000\nmean         12.988781\nstd        1988.221864\nmin           0.000000\n25%           5.000000\n50%           8.000000\n75%          12.000000\nmax      881818.000000\nName: hauteur_m, dtype: float64"
     },
     "execution_count": 37,
     "metadata": {},
     "output_type": "execute_result"
    }
   ],
   "source": [
    "## statistics for height before removal of outliers\n",
    "df['hauteur_m'].describe()"
   ],
   "metadata": {
    "collapsed": false,
    "ExecuteTime": {
     "end_time": "2024-03-28T14:59:51.189224Z",
     "start_time": "2024-03-28T14:59:51.176067Z"
    }
   },
   "id": "25dd0d3325235484",
   "execution_count": 37
  },
  {
   "cell_type": "code",
   "outputs": [],
   "source": [
    "### Detect if distrubution is normal\n",
    "stat, p = normaltest(df['hauteur_m']) # Perform the normality test\n",
    "alpha = 0.05 # Set the significance level\n",
    "print(\"Test statistic:\", stat) # Display the test statistic\n",
    "print(\"P-value:\", p) # Display the p-value\n",
    "if p < alpha: # Check if the p-value is less than the significance level\n",
    "    print(\"The null hypothesis can be rejected: the distribution is not normal.\")\n",
    "else:\n",
    "    print(\"The null hypothesis cannot be rejected: the distribution is normal.\")"
   ],
   "metadata": {
    "collapsed": false
   },
   "id": "19d31000885d7fc3"
  }
 ],
 "metadata": {
  "kernelspec": {
   "display_name": "Python 3 (ipykernel)",
   "language": "python",
   "name": "python3"
  },
  "language_info": {
   "codemirror_mode": {
    "name": "ipython",
    "version": 3
   },
   "file_extension": ".py",
   "mimetype": "text/x-python",
   "name": "python",
   "nbconvert_exporter": "python",
   "pygments_lexer": "ipython3",
   "version": "3.11.7"
  }
 },
 "nbformat": 4,
 "nbformat_minor": 5
}
